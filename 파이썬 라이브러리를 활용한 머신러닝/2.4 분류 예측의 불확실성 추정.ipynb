{
 "cells": [
  {
   "cell_type": "markdown",
   "metadata": {},
   "source": [
    "### 2.4.2 결정 함수"
   ]
  },
  {
   "cell_type": "code",
   "execution_count": 2,
   "metadata": {},
   "outputs": [],
   "source": [
    "from IPython.display import display\n",
    "\n",
    "import numpy as np\n",
    "\n",
    "import matplotlib.pyplot as plt\n",
    "\n",
    "%matplotlib inline\n",
    "\n",
    "import pandas as pd\n",
    "\n",
    "import mglearn\n",
    "\n",
    "from sklearn.model_selection import train_test_split\n",
    "\n",
    "from sklearn.datasets import load_breast_cancer\n",
    "\n",
    "cancer = load_breast_cancer()\n",
    "\n",
    "from sklearn.neural_network import MLPClassifier\n",
    "from sklearn.datasets import make_moons\n",
    "\n",
    "from sklearn.ensemble import GradientBoostingClassifier\n",
    "from sklearn.datasets import make_circles\n",
    "\n",
    "import platform\n",
    "\n",
    "from matplotlib import font_manager, rc\n",
    "plt.rcParams['axes.unicode_minus']=False\n",
    "\n",
    "if platform.system()=='Darwin':\n",
    "    rc('font', family='AppleGothic')\n",
    "elif platform.system() =='Windows':\n",
    "    path = 'c:/Windows/Fonts/malgun.ttf'\n",
    "    font_name = font_manager.FontProperties(fname=path).get_name()\n",
    "    rc('font', family=font_name)\n",
    "else:\n",
    "    print('Unknown system... sorry~~~~')"
   ]
  },
  {
   "cell_type": "code",
   "execution_count": 3,
   "metadata": {},
   "outputs": [
    {
     "data": {
      "text/plain": [
       "GradientBoostingClassifier(criterion='friedman_mse', init=None,\n",
       "                           learning_rate=0.1, loss='deviance', max_depth=3,\n",
       "                           max_features=None, max_leaf_nodes=None,\n",
       "                           min_impurity_decrease=0.0, min_impurity_split=None,\n",
       "                           min_samples_leaf=1, min_samples_split=2,\n",
       "                           min_weight_fraction_leaf=0.0, n_estimators=100,\n",
       "                           n_iter_no_change=None, presort='auto',\n",
       "                           random_state=0, subsample=1.0, tol=0.0001,\n",
       "                           validation_fraction=0.1, verbose=0,\n",
       "                           warm_start=False)"
      ]
     },
     "execution_count": 3,
     "metadata": {},
     "output_type": "execute_result"
    }
   ],
   "source": [
    "X, y = make_circles(noise=0.25, factor=0.5, random_state=1)\n",
    "\n",
    "# 예제를 위해 클래스의 이름'blue'와 'red'로 바꿉니다.\n",
    "y_named = np.array(['blue','red'])[y]\n",
    "\n",
    "# 여러 개의 배열을 한꺼번에 train_test_split에 넣울 수 있습니다.\n",
    "# 훈련 세트와 테스트 세트로 나뉘는 방식은 똑같습니다.\n",
    "X_train, X_test, y_train_named, y_test_named, y_train, y_test = train_test_split(X,y_named,y,random_state=0)\n",
    "\n",
    "#그래디언트 부스팅 모델을 만듭니다.\n",
    "gbrt = GradientBoostingClassifier(random_state=0)\n",
    "gbrt.fit(X_train, y_train_named)"
   ]
  },
  {
   "cell_type": "code",
   "execution_count": 4,
   "metadata": {},
   "outputs": [
    {
     "name": "stdout",
     "output_type": "stream",
     "text": [
      "X_Test.shape: (25, 2)\n",
      "결정 함수 결과 행태: (25,)\n"
     ]
    }
   ],
   "source": [
    "print('X_Test.shape:', X_test.shape )\n",
    "print('결정 함수 결과 행태:', gbrt.decision_function(X_test).shape)"
   ]
  },
  {
   "cell_type": "code",
   "execution_count": 9,
   "metadata": {},
   "outputs": [
    {
     "data": {
      "text/plain": [
       "array([-2.69198006, -3.73723417, -4.00252861, -4.17231209, -4.17231209,\n",
       "       -4.10687349, -6.13863529, -3.62599351, -3.62599351,  4.11001634,\n",
       "       -3.45608201,  3.40782247, -2.22566979, -6.17578964, -5.17375355,\n",
       "        4.13592629,  3.57353162,  4.28986668,  3.81509573,  2.4582176 ,\n",
       "       -4.02374929, -3.50782825,  4.03602808, -3.53761762, -4.4636664 ,\n",
       "       -4.35690087,  4.03171995,  4.22052974,  4.28986668, -5.03025403,\n",
       "       -3.63716492, -2.54804249, -3.26462504,  4.11001634, -6.96441363,\n",
       "        4.13592629,  2.4582176 , -4.20875267,  2.51949735, -4.17231209,\n",
       "        2.73639149,  4.28986668, -6.96441363,  4.82986045,  4.28986668,\n",
       "       -4.17231209, -4.02374929,  4.28986668,  2.73786872, -5.62446386,\n",
       "        2.60378131, -2.09767851, -5.02205305,  4.28986668,  4.28986668,\n",
       "       -4.13987078,  4.11001634, -3.45608201, -5.27754447, -2.90325601,\n",
       "        4.13592629, -3.64636705,  2.96939851,  3.57353162,  3.57353162,\n",
       "       -5.44429607, -3.20282228,  2.361909  , -3.48711761,  4.11001634,\n",
       "       -4.17231209,  3.99494607, -2.15224771,  4.13592629,  2.35700782])"
      ]
     },
     "execution_count": 9,
     "metadata": {},
     "output_type": "execute_result"
    }
   ],
   "source": [
    "gbrt.decision_function(X_train)"
   ]
  },
  {
   "cell_type": "code",
   "execution_count": 11,
   "metadata": {},
   "outputs": [
    {
     "name": "stdout",
     "output_type": "stream",
     "text": [
      "결정 함수:\n",
      " [ 4.13592629 -1.7016989  -3.95106099 -3.62599351  4.28986668  3.66166106]\n"
     ]
    }
   ],
   "source": [
    "# 결정 함수 결과 중 앞 부분 일부를 확인합니다.\n",
    "print('결정 함수:\\n', gbrt.decision_function(X_test)[:6])"
   ]
  },
  {
   "cell_type": "code",
   "execution_count": 12,
   "metadata": {},
   "outputs": [
    {
     "name": "stdout",
     "output_type": "stream",
     "text": [
      "임계치와 결정 함수 결과 비교:\n",
      " [ True False False False  True  True False  True  True  True False  True\n",
      "  True False  True False False False  True  True  True  True  True False\n",
      " False]\n",
      "예측:\n",
      " ['red' 'blue' 'blue' 'blue' 'red' 'red' 'blue' 'red' 'red' 'red' 'blue'\n",
      " 'red' 'red' 'blue' 'red' 'blue' 'blue' 'blue' 'red' 'red' 'red' 'red'\n",
      " 'red' 'blue' 'blue']\n"
     ]
    }
   ],
   "source": [
    "print('임계치와 결정 함수 결과 비교:\\n', gbrt.decision_function(X_test)>0)\n",
    "print('예측:\\n', gbrt.predict(X_test))"
   ]
  },
  {
   "cell_type": "code",
   "execution_count": 14,
   "metadata": {},
   "outputs": [
    {
     "name": "stdout",
     "output_type": "stream",
     "text": [
      "pred는 예측 결과가 같다: True\n"
     ]
    }
   ],
   "source": [
    "# 불리언 값을 0과 1로 변환합니다.\n",
    "greater_zero = (gbrt.decision_function(X_test) >0).astype(int)\n",
    "# classes_에 인덱스로 사용합니다.\n",
    "pred = gbrt.classes_[greater_zero]\n",
    "# pred 와 gbrtpredict의 결과를 비교합니다.\n",
    "print('pred는 예측 결과가 같다:', np.all(pred == gbrt.predict(X_test)))"
   ]
  },
  {
   "cell_type": "code",
   "execution_count": 18,
   "metadata": {},
   "outputs": [
    {
     "name": "stdout",
     "output_type": "stream",
     "text": [
      "결정 함수 최솟값: -7.69 최댓값: 4.29\n"
     ]
    }
   ],
   "source": [
    "decision_function = gbrt.decision_function(X_test)\n",
    "print('결정 함수 최솟값: {:.2f} 최댓값: {:.2f}'.format(np.min(decision_function), np.max(decision_function)))"
   ]
  },
  {
   "cell_type": "code",
   "execution_count": 22,
   "metadata": {},
   "outputs": [
    {
     "data": {
      "text/plain": [
       "<matplotlib.legend.Legend at 0x2432a3e3e48>"
      ]
     },
     "execution_count": 22,
     "metadata": {},
     "output_type": "execute_result"
    },
    {
     "data": {
      "image/png": "[encoded data removed]",
      "text/plain": [
       "<Figure size 936x360 with 3 Axes>"
      ]
     },
     "metadata": {
      "needs_background": "light"
     },
     "output_type": "display_data"
    }
   ],
   "source": [
    "fig, axes = plt.subplots(1,2, figsize=(13,5))\n",
    "\n",
    "mglearn.tools.plot_2d_separator(gbrt, X, ax=axes[0], alpha =.4,\n",
    "                               fill = True, cm = mglearn.cm2)\n",
    "scores_image = mglearn.tools.plot_2d_scores(gbrt, X, ax=axes[1], alpha=.4, cm=mglearn.ReBl)\n",
    "\n",
    "for ax in axes :\n",
    "    # 훈련 포인트와 테스트 포인트를 그리기\n",
    "    mglearn.discrete_scatter(X_test[:, 0], X_test[:,1], y_test,\n",
    "                            markers= '^', ax = ax)\n",
    "    mglearn.discrete_scatter(X_train[:,0], X_train[:,1], y_train,\n",
    "                            markers='o', ax= ax)\n",
    "    \n",
    "    ax.set_xlabel('특성 0')\n",
    "    ax.set_ylabel('특성 1')\n",
    "    \n",
    "cbar = plt.colorbar(scores_image, ax =axes.tolist())\n",
    "cbar.set_alpha(1)\n",
    "cbar.draw_all()\n",
    "axes[0].legend(['테스트 클래스 0', '테스트 클래스 1', '훈련 클래스 0', '훈련 클래스 1'], ncol =4, loc=(.1,1.1))\n"
   ]
  },
  {
   "cell_type": "markdown",
   "metadata": {},
   "source": [
    "### 2.4.2 예측 확률"
   ]
  },
  {
   "cell_type": "code",
   "execution_count": 23,
   "metadata": {},
   "outputs": [
    {
     "name": "stdout",
     "output_type": "stream",
     "text": [
      "확률 값의 형태: (25, 2)\n"
     ]
    }
   ],
   "source": [
    "print('확률 값의 형태:', gbrt.predict_proba(X_test).shape)"
   ]
  },
  {
   "cell_type": "code",
   "execution_count": 25,
   "metadata": {},
   "outputs": [
    {
     "data": {
      "text/plain": [
       "array([[1.57362600e-02, 9.84263740e-01],\n",
       "       [8.45756491e-01, 1.54243509e-01],\n",
       "       [9.81128693e-01, 1.88713075e-02],\n",
       "       [9.74067751e-01, 2.59322495e-02],\n",
       "       [1.35214179e-02, 9.86478582e-01],\n",
       "       [2.50463685e-02, 9.74953631e-01],\n",
       "       [9.99543275e-01, 4.56725227e-04],\n",
       "       [1.61426459e-02, 9.83857354e-01],\n",
       "       [2.48330011e-01, 7.51669989e-01],\n",
       "       [3.20518856e-02, 9.67948114e-01],\n",
       "       [9.98441742e-01, 1.55825797e-03],\n",
       "       [1.35214179e-02, 9.86478582e-01],\n",
       "       [1.98099196e-02, 9.80190080e-01],\n",
       "       [7.68580268e-01, 2.31419732e-01],\n",
       "       [2.50463685e-02, 9.74953631e-01],\n",
       "       [9.84817488e-01, 1.51825121e-02],\n",
       "       [7.73836115e-01, 2.26163885e-01],\n",
       "       [9.80463918e-01, 1.95360817e-02],\n",
       "       [1.73607853e-02, 9.82639215e-01],\n",
       "       [1.61426459e-02, 9.83857354e-01],\n",
       "       [1.61426459e-02, 9.83857354e-01],\n",
       "       [3.41393690e-01, 6.58606310e-01],\n",
       "       [6.30759354e-02, 9.36924065e-01],\n",
       "       [9.34424780e-01, 6.55752202e-02],\n",
       "       [8.66199569e-01, 1.33800431e-01]])"
      ]
     },
     "execution_count": 25,
     "metadata": {},
     "output_type": "execute_result"
    }
   ],
   "source": [
    "gbrt.predict_proba(X_test)"
   ]
  },
  {
   "cell_type": "code",
   "execution_count": 26,
   "metadata": {},
   "outputs": [
    {
     "name": "stdout",
     "output_type": "stream",
     "text": [
      "예측 확률:\n",
      " [[0.01573626 0.98426374]\n",
      " [0.84575649 0.15424351]\n",
      " [0.98112869 0.01887131]\n",
      " [0.97406775 0.02593225]\n",
      " [0.01352142 0.98647858]\n",
      " [0.02504637 0.97495363]]\n"
     ]
    }
   ],
   "source": [
    "# predict_proba 결과 중 앞부분 일부를 확인합니다.\n",
    "print('예측 확률:\\n', gbrt.predict_proba(X_test[:6]))"
   ]
  },
  {
   "cell_type": "code",
   "execution_count": 29,
   "metadata": {},
   "outputs": [
    {
     "data": {
      "text/plain": [
       "<matplotlib.legend.Legend at 0x2432a719780>"
      ]
     },
     "execution_count": 29,
     "metadata": {},
     "output_type": "execute_result"
    },
    {
     "data": {
      "image/png": "[encoded data removed]",
      "text/plain": [
       "<Figure size 936x360 with 3 Axes>"
      ]
     },
     "metadata": {
      "needs_background": "light"
     },
     "output_type": "display_data"
    }
   ],
   "source": [
    "fig, axes = plt.subplots(1,2, figsize = (13,5))\n",
    "\n",
    "mglearn.tools.plot_2d_separator(\n",
    "    gbrt, X, ax=axes[0], alpha=.4, fill =True, cm = mglearn.cm2)\n",
    "scores_image = mglearn.tools.plot_2d_scores(\n",
    "    gbrt, X, ax=axes[1], alpha =.5, cm=mglearn.ReBl, function='predict_proba')\n",
    "for ax in axes:\n",
    "    # 훈련 포인트와 테스트 포인트를 그리기\n",
    "    mglearn.discrete_scatter(X_test[:,0], X_test[:,1], y_test,\n",
    "                            markers= '^', ax = ax)\n",
    "    mglearn.discrete_scatter(X_train[:,0], X_train[:,1], y_train,\n",
    "                            markers= 'o', ax = ax)\n",
    "    ax.set_xlabel('특성 0')\n",
    "    ax.set_ylabel('특성 1')\n",
    "# colorbar를 감추지 않습니다.\n",
    "cbar = plt.colorbar(scores_image, ax= axes.tolist())\n",
    "cbar.set_alpha(1)\n",
    "cbar.draw_all()\n",
    "axes[0].legend(['테스트 클래스 0', '테스트 클래스 1', '훈련 클래스 0', '훈련 클래스 1'], ncol=4, loc=(.1,1.1))\n"
   ]
  },
  {
   "cell_type": "markdown",
   "metadata": {},
   "source": [
    "### 2.4.3 다중 분류에서의 불확실성"
   ]
  },
  {
   "cell_type": "code",
   "execution_count": 30,
   "metadata": {},
   "outputs": [],
   "source": [
    "from sklearn.datasets import load_iris"
   ]
  },
  {
   "cell_type": "code",
   "execution_count": 31,
   "metadata": {},
   "outputs": [],
   "source": [
    "iris = load_iris()"
   ]
  },
  {
   "cell_type": "code",
   "execution_count": 32,
   "metadata": {},
   "outputs": [],
   "source": [
    "X_train, X_test, y_train, y_test = train_test_split(iris.data, iris.target, random_state = 42)"
   ]
  },
  {
   "cell_type": "code",
   "execution_count": 39,
   "metadata": {},
   "outputs": [
    {
     "data": {
      "text/plain": [
       "GradientBoostingClassifier(criterion='friedman_mse', init=None,\n",
       "                           learning_rate=0.01, loss='deviance', max_depth=3,\n",
       "                           max_features=None, max_leaf_nodes=None,\n",
       "                           min_impurity_decrease=0.0, min_impurity_split=None,\n",
       "                           min_samples_leaf=1, min_samples_split=2,\n",
       "                           min_weight_fraction_leaf=0.0, n_estimators=100,\n",
       "                           n_iter_no_change=None, presort='auto',\n",
       "                           random_state=0, subsample=1.0, tol=0.0001,\n",
       "                           validation_fraction=0.1, verbose=0,\n",
       "                           warm_start=False)"
      ]
     },
     "execution_count": 39,
     "metadata": {},
     "output_type": "execute_result"
    }
   ],
   "source": [
    "gbrt= GradientBoostingClassifier(learning_rate = 0.01, random_state = 0)\n",
    "gbrt.fit(X_train, y_train)"
   ]
  },
  {
   "cell_type": "code",
   "execution_count": 40,
   "metadata": {},
   "outputs": [
    {
     "name": "stdout",
     "output_type": "stream",
     "text": [
      "결정 함수의 결과 형태: (38, 3)\n",
      "결정 함수의 결과:\n",
      " [[-1.9957153   0.04758118 -1.92721297]\n",
      " [ 0.0614655  -1.90755689 -1.92793177]\n",
      " [-1.99058105 -1.87637856  0.09686741]\n",
      " [-1.9957153   0.04758118 -1.92721297]\n",
      " [-1.99730166 -0.13469231 -1.20341532]\n",
      " [ 0.0614655  -1.90755689 -1.92793177]]\n"
     ]
    }
   ],
   "source": [
    "print('결정 함수의 결과 형태:', gbrt.decision_function(X_test).shape)\n",
    "print('결정 함수의 결과:\\n', gbrt.decision_function(X_test)[:6, :])"
   ]
  },
  {
   "cell_type": "code",
   "execution_count": 41,
   "metadata": {},
   "outputs": [
    {
     "name": "stdout",
     "output_type": "stream",
     "text": [
      "가장 큰 결정 함수의 인덱스:\n",
      " [1 0 2 1 1 0 1 2 1 1 2 0 0 0 0 1 2 1 1 2 0 2 0 2 2 2 2 2 0 0 0 0 1 0 0 2 1\n",
      " 0]\n",
      "예측:\n",
      " [1 0 2 1 1 0 1 2 1 1 2 0 0 0 0 1 2 1 1 2 0 2 0 2 2 2 2 2 0 0 0 0 1 0 0 2 1\n",
      " 0]\n"
     ]
    }
   ],
   "source": [
    "print('가장 큰 결정 함수의 인덱스:\\n',\n",
    "     np.argmax(gbrt.decision_function(X_test), axis=1))\n",
    "print('예측:\\n', gbrt.predict(X_test))"
   ]
  },
  {
   "cell_type": "code",
   "execution_count": 42,
   "metadata": {},
   "outputs": [
    {
     "name": "stdout",
     "output_type": "stream",
     "text": [
      "예측 확률 :\n",
      " [[0.10217734 0.78840063 0.10942203]\n",
      " [0.7834712  0.1093673  0.1071615 ]\n",
      " [0.09818079 0.11005862 0.79176059]\n",
      " [0.10217734 0.78840063 0.10942203]\n",
      " [0.10360014 0.66723882 0.22916105]\n",
      " [0.7834712  0.1093673  0.1071615 ]]\n",
      "합: [1. 1. 1. 1. 1. 1.]\n"
     ]
    }
   ],
   "source": [
    "# predict_proba 결과 중 앞부분 일부를 확인합니다.\n",
    "print('예측 확률 :\\n', gbrt.predict_proba(X_test)[:6])\n",
    "# 행 방향으로 확률을 더하면 1이 된다.\n",
    "print('합:', gbrt.predict_proba(X_test)[:6].sum(axis=1))"
   ]
  },
  {
   "cell_type": "code",
   "execution_count": 43,
   "metadata": {},
   "outputs": [
    {
     "name": "stdout",
     "output_type": "stream",
     "text": [
      "가장 큰 예측 확률의 인덱스:\n",
      " [1 0 2 1 1 0 1 2 1 1 2 0 0 0 0 1 2 1 1 2 0 2 0 2 2 2 2 2 0 0 0 0 1 0 0 2 1\n",
      " 0]\n",
      "예측:\n",
      " [1 0 2 1 1 0 1 2 1 1 2 0 0 0 0 1 2 1 1 2 0 2 0 2 2 2 2 2 0 0 0 0 1 0 0 2 1\n",
      " 0]\n"
     ]
    }
   ],
   "source": [
    "print('가장 큰 예측 확률의 인덱스:\\n',\n",
    "     np.argmax(gbrt.predict_proba(X_test), axis =1))\n",
    "print('예측:\\n', gbrt.predict(X_test))"
   ]
  },
  {
   "cell_type": "code",
   "execution_count": 51,
   "metadata": {},
   "outputs": [],
   "source": [
    "from sklearn.linear_model import LogisticRegression\n",
    "from sklearn.svm import LinearSVC"
   ]
  },
  {
   "cell_type": "code",
   "execution_count": 56,
   "metadata": {
    "scrolled": true
   },
   "outputs": [
    {
     "name": "stdout",
     "output_type": "stream",
     "text": [
      "훈련 데이터에 있는 클래스 종류: ['setosa' 'versicolor' 'virginica']\n",
      "예측: LogisticRegression(C=1.0, class_weight=None, dual=False, fit_intercept=True,\n",
      "                   intercept_scaling=1, l1_ratio=None, max_iter=100,\n",
      "                   multi_class='warn', n_jobs=None, penalty='l2',\n",
      "                   random_state=None, solver='warn', tol=0.0001, verbose=0,\n",
      "                   warm_start=False)\n"
     ]
    },
    {
     "name": "stderr",
     "output_type": "stream",
     "text": [
      "C:\\Users\\multicampus\\Anaconda3\\lib\\site-packages\\sklearn\\linear_model\\logistic.py:432: FutureWarning: Default solver will be changed to 'lbfgs' in 0.22. Specify a solver to silence this warning.\n",
      "  FutureWarning)\n",
      "C:\\Users\\multicampus\\Anaconda3\\lib\\site-packages\\sklearn\\linear_model\\logistic.py:469: FutureWarning: Default multi_class will be changed to 'auto' in 0.22. Specify the multi_class option to silence this warning.\n",
      "  \"this warning.\", FutureWarning)\n",
      "C:\\Users\\multicampus\\Anaconda3\\lib\\site-packages\\sklearn\\linear_model\\logistic.py:432: FutureWarning: Default solver will be changed to 'lbfgs' in 0.22. Specify a solver to silence this warning.\n",
      "  FutureWarning)\n",
      "C:\\Users\\multicampus\\Anaconda3\\lib\\site-packages\\sklearn\\linear_model\\logistic.py:469: FutureWarning: Default multi_class will be changed to 'auto' in 0.22. Specify the multi_class option to silence this warning.\n",
      "  \"this warning.\", FutureWarning)\n"
     ]
    }
   ],
   "source": [
    "logreg = LogisticRegression()\n",
    "# iris 데이터셋의 타깃을 클래스 이름으로 나타내기\n",
    "named_target = iris.target_names[y_train]\n",
    "logreg.fit(X_train, named_target)\n",
    "print('훈련 데이터에 있는 클래스 종류:', logreg.classes_)\n",
    "print('예측:', logreg.fit(X_train, named_target))"
   ]
  },
  {
   "cell_type": "code",
   "execution_count": 69,
   "metadata": {
    "scrolled": true
   },
   "outputs": [
    {
     "name": "stdout",
     "output_type": "stream",
     "text": [
      "가장 큰 결정 함수의 인덱스: [1 0 2 1 1 0 1 2 1 1]\n",
      "인덱스를 classes_에 연결: ['versicolor' 'setosa' 'virginica' 'versicolor' 'versicolor' 'setosa'\n",
      " 'versicolor' 'virginica' 'versicolor' 'versicolor']\n"
     ]
    }
   ],
   "source": [
    "argmax_dec_func = np.argmax(logreg.decision_function(X_test), axis= 1)\n",
    "print('가장 큰 결정 함수의 인덱스:', argmax_dec_func[:10])\n",
    "print('인덱스를 classes_에 연결:', logreg.classes_[argmax_dec_func][:10])"
   ]
  },
  {
   "cell_type": "code",
   "execution_count": null,
   "metadata": {},
   "outputs": [],
   "source": []
  }
 ],
 "metadata": {
  "kernelspec": {
   "display_name": "Python 3",
   "language": "python",
   "name": "python3"
  },
  "language_info": {
   "codemirror_mode": {
    "name": "ipython",
    "version": 3
   },
   "file_extension": ".py",
   "mimetype": "text/x-python",
   "name": "python",
   "nbconvert_exporter": "python",
   "pygments_lexer": "ipython3",
   "version": "3.7.3"
  }
 },
 "nbformat": 4,
 "nbformat_minor": 2
}
