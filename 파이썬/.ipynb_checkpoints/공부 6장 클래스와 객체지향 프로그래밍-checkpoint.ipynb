{
 "cells": [
  {
   "cell_type": "code",
   "execution_count": 2,
   "metadata": {},
   "outputs": [],
   "source": [
    "class Person :\n",
    "    name = 'Alice'\n",
    "    age = 10\n",
    "    def __init__(self, name, age):\n",
    "        self.name = name\n",
    "        self.age =age\n",
    "    def __del__(self):\n",
    "        pass\n",
    "    def ageUp(self,n):\n",
    "        self.age += n\n",
    "    def __add__(self, other):\n",
    "        pass"
   ]
  },
  {
   "cell_type": "code",
   "execution_count": 7,
   "metadata": {},
   "outputs": [
    {
     "name": "stdout",
     "output_type": "stream",
     "text": [
      "Hi. I am doggy.\n"
     ]
    }
   ],
   "source": [
    "class Doggy:\n",
    "    def talk(self):\n",
    "        print(\"Hi. I am doggy.\")\n",
    "        \n",
    "happy = Doggy()\n",
    "happy.talk()"
   ]
  },
  {
   "cell_type": "code",
   "execution_count": 18,
   "metadata": {},
   "outputs": [
    {
     "name": "stdout",
     "output_type": "stream",
     "text": [
      "Hi. I am doggy.\n"
     ]
    }
   ],
   "source": [
    "happy = Doggy()\n",
    "happy.talk()\n",
    "milky = Doggy()\n",
    "choco = Doggy()"
   ]
  },
  {
   "cell_type": "code",
   "execution_count": 21,
   "metadata": {},
   "outputs": [
    {
     "name": "stdout",
     "output_type": "stream",
     "text": [
      "Hi. I am doggy.\n",
      "Hi. I am doggy.\n",
      "Hi. I am doggy.\n"
     ]
    }
   ],
   "source": [
    "happy.talk()\n",
    "milky.talk()\n",
    "choco.talk()"
   ]
  },
  {
   "cell_type": "code",
   "execution_count": 23,
   "metadata": {},
   "outputs": [
    {
     "name": "stdout",
     "output_type": "stream",
     "text": [
      "Hello, I am born!\n",
      "Hello, I am born!\n",
      "Hello, I am born!\n",
      "Hi. I am doggy\n",
      "Hi. I am doggy\n",
      "Hi. I am doggy\n"
     ]
    }
   ],
   "source": [
    "class Doggy:\n",
    "    def __init__(self):\n",
    "        print('Hello, I am born!')\n",
    "        \n",
    "    def talk(self):\n",
    "        print('Hi. I am doggy')\n",
    "        \n",
    "happy = Doggy()\n",
    "milky = Doggy()\n",
    "choco = Doggy()\n",
    "happy.talk()\n",
    "milky.talk()\n",
    "choco.talk()"
   ]
  },
  {
   "cell_type": "code",
   "execution_count": 24,
   "metadata": {},
   "outputs": [],
   "source": [
    "class Doggy:\n",
    "    def __init__(self, name):\n",
    "        self.name = name\n",
    "        print('Hello, I am born!')\n",
    "        \n",
    "    def talk(self):\n",
    "        print('Hi! I am', self.name)"
   ]
  },
  {
   "cell_type": "code",
   "execution_count": 25,
   "metadata": {},
   "outputs": [
    {
     "name": "stdout",
     "output_type": "stream",
     "text": [
      "Hello, I am born!\n",
      "Hello, I am born!\n",
      "Hello, I am born!\n",
      "Hi! I am happy\n",
      "Hi! I am milky\n",
      "Hi! I am choco\n"
     ]
    }
   ],
   "source": [
    "dog1 = Doggy('happy')\n",
    "dog2 = Doggy('milky')\n",
    "dog3 = Doggy('choco')\n",
    "\n",
    "dog1.talk()\n",
    "dog2.talk()\n",
    "dog3.talk()"
   ]
  },
  {
   "cell_type": "code",
   "execution_count": 26,
   "metadata": {},
   "outputs": [],
   "source": [
    "class Doggy:\n",
    "    def __init__(self, name, mood):\n",
    "        self.name = name\n",
    "        self.mood = mood\n",
    "        \n",
    "    def talk(self):\n",
    "        print('HI! I am', self.name, 'and I am', self.mood, 'now')"
   ]
  },
  {
   "cell_type": "code",
   "execution_count": 28,
   "metadata": {},
   "outputs": [
    {
     "name": "stdout",
     "output_type": "stream",
     "text": [
      "HI! I am happy and I am HAPPY now\n",
      "HI! I am milky and I am SAD now\n",
      "HI! I am choco and I am BORING now\n"
     ]
    }
   ],
   "source": [
    "dog1=Doggy('happy', 'HAPPY')\n",
    "dog2=Doggy('milky', 'SAD')\n",
    "dog3=Doggy('choco', 'BORING')\n",
    "dog1.talk()\n",
    "dog2.talk()\n",
    "dog3.talk()"
   ]
  },
  {
   "cell_type": "code",
   "execution_count": 29,
   "metadata": {},
   "outputs": [],
   "source": [
    "class Test:\n",
    "    def __init__(self):\n",
    "        self.value = 100\n",
    "        print(\"created with value : \", self.value)\n",
    "    def __del__(self):\n",
    "        print(\"deleted with value : \", self.value)\n",
    "    def set(self, v):\n",
    "        self.value =v"
   ]
  },
  {
   "cell_type": "code",
   "execution_count": 30,
   "metadata": {},
   "outputs": [
    {
     "name": "stdout",
     "output_type": "stream",
     "text": [
      "created with value :  100\n"
     ]
    }
   ],
   "source": [
    "x = Test()"
   ]
  },
  {
   "cell_type": "code",
   "execution_count": 33,
   "metadata": {},
   "outputs": [],
   "source": [
    "x.set(200)"
   ]
  },
  {
   "cell_type": "code",
   "execution_count": 34,
   "metadata": {},
   "outputs": [
    {
     "name": "stdout",
     "output_type": "stream",
     "text": [
      "created with value :  100\n",
      "deleted with value :  200\n"
     ]
    }
   ],
   "source": [
    "x = Test()"
   ]
  },
  {
   "cell_type": "code",
   "execution_count": 35,
   "metadata": {},
   "outputs": [],
   "source": [
    "x.set(50)"
   ]
  },
  {
   "cell_type": "code",
   "execution_count": 36,
   "metadata": {},
   "outputs": [
    {
     "name": "stdout",
     "output_type": "stream",
     "text": [
      "created with value :  100\n",
      "deleted with value :  50\n"
     ]
    }
   ],
   "source": [
    "x = Test()"
   ]
  },
  {
   "cell_type": "code",
   "execution_count": 42,
   "metadata": {},
   "outputs": [],
   "source": [
    "class student :\n",
    "    def __init__(self, no, name, score):\n",
    "        self.no = no\n",
    "        self.name =name\n",
    "        self.score = score\n",
    "    def printstudent(self):\n",
    "        print('no      : ', self.no)\n",
    "        print('name    : ', self.name)\n",
    "        print('score   : ', self.score)"
   ]
  },
  {
   "cell_type": "code",
   "execution_count": 43,
   "metadata": {},
   "outputs": [
    {
     "name": "stdout",
     "output_type": "stream",
     "text": [
      "no      :  20160000\n",
      "name    :  서강이\n",
      "score   :  95\n"
     ]
    }
   ],
   "source": [
    "s = student(20160000, '서강이', 95)\n",
    "s.printstudent()"
   ]
  },
  {
   "cell_type": "code",
   "execution_count": 6,
   "metadata": {},
   "outputs": [],
   "source": [
    "import datetime\n",
    "\n",
    "class Person :\n",
    "    def __init__ (self, name):\n",
    "        self.name = name\n",
    "        self.birthday = None\n",
    "    def setBirthday(self, birthDate):\n",
    "        self.birthday = birthDate\n",
    "    def getAge(self):\n",
    "        return (datetime.date.today() - self.birthday).days\n",
    "    def getName(self):\n",
    "        return self.name"
   ]
  },
  {
   "cell_type": "code",
   "execution_count": 10,
   "metadata": {},
   "outputs": [
    {
     "name": "stdout",
     "output_type": "stream",
     "text": [
      "Taylor Swift : 10779\n",
      "Barack Hussein Obama : 21137\n",
      "Hillary Cliton : 26168\n"
     ]
    }
   ],
   "source": [
    "me = Person('Taylor Swift')\n",
    "him = Person('Barack Hussein Obama')\n",
    "her = Person('Hillary Cliton')\n",
    "\n",
    "me.setBirthday(datetime.date(1989,12,13))\n",
    "him.setBirthday(datetime.date(1961,8,4))\n",
    "her.setBirthday(datetime.date(1947, 10, 26))\n",
    "\n",
    "personList = [me, him, her]\n",
    "for p in personList :\n",
    "    print(p.getName(), ':', p.getAge())"
   ]
  },
  {
   "cell_type": "code",
   "execution_count": 12,
   "metadata": {},
   "outputs": [
    {
     "name": "stdout",
     "output_type": "stream",
     "text": [
      "Birthday Tue Jun 18 11:33:05 2019\n",
      "Deathday Tue Jun 18 11:33:05 2019\n"
     ]
    }
   ],
   "source": [
    "import time\n",
    "class Life:\n",
    "    def __init__(self):\n",
    "        self.birth= time.ctime()\n",
    "        print('Birthday', self.birth)\n",
    "        \n",
    "    def __del__(self):\n",
    "        print('Deathday', time.ctime())\n",
    "        \n",
    "life = Life()\n",
    "del life"
   ]
  },
  {
   "cell_type": "code",
   "execution_count": 13,
   "metadata": {},
   "outputs": [
    {
     "name": "stdout",
     "output_type": "stream",
     "text": [
      "p1s name :  default\n",
      "p2s name :  default\n",
      "p1s name :  Alice\n",
      "p2s name :  default\n"
     ]
    }
   ],
   "source": [
    "class Person:\n",
    "    name = 'default'\n",
    "\n",
    "p1 = Person()\n",
    "p2 = Person()\n",
    "\n",
    "print('p1s name : ', p1.name)\n",
    "print('p2s name : ', p2.name)\n",
    "\n",
    "p1.name = 'Alice'\n",
    "print('p1s name : ', p1.name)\n",
    "print('p2s name : ', p2.name)"
   ]
  },
  {
   "cell_type": "code",
   "execution_count": 17,
   "metadata": {},
   "outputs": [
    {
     "name": "stdout",
     "output_type": "stream",
     "text": [
      "default default\n",
      "Alice Alice\n",
      "Bob Alice\n"
     ]
    }
   ],
   "source": [
    "class Person :\n",
    "    name = 'default'\n",
    "    \n",
    "p1 = Person()\n",
    "p2 = Person()\n",
    "print(p1.name ,p2.name)\n",
    "\n",
    "Person.name = 'Alice'\n",
    "print(p1.name, p2.name)\n",
    "\n",
    "p1.name = 'Bob'\n",
    "print(p1.name, p2.name)"
   ]
  },
  {
   "cell_type": "code",
   "execution_count": 50,
   "metadata": {},
   "outputs": [
    {
     "data": {
      "text/plain": [
       "4"
      ]
     },
     "execution_count": 50,
     "metadata": {},
     "output_type": "execute_result"
    }
   ],
   "source": [
    "class Account :\n",
    "    num_accounts = 0\n",
    "    \n",
    "    def __init__ (self, name):\n",
    "        self.name = name\n",
    "        Account.num_accounts +=1\n",
    "        \n",
    "    def __del__(self):\n",
    "        Account.num_accounts +=1\n",
    "        \n",
    "kim = Account('kim')\n",
    "lee = Account('lee')\n",
    "\n",
    "kim.name\n",
    "lee.name\n",
    "\n",
    "kim.num_accounts\n",
    "\n",
    "lee.num_accounts\n",
    "\n",
    "Account.num_accounts\n",
    "\n",
    "kim.num_accounts\n",
    "\n",
    "lee.num_accounts"
   ]
  },
  {
   "cell_type": "code",
   "execution_count": 51,
   "metadata": {},
   "outputs": [
    {
     "name": "stdout",
     "output_type": "stream",
     "text": [
      "sing a song\n"
     ]
    }
   ],
   "source": [
    "class Parent :\n",
    "    def can_sing(self):\n",
    "        print('sing a song')\n",
    "        \n",
    "father = Parent()\n",
    "father.can_sing()"
   ]
  },
  {
   "cell_type": "code",
   "execution_count": 54,
   "metadata": {},
   "outputs": [
    {
     "name": "stdout",
     "output_type": "stream",
     "text": [
      "sing a song\n"
     ]
    }
   ],
   "source": [
    "class LuckyChild(Parent):\n",
    "    pass\n",
    "\n",
    "child1 = LuckyChild()\n",
    "child1.can_sing()"
   ]
  },
  {
   "cell_type": "code",
   "execution_count": 55,
   "metadata": {},
   "outputs": [
    {
     "ename": "AttributeError",
     "evalue": "'UnLuckyChild' object has no attribute 'can_sing'",
     "output_type": "error",
     "traceback": [
      "\u001b[1;31m---------------------------------------------------------------------------\u001b[0m",
      "\u001b[1;31mAttributeError\u001b[0m                            Traceback (most recent call last)",
      "\u001b[1;32m<ipython-input-55-12f4256c0d03>\u001b[0m in \u001b[0;36m<module>\u001b[1;34m\u001b[0m\n\u001b[0;32m      3\u001b[0m \u001b[1;33m\u001b[0m\u001b[0m\n\u001b[0;32m      4\u001b[0m \u001b[0mchild2\u001b[0m \u001b[1;33m=\u001b[0m \u001b[0mUnLuckyChild\u001b[0m\u001b[1;33m(\u001b[0m\u001b[1;33m)\u001b[0m\u001b[1;33m\u001b[0m\u001b[1;33m\u001b[0m\u001b[0m\n\u001b[1;32m----> 5\u001b[1;33m \u001b[0mchild2\u001b[0m\u001b[1;33m.\u001b[0m\u001b[0mcan_sing\u001b[0m\u001b[1;33m(\u001b[0m\u001b[1;33m)\u001b[0m\u001b[1;33m\u001b[0m\u001b[1;33m\u001b[0m\u001b[0m\n\u001b[0m",
      "\u001b[1;31mAttributeError\u001b[0m: 'UnLuckyChild' object has no attribute 'can_sing'"
     ]
    }
   ],
   "source": [
    "class UnLuckyChild:\n",
    "    pass\n",
    "\n",
    "child2 = UnLuckyChild()\n",
    "child2.can_sing()"
   ]
  },
  {
   "cell_type": "code",
   "execution_count": 56,
   "metadata": {},
   "outputs": [
    {
     "name": "stdout",
     "output_type": "stream",
     "text": [
      "sing a song\n"
     ]
    }
   ],
   "source": [
    "class LuckyChild2(Parent):\n",
    "    def can_dance(self):\n",
    "        print('Shuffle Dance')\n",
    "        \n",
    "child2 = LuckyChild2()\n",
    "\n",
    "child2.can_sing()"
   ]
  },
  {
   "cell_type": "code",
   "execution_count": 57,
   "metadata": {},
   "outputs": [
    {
     "name": "stdout",
     "output_type": "stream",
     "text": [
      "Shuffle Dance\n"
     ]
    }
   ],
   "source": [
    "child2.can_dance()"
   ]
  },
  {
   "cell_type": "code",
   "execution_count": null,
   "metadata": {},
   "outputs": [],
   "source": []
  }
 ],
 "metadata": {
  "kernelspec": {
   "display_name": "Python 3",
   "language": "python",
   "name": "python3"
  },
  "language_info": {
   "codemirror_mode": {
    "name": "ipython",
    "version": 3
   },
   "file_extension": ".py",
   "mimetype": "text/x-python",
   "name": "python",
   "nbconvert_exporter": "python",
   "pygments_lexer": "ipython3",
   "version": "3.7.3"
  }
 },
 "nbformat": 4,
 "nbformat_minor": 2
}
