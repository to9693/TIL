{
 "cells": [
  {
   "cell_type": "code",
   "execution_count": 2,
   "metadata": {},
   "outputs": [],
   "source": [
    "class Person :\n",
    "    name = 'Alice'\n",
    "    age = 10\n",
    "    def __init__(self, name, age):\n",
    "        self.name = name\n",
    "        self.age =age\n",
    "    def __del__(self):\n",
    "        pass\n",
    "    def ageUp(self,n):\n",
    "        self.age += n\n",
    "    def __add__(self, other):\n",
    "        pass"
   ]
  },
  {
   "cell_type": "code",
   "execution_count": 7,
   "metadata": {},
   "outputs": [
    {
     "name": "stdout",
     "output_type": "stream",
     "text": [
      "Hi. I am doggy.\n"
     ]
    }
   ],
   "source": [
    "class Doggy:\n",
    "    def talk(self):\n",
    "        print(\"Hi. I am doggy.\")\n",
    "        \n",
    "happy = Doggy()\n",
    "happy.talk()"
   ]
  },
  {
   "cell_type": "code",
   "execution_count": 18,
   "metadata": {},
   "outputs": [
    {
     "name": "stdout",
     "output_type": "stream",
     "text": [
      "Hi. I am doggy.\n"
     ]
    }
   ],
   "source": [
    "happy = Doggy()\n",
    "happy.talk()\n",
    "milky = Doggy()\n",
    "choco = Doggy()"
   ]
  },
  {
   "cell_type": "code",
   "execution_count": 21,
   "metadata": {},
   "outputs": [
    {
     "name": "stdout",
     "output_type": "stream",
     "text": [
      "Hi. I am doggy.\n",
      "Hi. I am doggy.\n",
      "Hi. I am doggy.\n"
     ]
    }
   ],
   "source": [
    "happy.talk()\n",
    "milky.talk()\n",
    "choco.talk()"
   ]
  },
  {
   "cell_type": "code",
   "execution_count": 23,
   "metadata": {},
   "outputs": [
    {
     "name": "stdout",
     "output_type": "stream",
     "text": [
      "Hello, I am born!\n",
      "Hello, I am born!\n",
      "Hello, I am born!\n",
      "Hi. I am doggy\n",
      "Hi. I am doggy\n",
      "Hi. I am doggy\n"
     ]
    }
   ],
   "source": [
    "class Doggy:\n",
    "    def __init__(self):\n",
    "        print('Hello, I am born!')\n",
    "        \n",
    "    def talk(self):\n",
    "        print('Hi. I am doggy')\n",
    "        \n",
    "happy = Doggy()\n",
    "milky = Doggy()\n",
    "choco = Doggy()\n",
    "happy.talk()\n",
    "milky.talk()\n",
    "choco.talk()"
   ]
  },
  {
   "cell_type": "code",
   "execution_count": 24,
   "metadata": {},
   "outputs": [],
   "source": [
    "class Doggy:\n",
    "    def __init__(self, name):\n",
    "        self.name = name\n",
    "        print('Hello, I am born!')\n",
    "        \n",
    "    def talk(self):\n",
    "        print('Hi! I am', self.name)"
   ]
  },
  {
   "cell_type": "code",
   "execution_count": 25,
   "metadata": {},
   "outputs": [
    {
     "name": "stdout",
     "output_type": "stream",
     "text": [
      "Hello, I am born!\n",
      "Hello, I am born!\n",
      "Hello, I am born!\n",
      "Hi! I am happy\n",
      "Hi! I am milky\n",
      "Hi! I am choco\n"
     ]
    }
   ],
   "source": [
    "dog1 = Doggy('happy')\n",
    "dog2 = Doggy('milky')\n",
    "dog3 = Doggy('choco')\n",
    "\n",
    "dog1.talk()\n",
    "dog2.talk()\n",
    "dog3.talk()"
   ]
  },
  {
   "cell_type": "code",
   "execution_count": 26,
   "metadata": {},
   "outputs": [],
   "source": [
    "class Doggy:\n",
    "    def __init__(self, name, mood):\n",
    "        self.name = name\n",
    "        self.mood = mood\n",
    "        \n",
    "    def talk(self):\n",
    "        print('HI! I am', self.name, 'and I am', self.mood, 'now')"
   ]
  },
  {
   "cell_type": "code",
   "execution_count": 28,
   "metadata": {},
   "outputs": [
    {
     "name": "stdout",
     "output_type": "stream",
     "text": [
      "HI! I am happy and I am HAPPY now\n",
      "HI! I am milky and I am SAD now\n",
      "HI! I am choco and I am BORING now\n"
     ]
    }
   ],
   "source": [
    "dog1=Doggy('happy', 'HAPPY')\n",
    "dog2=Doggy('milky', 'SAD')\n",
    "dog3=Doggy('choco', 'BORING')\n",
    "dog1.talk()\n",
    "dog2.talk()\n",
    "dog3.talk()"
   ]
  },
  {
   "cell_type": "code",
   "execution_count": 29,
   "metadata": {},
   "outputs": [],
   "source": [
    "class Test:\n",
    "    def __init__(self):\n",
    "        self.value = 100\n",
    "        print(\"created with value : \", self.value)\n",
    "    def __del__(self):\n",
    "        print(\"deleted with value : \", self.value)\n",
    "    def set(self, v):\n",
    "        self.value =v"
   ]
  },
  {
   "cell_type": "code",
   "execution_count": 30,
   "metadata": {},
   "outputs": [
    {
     "name": "stdout",
     "output_type": "stream",
     "text": [
      "created with value :  100\n"
     ]
    }
   ],
   "source": [
    "x = Test()"
   ]
  },
  {
   "cell_type": "code",
   "execution_count": 33,
   "metadata": {},
   "outputs": [],
   "source": [
    "x.set(200)"
   ]
  },
  {
   "cell_type": "code",
   "execution_count": 34,
   "metadata": {},
   "outputs": [
    {
     "name": "stdout",
     "output_type": "stream",
     "text": [
      "created with value :  100\n",
      "deleted with value :  200\n"
     ]
    }
   ],
   "source": [
    "x = Test()"
   ]
  },
  {
   "cell_type": "code",
   "execution_count": 35,
   "metadata": {},
   "outputs": [],
   "source": [
    "x.set(50)"
   ]
  },
  {
   "cell_type": "code",
   "execution_count": 36,
   "metadata": {},
   "outputs": [
    {
     "name": "stdout",
     "output_type": "stream",
     "text": [
      "created with value :  100\n",
      "deleted with value :  50\n"
     ]
    }
   ],
   "source": [
    "x = Test()"
   ]
  },
  {
   "cell_type": "code",
   "execution_count": 42,
   "metadata": {},
   "outputs": [],
   "source": [
    "class student :\n",
    "    def __init__(self, no, name, score):\n",
    "        self.no = no\n",
    "        self.name =name\n",
    "        self.score = score\n",
    "    def printstudent(self):\n",
    "        print('no      : ', self.no)\n",
    "        print('name    : ', self.name)\n",
    "        print('score   : ', self.score)"
   ]
  },
  {
   "cell_type": "code",
   "execution_count": 43,
   "metadata": {},
   "outputs": [
    {
     "name": "stdout",
     "output_type": "stream",
     "text": [
      "no      :  20160000\n",
      "name    :  서강이\n",
      "score   :  95\n"
     ]
    }
   ],
   "source": [
    "s = student(20160000, '서강이', 95)\n",
    "s.printstudent()"
   ]
  },
  {
   "cell_type": "code",
   "execution_count": 44,
   "metadata": {},
   "outputs": [],
   "source": [
    "import datetime\n",
    "\n",
    "class Person :\n",
    "    def __init__ (self, name):\n",
    "        self.name = name\n",
    "        self.birthday = None\n",
    "    def setBirthday(slef, birthDate):\n",
    "        self.birthday = birthDate\n",
    "    def getAge(self):\n",
    "        return (datetime.date.today() - self.birthday).days\n",
    "    def getName(self):\n",
    "        return self.name"
   ]
  },
  {
   "cell_type": "code",
   "execution_count": null,
   "metadata": {},
   "outputs": [],
   "source": []
  }
 ],
 "metadata": {
  "kernelspec": {
   "display_name": "Python 3",
   "language": "python",
   "name": "python3"
  },
  "language_info": {
   "codemirror_mode": {
    "name": "ipython",
    "version": 3
   },
   "file_extension": ".py",
   "mimetype": "text/x-python",
   "name": "python",
   "nbconvert_exporter": "python",
   "pygments_lexer": "ipython3",
   "version": "3.7.3"
  }
 },
 "nbformat": 4,
 "nbformat_minor": 2
}
