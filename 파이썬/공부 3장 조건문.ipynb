{
 "cells": [
  {
   "cell_type": "code",
   "execution_count": 2,
   "metadata": {},
   "outputs": [
    {
     "name": "stdout",
     "output_type": "stream",
     "text": [
      "신나는 사과 파티! 배터지게 먹자\n",
      "사과 수가 맞지 않아 몇개는 쪼개 먹자\n"
     ]
    }
   ],
   "source": [
    "peaple =3\n",
    "apple =20\n",
    "\n",
    "if peaple < apple/5:\n",
    "    print('신나는 사과 파티! 배터지게 먹자')\n",
    "    \n",
    "if apple % peaple >0:\n",
    "    print('사과 수가 맞지 않아 몇개는 쪼개 먹자')\n",
    "if peaple > apple:\n",
    "    print('사람이 너무 많아 몇명은 못 먹겠네...')"
   ]
  },
  {
   "cell_type": "code",
   "execution_count": 5,
   "metadata": {
    "scrolled": true
   },
   "outputs": [
    {
     "name": "stdout",
     "output_type": "stream",
     "text": [
      "성적을 입력하시오 :85\n",
      "축하합니다.\n",
      "수고하셨습니다.\n"
     ]
    }
   ],
   "source": [
    "score = int(input('성적을 입력하시오 :'))\n",
    "\n",
    "if score >= 70:\n",
    "    print('축하합니다.')\n",
    "print('수고하셨습니다.')"
   ]
  },
  {
   "cell_type": "code",
   "execution_count": 7,
   "metadata": {},
   "outputs": [
    {
     "name": "stdout",
     "output_type": "stream",
     "text": [
      "양의 정수를 입력하시오 : 17\n",
      "홀수입니다.\n"
     ]
    }
   ],
   "source": [
    "number = int(input('양의 정수를 입력하시오 : '))\n",
    "if number%2 ==0:\n",
    "    print('짝수입니다.')\n",
    "else:\n",
    "    print('홀수입니다.')"
   ]
  },
  {
   "cell_type": "code",
   "execution_count": 8,
   "metadata": {},
   "outputs": [
    {
     "name": "stdout",
     "output_type": "stream",
     "text": [
      "enter a : 4\n",
      "enter b : 76\n"
     ]
    }
   ],
   "source": [
    "a = int(input('enter a : '))\n",
    "b = int(input('enter b : '))"
   ]
  },
  {
   "cell_type": "code",
   "execution_count": 9,
   "metadata": {},
   "outputs": [
    {
     "name": "stdout",
     "output_type": "stream",
     "text": [
      "76\n"
     ]
    }
   ],
   "source": [
    "if a > b :\n",
    "    max =a\n",
    "else:\n",
    "    max= b\n",
    "print(max)"
   ]
  },
  {
   "cell_type": "code",
   "execution_count": 11,
   "metadata": {},
   "outputs": [
    {
     "name": "stdout",
     "output_type": "stream",
     "text": [
      "성적을 입력하세요 : 16\n",
      "당신의 학점은 D입니다.\n"
     ]
    }
   ],
   "source": [
    "score = int(input('성적을 입력하세요 : '))\n",
    "if score >=90 :\n",
    "    print('당신의 학점은 A입니다.')\n",
    "elif 90>score>=80:\n",
    "    print('당신의 학점은 b입니다.')\n",
    "elif  80>score>70:\n",
    "    print('당신의 학점은 c입니다.')\n",
    "else :\n",
    "    print('당신의 학점은 D입니다.')"
   ]
  },
  {
   "cell_type": "code",
   "execution_count": 12,
   "metadata": {},
   "outputs": [
    {
     "name": "stdout",
     "output_type": "stream",
     "text": [
      "수를 입력하세요 : 86\n",
      "86는 양수입니다.\n"
     ]
    }
   ],
   "source": [
    "x = int(input('수를 입력하세요 : '))\n",
    "\n",
    "if x> 0 :\n",
    "    print('{}는 양수입니다.'. format(x))\n",
    "elif x ==0:\n",
    "    print('{}는 영입니다.'. format(x))\n",
    "else :\n",
    "    print('{}는 음수입니다.'.format(x))"
   ]
  },
  {
   "cell_type": "code",
   "execution_count": null,
   "metadata": {},
   "outputs": [],
   "source": []
  }
 ],
 "metadata": {
  "kernelspec": {
   "display_name": "Python 3",
   "language": "python",
   "name": "python3"
  },
  "language_info": {
   "codemirror_mode": {
    "name": "ipython",
    "version": 3
   },
   "file_extension": ".py",
   "mimetype": "text/x-python",
   "name": "python",
   "nbconvert_exporter": "python",
   "pygments_lexer": "ipython3",
   "version": "3.7.3"
  }
 },
 "nbformat": 4,
 "nbformat_minor": 2
}
