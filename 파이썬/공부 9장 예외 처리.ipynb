{
 "cells": [
  {
   "cell_type": "code",
   "execution_count": 1,
   "metadata": {},
   "outputs": [
    {
     "name": "stdout",
     "output_type": "stream",
     "text": [
      "hello world\n"
     ]
    }
   ],
   "source": [
    "print('hello world')"
   ]
  },
  {
   "cell_type": "code",
   "execution_count": 3,
   "metadata": {},
   "outputs": [
    {
     "ename": "SyntaxError",
     "evalue": "invalid syntax (<ipython-input-3-709b93820aa3>, line 2)",
     "output_type": "error",
     "traceback": [
      "\u001b[1;36m  File \u001b[1;32m\"<ipython-input-3-709b93820aa3>\"\u001b[1;36m, line \u001b[1;32m2\u001b[0m\n\u001b[1;33m    if a > 100; print(a)\u001b[0m\n\u001b[1;37m              ^\u001b[0m\n\u001b[1;31mSyntaxError\u001b[0m\u001b[1;31m:\u001b[0m invalid syntax\n"
     ]
    }
   ],
   "source": [
    "a = 101\n",
    "if a > 100; print(a)"
   ]
  },
  {
   "cell_type": "code",
   "execution_count": 7,
   "metadata": {},
   "outputs": [
    {
     "name": "stdout",
     "output_type": "stream",
     "text": [
      "a : 5\n",
      "b : 0\n",
      "cannot divide by zero\n"
     ]
    }
   ],
   "source": [
    "a = 5\n",
    "b = 0\n",
    "print('a :', a)\n",
    "print('b :', b)\n",
    "try :\n",
    "    c = a / b\n",
    "except ZeroDivisionError:\n",
    "    print('cannot divide by zero')\n",
    "else :\n",
    "    print(c)"
   ]
  },
  {
   "cell_type": "code",
   "execution_count": 10,
   "metadata": {},
   "outputs": [
    {
     "ename": "SyntaxError",
     "evalue": "EOL while scanning string literal (<ipython-input-10-d56cf2441d31>, line 14)",
     "output_type": "error",
     "traceback": [
      "\u001b[1;36m  File \u001b[1;32m\"<ipython-input-10-d56cf2441d31>\"\u001b[1;36m, line \u001b[1;32m14\u001b[0m\n\u001b[1;33m    print('no variable named \"x\"'')\u001b[0m\n\u001b[1;37m                                   ^\u001b[0m\n\u001b[1;31mSyntaxError\u001b[0m\u001b[1;31m:\u001b[0m EOL while scanning string literal\n"
     ]
    }
   ],
   "source": [
    "a = 5\n",
    "b = 0\n",
    "L = [1,2,3]\n",
    "print('hello')\n",
    "\n",
    "try :\n",
    "    c = a/b\n",
    "    print(x)\n",
    "    print(L[3])\n",
    "\n",
    "except ZereDivisionError:\n",
    "    print('cannto divide by zero !!!')\n",
    "except NameError:\n",
    "    print('no variable named \"x\"'')\n",
    "except IndexError:\n",
    "          print('out of indxexing in list')\n",
    "else :\n",
    "    print('else part')\n",
    "print('good bye')"
   ]
  },
  {
   "cell_type": "code",
   "execution_count": 11,
   "metadata": {},
   "outputs": [
    {
     "name": "stdout",
     "output_type": "stream",
     "text": [
      "hello\n",
      "no variable named \"x\"\n",
      "good bye\n"
     ]
    }
   ],
   "source": [
    "a = 5\n",
    "b = 1\n",
    "L = [1,2,3]\n",
    "print('hello')\n",
    "\n",
    "try :\n",
    "    c = a/b\n",
    "    print(x)\n",
    "    print(L[3])\n",
    "except ZeroDivisionError:\n",
    "    print('cannot divide by zero!!!')\n",
    "except NameError :\n",
    "    print('no variable named \"x\"')\n",
    "except IndexError:\n",
    "    print('out of indexingin list')\n",
    "else:\n",
    "    print('else part')\n",
    "print('good bye')"
   ]
  },
  {
   "cell_type": "code",
   "execution_count": 12,
   "metadata": {},
   "outputs": [
    {
     "name": "stdout",
     "output_type": "stream",
     "text": [
      "hello\n",
      "3\n",
      "else part\n",
      "good bye\n"
     ]
    }
   ],
   "source": [
    "a = 5\n",
    "b =1\n",
    "L = [1,2,3]\n",
    "\n",
    "print('hello')\n",
    "try : \n",
    "    c= a/ b\n",
    "    print(L[2])\n",
    "except ZeroDivisionError:\n",
    "    print('cannot divide by zere!!!')\n",
    "except IndexError :\n",
    "    print('out of indexing in list')\n",
    "else:\n",
    "    print('else part')\n",
    "print('good bye')\n"
   ]
  },
  {
   "cell_type": "code",
   "execution_count": 13,
   "metadata": {},
   "outputs": [
    {
     "name": "stdout",
     "output_type": "stream",
     "text": [
      "hello\n",
      "out of indexing in list\n",
      "finally part\n",
      "good bye\n"
     ]
    }
   ],
   "source": [
    "L = [1,2,3]\n",
    "print('hello')\n",
    "try :\n",
    "    print(L[3])\n",
    "except IndexError:\n",
    "    print('out of indexing in list')\n",
    "else :\n",
    "    print('else part')\n",
    "finally:\n",
    "    print('finally part')\n",
    "    \n",
    "print('good bye')"
   ]
  },
  {
   "cell_type": "code",
   "execution_count": 14,
   "metadata": {},
   "outputs": [
    {
     "name": "stdout",
     "output_type": "stream",
     "text": [
      "hello\n",
      "3\n",
      "else part\n",
      "finally part\n",
      "good bye\n"
     ]
    }
   ],
   "source": [
    "L = [1,2,3]\n",
    "\n",
    "print('hello')\n",
    "\n",
    "try:\n",
    "    print(L[2])\n",
    "except IndexError:\n",
    "    print('out of indexing in list')\n",
    "else :\n",
    "    print('else part')\n",
    "finally:\n",
    "    print('finally part')\n",
    "    \n",
    "print('good bye')"
   ]
  },
  {
   "cell_type": "code",
   "execution_count": null,
   "metadata": {},
   "outputs": [],
   "source": []
  }
 ],
 "metadata": {
  "kernelspec": {
   "display_name": "Python 3",
   "language": "python",
   "name": "python3"
  },
  "language_info": {
   "codemirror_mode": {
    "name": "ipython",
    "version": 3
   },
   "file_extension": ".py",
   "mimetype": "text/x-python",
   "name": "python",
   "nbconvert_exporter": "python",
   "pygments_lexer": "ipython3",
   "version": "3.7.3"
  }
 },
 "nbformat": 4,
 "nbformat_minor": 2
}
