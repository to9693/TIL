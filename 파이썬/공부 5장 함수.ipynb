{
 "cells": [
  {
   "cell_type": "code",
   "execution_count": 5,
   "metadata": {},
   "outputs": [
    {
     "name": "stdout",
     "output_type": "stream",
     "text": [
      "해는 2.0 또는 -4.0\n"
     ]
    }
   ],
   "source": [
    "def print_root(a,b,c):\n",
    "    r1 = (-b + (b ** 2 - 4 *a * c)**0.5)/ (2*a)\n",
    "    r2 = (-b - (b ** 2 - 4 *a * c)**0.5)/ (2*a)\n",
    "    print('해는 {} 또는 {}'.format(r1, r2))\n",
    "\n",
    "x =1\n",
    "y =2\n",
    "z =-8\n",
    "\n",
    "print_root(x,y,z)"
   ]
  },
  {
   "cell_type": "code",
   "execution_count": 6,
   "metadata": {},
   "outputs": [
    {
     "name": "stdout",
     "output_type": "stream",
     "text": [
      "5\n",
      "2\n",
      "4\n"
     ]
    }
   ],
   "source": [
    "def print_round(number):\n",
    "    rounded = round(number)\n",
    "    print(rounded)\n",
    "\n",
    "print_round(4.6)\n",
    "print_round(2.2)\n",
    "print_round(3.6)"
   ]
  },
  {
   "cell_type": "code",
   "execution_count": 8,
   "metadata": {},
   "outputs": [
    {
     "name": "stdout",
     "output_type": "stream",
     "text": [
      "52\n"
     ]
    }
   ],
   "source": [
    "def add_10(value):\n",
    "    '''value에 10을 더한 값을 돌려주는 함수'''\n",
    "    result= value + 10\n",
    "    return result\n",
    "\n",
    "n = add_10(42)\n",
    "\n",
    "print(n)\n"
   ]
  },
  {
   "cell_type": "code",
   "execution_count": 12,
   "metadata": {},
   "outputs": [
    {
     "data": {
      "text/plain": [
       "10"
      ]
     },
     "execution_count": 12,
     "metadata": {},
     "output_type": "execute_result"
    }
   ],
   "source": [
    "def add_10(value):\n",
    "    '''value에 10을 더한 값을 돌려주는 함수'''\n",
    "    return 10\n",
    "    result = value + 10\n",
    "    return result\n",
    "\n",
    "add_10(1)"
   ]
  },
  {
   "cell_type": "code",
   "execution_count": 13,
   "metadata": {},
   "outputs": [
    {
     "name": "stdout",
     "output_type": "stream",
     "text": [
      "10\n",
      "42\n"
     ]
    }
   ],
   "source": [
    "def add_10(value):\n",
    "    '''value에 10을 더한 값을 돌려주는 함수'''\n",
    "    if value < 10:\n",
    "        return 10\n",
    "    result = value +10\n",
    "    return result\n",
    "\n",
    "n = add_10(5)\n",
    "print(n)\n",
    "n = add_10(42)\n",
    "print(42)"
   ]
  },
  {
   "cell_type": "code",
   "execution_count": 17,
   "metadata": {},
   "outputs": [
    {
     "name": "stdout",
     "output_type": "stream",
     "text": [
      "근은 2.0\n"
     ]
    }
   ],
   "source": [
    "def root(a,b,c):\n",
    "    r1 = (-b + (b **2 -4 * a * c) ** 0.5) / (2 *a)\n",
    "    r2 = (-b - (b **2 -4 * a * c) ** 0.5) / (2 *a)\n",
    "    return r1\n",
    "\n",
    "r =root(1,2, -8)\n",
    "print('근은 {}'.format(r))"
   ]
  },
  {
   "cell_type": "code",
   "execution_count": 18,
   "metadata": {},
   "outputs": [
    {
     "name": "stdout",
     "output_type": "stream",
     "text": [
      "근은 2.0와/과 -4.0\n"
     ]
    }
   ],
   "source": [
    "def root(a,b,c):\n",
    "    r1 = (-b + (b **2 -4 * a * c) ** 0.5) / (2 *a)\n",
    "    r2 = (-b - (b **2 -4 * a * c) ** 0.5) / (2 *a)\n",
    "    return r1, r2\n",
    "\n",
    "r1,r2 = root(1,2, -8)\n",
    "print('근은 {}와/과 {}'.format(r1,r2))"
   ]
  },
  {
   "cell_type": "code",
   "execution_count": null,
   "metadata": {},
   "outputs": [],
   "source": []
  }
 ],
 "metadata": {
  "kernelspec": {
   "display_name": "Python 3",
   "language": "python",
   "name": "python3"
  },
  "language_info": {
   "codemirror_mode": {
    "name": "ipython",
    "version": 3
   },
   "file_extension": ".py",
   "mimetype": "text/x-python",
   "name": "python",
   "nbconvert_exporter": "python",
   "pygments_lexer": "ipython3",
   "version": "3.7.3"
  }
 },
 "nbformat": 4,
 "nbformat_minor": 2
}
