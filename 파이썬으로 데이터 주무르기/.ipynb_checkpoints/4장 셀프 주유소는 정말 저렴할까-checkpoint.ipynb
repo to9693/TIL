{
 "cells": [
  {
   "cell_type": "markdown",
   "metadata": {},
   "source": [
    "### 4-1 Selenium 사용하기"
   ]
  },
  {
   "cell_type": "code",
   "execution_count": 43,
   "metadata": {},
   "outputs": [],
   "source": [
    "from selenium import webdriver"
   ]
  },
  {
   "cell_type": "code",
   "execution_count": 44,
   "metadata": {},
   "outputs": [],
   "source": [
    "driver = webdriver.Chrome('driver/chromedriver')\n",
    "driver.get('http://naver.com')  # selenium은 코드로 브라우저를 움직일 수 있음"
   ]
  },
  {
   "cell_type": "code",
   "execution_count": 45,
   "metadata": {},
   "outputs": [],
   "source": [
    "xpath = '//*[@id=\"account\"]/div/a/i'\n",
    "driver.find_element_by_xpath(xpath).click()"
   ]
  },
  {
   "cell_type": "code",
   "execution_count": 46,
   "metadata": {},
   "outputs": [],
   "source": [
    "elem_login = driver.find_element_by_id('id')\n",
    "elem_login.clear()\n",
    "elem_login.send_keys('to9693')"
   ]
  },
  {
   "cell_type": "code",
   "execution_count": 41,
   "metadata": {},
   "outputs": [],
   "source": [
    "elem_login = driver.find_element_by_id('pw')\n",
    "elem_login.clear()\n",
    "elem_login.send_keys('gkhmgkhm3@!')"
   ]
  },
  {
   "cell_type": "code",
   "execution_count": 42,
   "metadata": {},
   "outputs": [],
   "source": [
    "xpath='//*[@id=\"frmNIDLogin\"]/fieldset/input'\n",
    "driver.find_element_by_xpath(xpath).click()"
   ]
  },
  {
   "cell_type": "code",
   "execution_count": 47,
   "metadata": {},
   "outputs": [],
   "source": [
    "driver.get('http://mail.naver.com')"
   ]
  },
  {
   "cell_type": "code",
   "execution_count": 48,
   "metadata": {},
   "outputs": [],
   "source": [
    "from bs4 import BeautifulSoup\n",
    "\n",
    "html = driver.page_source #dirver.page_source 를 사용하면 현재 Selenium이 접근한 페이지의 소스를 가져옴\n",
    "soup = BeautifulSoup(html, 'html.parser')"
   ]
  },
  {
   "cell_type": "code",
   "execution_count": 55,
   "metadata": {},
   "outputs": [],
   "source": [
    "raw_list= soup.find_all('div', 'name _ccr(lst.from)')"
   ]
  },
  {
   "cell_type": "code",
   "execution_count": 56,
   "metadata": {},
   "outputs": [
    {
     "data": {
      "text/plain": [
       "[<div class=\"name _ccr(lst.from)\"><span class=\"blind\">보낸 이:</span><a class=\"_c1(myContextMenu|showSenderContextLayer|list|6114) _stopDefault\" href=\"#\" title='\"스마트매치\" &lt;goodnews@jobkorea.co.kr&gt;'>스마트매치</a></div>,\n",
       " <div class=\"name _ccr(lst.from)\"><span class=\"blind\">보낸 이:</span><a class=\"_c1(myContextMenu|showSenderContextLayer|list|6111) _stopDefault\" href=\"#\" title='\"SM Entertainment\" &lt;recruit@smtown.com&gt;'>SM Entertainment</a></div>,\n",
       " <div class=\"name _ccr(lst.from)\"><span class=\"blind\">보낸 이:</span><a class=\"_c1(myContextMenu|showSenderContextLayer|list|6106) _stopDefault\" href=\"#\" title='\"스마트매치\" &lt;goodnews@jobkorea.co.kr&gt;'>스마트매치</a></div>,\n",
       " <div class=\"name _ccr(lst.from)\"><span class=\"blind\">보낸 이:</span><a class=\"_c1(myContextMenu|showSenderContextLayer|list|6102) _stopDefault\" href=\"#\" title='\"스마트매치\" &lt;goodnews@jobkorea.co.kr&gt;'>스마트매치</a></div>,\n",
       " <div class=\"name _ccr(lst.from)\"><span class=\"blind\">보낸 이:</span><a class=\"_c1(myContextMenu|showSenderContextLayer|list|6101) _stopDefault\" href=\"#\" title='\"스마트매치\" &lt;goodnews@jobkorea.co.kr&gt;'>스마트매치</a></div>,\n",
       " <div class=\"name _ccr(lst.from)\"><span class=\"blind\">보낸 이:</span><a class=\"_c1(myContextMenu|showSenderContextLayer|list|6098) _stopDefault\" href=\"#\" title='\"서브원 채용\" &lt;careers@serveone.co.kr&gt;'>서브원 채용</a></div>,\n",
       " <div class=\"name _ccr(lst.from)\"><span class=\"blind\">보낸 이:</span><a class=\"_c1(myContextMenu|showSenderContextLayer|list|6093) _stopDefault\" href=\"#\" title='\"잡코리아\" &lt;return@infoweb.jobkorea.co.kr&gt;'>잡코리아</a></div>,\n",
       " <div class=\"name _ccr(lst.from)\"><span class=\"blind\">보낸 이:</span><a class=\"_c1(myContextMenu|showSenderContextLayer|list|6092) _stopDefault\" href=\"#\" title='\"스마트매치\" &lt;goodnews@jobkorea.co.kr&gt;'>스마트매치</a></div>,\n",
       " <div class=\"name _ccr(lst.from)\"><span class=\"blind\">보낸 이:</span><a class=\"_c1(myContextMenu|showSenderContextLayer|list|6090) _stopDefault\" href=\"#\" title='\"조대영\" &lt;jo.daeyoung@jtbc.co.kr&gt;'>조대영</a></div>,\n",
       " <div class=\"name _ccr(lst.from)\"><span class=\"blind\">보낸 이:</span><a class=\"_c1(myContextMenu|showSenderContextLayer|list|6088) _stopDefault\" href=\"#\" title='\"잡코리아\" &lt;return@infoweb.jobkorea.co.kr&gt;'>잡코리아</a></div>,\n",
       " <div class=\"name _ccr(lst.from)\"><span class=\"blind\">보낸 이:</span><a class=\"_c1(myContextMenu|showSenderContextLayer|list|6085) _stopDefault\" href=\"#\" title='\"스마트매치\" &lt;goodnews@jobkorea.co.kr&gt;'>스마트매치</a></div>,\n",
       " <div class=\"name _ccr(lst.from)\"><span class=\"blind\">보낸 이:</span><a class=\"_c1(myContextMenu|showSenderContextLayer|list|6083) _stopDefault\" href=\"#\" title='\"스마트매치\" &lt;goodnews@jobkorea.co.kr&gt;'>스마트매치</a></div>,\n",
       " <div class=\"name _ccr(lst.from)\"><span class=\"blind\">보낸 이:</span><a class=\"_c1(myContextMenu|showSenderContextLayer|list|6077) _stopDefault\" href=\"#\" title='\"스마트매치\" &lt;goodnews@jobkorea.co.kr&gt;'>스마트매치</a></div>,\n",
       " <div class=\"name _ccr(lst.from)\"><span class=\"blind\">보낸 이:</span><a class=\"_c1(myContextMenu|showSenderContextLayer|list|6075) _stopDefault\" href=\"#\" title='\"Twitter\" &lt;verify@twitter.com&gt;'>Twitter</a></div>,\n",
       " <div class=\"name _ccr(lst.from)\"><span class=\"blind\">보낸 이:</span><a class=\"_c1(myContextMenu|showSenderContextLayer|list|6073) _stopDefault\" href=\"#\" title='\"스마트매치\" &lt;goodnews@jobkorea.co.kr&gt;'>스마트매치</a></div>,\n",
       " <div class=\"name _ccr(lst.from)\"><span class=\"blind\">보낸 이:</span><a class=\"_c1(myContextMenu|showSenderContextLayer|list|6068) _stopDefault\" href=\"#\" title='\"스마트매치\" &lt;goodnews@jobkorea.co.kr&gt;'>스마트매치</a></div>,\n",
       " <div class=\"name _ccr(lst.from)\"><span class=\"blind\">보낸 이:</span><a class=\"_c1(myContextMenu|showSenderContextLayer|list|6064) _stopDefault\" href=\"#\" title='\"한국장학재단\" &lt;no-reply@kosaf.go.kr&gt;'>한국장학재단</a></div>,\n",
       " <div class=\"name _ccr(lst.from)\"><span class=\"blind\">보낸 이:</span><a class=\"_c1(myContextMenu|showSenderContextLayer|list|6063) _stopDefault\" href=\"#\" title='\"스마트매치\" &lt;goodnews@jobkorea.co.kr&gt;'>스마트매치</a></div>,\n",
       " <div class=\"name _ccr(lst.from)\"><span class=\"blind\">보낸 이:</span><a class=\"_c1(myContextMenu|showSenderContextLayer|list|6062) _stopDefault\" href=\"#\" title='\"중앙그룹 채용담당자\" &lt;recruit@joongang.co.kr&gt;'>중앙그룹 채용담당자</a></div>,\n",
       " <div class=\"name _ccr(lst.from)\"><span class=\"blind\">보낸 이:</span><a class=\"_c1(myContextMenu|showSenderContextLayer|list|6060) _stopDefault\" href=\"#\" title='\"잡코리아\" &lt;return@infoweb.jobkorea.co.kr&gt;'>잡코리아</a></div>,\n",
       " <div class=\"name _ccr(lst.from)\"><span class=\"blind\">보낸 이:</span><a class=\"_c1(myContextMenu|showSenderContextLayer|list|6059) _stopDefault\" href=\"#\" title='\"잡코리아\" &lt;return@infoweb.jobkorea.co.kr&gt;'>잡코리아</a></div>,\n",
       " <div class=\"name _ccr(lst.from)\"><span class=\"blind\">보낸 이:</span><a class=\"_c1(myContextMenu|showSenderContextLayer|list|6058) _stopDefault\" href=\"#\" title='\"잡코리아\" &lt;helpdesk@jobkorea.co.kr&gt;'>잡코리아</a></div>,\n",
       " <div class=\"name _ccr(lst.from)\"><span class=\"blind\">보낸 이:</span><a class=\"_c1(myContextMenu|showSenderContextLayer|list|6055) _stopDefault\" href=\"#\" title='\"스마트매치\" &lt;goodnews@jobkorea.co.kr&gt;'>스마트매치</a></div>,\n",
       " <div class=\"name _ccr(lst.from)\"><span class=\"blind\">보낸 이:</span><a class=\"_c1(myContextMenu|showSenderContextLayer|list|6050) _stopDefault\" href=\"#\" title='\"스마트매치\" &lt;goodnews@jobkorea.co.kr&gt;'>스마트매치</a></div>,\n",
       " <div class=\"name _ccr(lst.from)\"><span class=\"blind\">보낸 이:</span><a class=\"_c1(myContextMenu|showSenderContextLayer|list|6049) _stopDefault\" href=\"#\" title='\"네이버페이\" &lt;naverpayadmin_noreply@naver.com&gt;'>네이버페이</a></div>,\n",
       " <div class=\"name _ccr(lst.from)\"><span class=\"blind\">보낸 이:</span><a class=\"_c1(myContextMenu|showSenderContextLayer|list|6046) _stopDefault\" href=\"#\" title='\"네이버페이\" &lt;naverpayadmin_noreply@naver.com&gt;'>네이버페이</a></div>,\n",
       " <div class=\"name _ccr(lst.from)\"><span class=\"blind\">보낸 이:</span><a class=\"_c1(myContextMenu|showSenderContextLayer|list|6045) _stopDefault\" href=\"#\" title='\"스마트매치\" &lt;goodnews@jobkorea.co.kr&gt;'>스마트매치</a></div>,\n",
       " <div class=\"name _ccr(lst.from)\"><span class=\"blind\">보낸 이:</span><a class=\"_c1(myContextMenu|showSenderContextLayer|list|6043) _stopDefault\" href=\"#\" title='\"Namepr\" &lt;namepr@nameprmail.co.kr&gt;'>Namepr</a></div>,\n",
       " <div class=\"name _ccr(lst.from)\"><span class=\"blind\">보낸 이:</span><a class=\"_c1(myContextMenu|showSenderContextLayer|list|6042) _stopDefault\" href=\"#\" title='\"The VIA Institute\" &lt;via@viacharacter.org&gt;'>The VIA Institute</a></div>,\n",
       " <div class=\"name _ccr(lst.from)\"><span class=\"blind\">보낸 이:</span><a class=\"_c1(myContextMenu|showSenderContextLayer|list|6038) _stopDefault\" href=\"#\" title='\"스마트매치\" &lt;goodnews@jobkorea.co.kr&gt;'>스마트매치</a></div>]"
      ]
     },
     "execution_count": 56,
     "metadata": {},
     "output_type": "execute_result"
    }
   ],
   "source": [
    "raw_list"
   ]
  },
  {
   "cell_type": "code",
   "execution_count": 57,
   "metadata": {},
   "outputs": [
    {
     "data": {
      "text/plain": [
       "['스마트매치',\n",
       " 'SM Entertainment',\n",
       " '스마트매치',\n",
       " '스마트매치',\n",
       " '스마트매치',\n",
       " '서브원 채용',\n",
       " '잡코리아',\n",
       " '스마트매치',\n",
       " '조대영',\n",
       " '잡코리아',\n",
       " '스마트매치',\n",
       " '스마트매치',\n",
       " '스마트매치',\n",
       " 'Twitter',\n",
       " '스마트매치',\n",
       " '스마트매치',\n",
       " '한국장학재단',\n",
       " '스마트매치',\n",
       " '중앙그룹 채용담당자',\n",
       " '잡코리아',\n",
       " '잡코리아',\n",
       " '잡코리아',\n",
       " '스마트매치',\n",
       " '스마트매치',\n",
       " '네이버페이',\n",
       " '네이버페이',\n",
       " '스마트매치',\n",
       " 'Namepr',\n",
       " 'The VIA Institute',\n",
       " '스마트매치']"
      ]
     },
     "execution_count": 57,
     "metadata": {},
     "output_type": "execute_result"
    }
   ],
   "source": [
    "send_list = [raw_list[n].find('a').get_text() for n in range(0, len(raw_list))]\n",
    "send_list"
   ]
  },
  {
   "cell_type": "code",
   "execution_count": 58,
   "metadata": {},
   "outputs": [],
   "source": [
    "driver.close()"
   ]
  },
  {
   "cell_type": "markdown",
   "metadata": {},
   "source": [
    "### 4-2 서울시 구별 주유소 가격 정보 얻기"
   ]
  },
  {
   "cell_type": "code",
   "execution_count": 97,
   "metadata": {},
   "outputs": [],
   "source": [
    "driver = webdriver.Chrome('driver/chromedriver')\n",
    "driver.get(\"http://www.opinet.co.kr/searRgSelect.do\")"
   ]
  },
  {
   "cell_type": "code",
   "execution_count": 98,
   "metadata": {
    "scrolled": true
   },
   "outputs": [],
   "source": [
    "xpath =('//*[@id=\"gnb\"]/ul/li[1]/a')\n",
    "driver.find_element_by_xpath(xpath).click()"
   ]
  },
  {
   "cell_type": "code",
   "execution_count": 99,
   "metadata": {},
   "outputs": [],
   "source": [
    "gu_list_raw = driver.find_element_by_xpath('//*[@id=\"SIGUNGU_NM0\"]')\n",
    "gu_list = gu_list_raw.find_elements_by_tag_name('option')"
   ]
  },
  {
   "cell_type": "code",
   "execution_count": 100,
   "metadata": {},
   "outputs": [
    {
     "data": {
      "text/plain": [
       "[<selenium.webdriver.remote.webelement.WebElement (session=\"a45ab9707b4a975bb5480cb339654072\", element=\"21e0f4ad-7365-40b0-95d3-2ed4c7b98a95\")>,\n",
       " <selenium.webdriver.remote.webelement.WebElement (session=\"a45ab9707b4a975bb5480cb339654072\", element=\"f1f42d82-592d-45b6-ab61-edac8093dd05\")>,\n",
       " <selenium.webdriver.remote.webelement.WebElement (session=\"a45ab9707b4a975bb5480cb339654072\", element=\"1580c18e-d53f-4a7b-a2f7-cd9dbb57108f\")>,\n",
       " <selenium.webdriver.remote.webelement.WebElement (session=\"a45ab9707b4a975bb5480cb339654072\", element=\"2980ac56-109c-4df4-b484-70411c9c35b9\")>,\n",
       " <selenium.webdriver.remote.webelement.WebElement (session=\"a45ab9707b4a975bb5480cb339654072\", element=\"d7cf9868-e060-4e3d-9ac4-7743d673a7c1\")>,\n",
       " <selenium.webdriver.remote.webelement.WebElement (session=\"a45ab9707b4a975bb5480cb339654072\", element=\"097ed113-6e76-49c4-847c-d9327f017655\")>,\n",
       " <selenium.webdriver.remote.webelement.WebElement (session=\"a45ab9707b4a975bb5480cb339654072\", element=\"4a4ec890-67c3-49ac-a463-983dac1d096e\")>,\n",
       " <selenium.webdriver.remote.webelement.WebElement (session=\"a45ab9707b4a975bb5480cb339654072\", element=\"1e6743b8-0f86-45c2-9c2c-160437704d45\")>,\n",
       " <selenium.webdriver.remote.webelement.WebElement (session=\"a45ab9707b4a975bb5480cb339654072\", element=\"bae12c4a-da45-40c0-aebb-5f8ffe8f99e6\")>,\n",
       " <selenium.webdriver.remote.webelement.WebElement (session=\"a45ab9707b4a975bb5480cb339654072\", element=\"ac115af4-4013-44ee-a883-99c46e6f8509\")>,\n",
       " <selenium.webdriver.remote.webelement.WebElement (session=\"a45ab9707b4a975bb5480cb339654072\", element=\"6f998d10-c57a-4e7c-8869-3566e62f78ea\")>,\n",
       " <selenium.webdriver.remote.webelement.WebElement (session=\"a45ab9707b4a975bb5480cb339654072\", element=\"187351f8-b1bb-433d-a809-faf8a97bf9e7\")>,\n",
       " <selenium.webdriver.remote.webelement.WebElement (session=\"a45ab9707b4a975bb5480cb339654072\", element=\"cd09270e-f554-4fc8-90a1-1c99fa871235\")>,\n",
       " <selenium.webdriver.remote.webelement.WebElement (session=\"a45ab9707b4a975bb5480cb339654072\", element=\"58deaed0-510c-4c94-a06e-4a408c23a7f8\")>,\n",
       " <selenium.webdriver.remote.webelement.WebElement (session=\"a45ab9707b4a975bb5480cb339654072\", element=\"179a1f23-bdde-4539-b2ba-df8a0abcab2d\")>,\n",
       " <selenium.webdriver.remote.webelement.WebElement (session=\"a45ab9707b4a975bb5480cb339654072\", element=\"68b0fcf2-b0e0-4129-b7fe-a6b4ccfa0c24\")>,\n",
       " <selenium.webdriver.remote.webelement.WebElement (session=\"a45ab9707b4a975bb5480cb339654072\", element=\"1a29dbd3-d48e-42a1-802d-825ecd400b89\")>,\n",
       " <selenium.webdriver.remote.webelement.WebElement (session=\"a45ab9707b4a975bb5480cb339654072\", element=\"741e928c-3462-4da1-b7df-94391b332021\")>,\n",
       " <selenium.webdriver.remote.webelement.WebElement (session=\"a45ab9707b4a975bb5480cb339654072\", element=\"57436a85-0aba-4771-bcd3-0ed818b94480\")>,\n",
       " <selenium.webdriver.remote.webelement.WebElement (session=\"a45ab9707b4a975bb5480cb339654072\", element=\"bf5164bb-fc92-4ac6-b65c-764ece08fcba\")>,\n",
       " <selenium.webdriver.remote.webelement.WebElement (session=\"a45ab9707b4a975bb5480cb339654072\", element=\"c7fb35e0-4b36-4bc7-9a4d-cb902f6f784a\")>,\n",
       " <selenium.webdriver.remote.webelement.WebElement (session=\"a45ab9707b4a975bb5480cb339654072\", element=\"e3f6ba12-e16e-44a8-af98-08e01e56e714\")>,\n",
       " <selenium.webdriver.remote.webelement.WebElement (session=\"a45ab9707b4a975bb5480cb339654072\", element=\"84d3e3b9-430f-460e-b16d-7163bda61fef\")>,\n",
       " <selenium.webdriver.remote.webelement.WebElement (session=\"a45ab9707b4a975bb5480cb339654072\", element=\"141ab7e7-c7d9-44b8-b5fe-902d9fb8525b\")>,\n",
       " <selenium.webdriver.remote.webelement.WebElement (session=\"a45ab9707b4a975bb5480cb339654072\", element=\"c4993552-3633-46f2-822a-c848e21c8f03\")>,\n",
       " <selenium.webdriver.remote.webelement.WebElement (session=\"a45ab9707b4a975bb5480cb339654072\", element=\"b8f4e285-1deb-429b-8bf0-06e404e5e59c\")>]"
      ]
     },
     "execution_count": 100,
     "metadata": {},
     "output_type": "execute_result"
    }
   ],
   "source": [
    "gu_list"
   ]
  },
  {
   "cell_type": "code",
   "execution_count": 101,
   "metadata": {},
   "outputs": [
    {
     "data": {
      "text/plain": [
       "['강남구',\n",
       " '강동구',\n",
       " '강북구',\n",
       " '강서구',\n",
       " '관악구',\n",
       " '광진구',\n",
       " '구로구',\n",
       " '금천구',\n",
       " '노원구',\n",
       " '도봉구',\n",
       " '동대문구',\n",
       " '동작구',\n",
       " '마포구',\n",
       " '서대문구',\n",
       " '서초구',\n",
       " '성동구',\n",
       " '성북구',\n",
       " '송파구',\n",
       " '양천구',\n",
       " '영등포구',\n",
       " '용산구',\n",
       " '은평구',\n",
       " '종로구',\n",
       " '중구',\n",
       " '중랑구']"
      ]
     },
     "execution_count": 101,
     "metadata": {},
     "output_type": "execute_result"
    }
   ],
   "source": [
    "gu_names = [option.get_attribute('value') for option in gu_list]\n",
    "gu_names.remove('')\n",
    "gu_names"
   ]
  },
  {
   "cell_type": "code",
   "execution_count": 105,
   "metadata": {},
   "outputs": [],
   "source": [
    "element = driver.find_element_by_id('SIGUNGU_NM0')\n",
    "element.send_keys(gu_names[0])"
   ]
  },
  {
   "cell_type": "code",
   "execution_count": null,
   "metadata": {},
   "outputs": [],
   "source": []
  }
 ],
 "metadata": {
  "kernelspec": {
   "display_name": "Python 3",
   "language": "python",
   "name": "python3"
  },
  "language_info": {
   "codemirror_mode": {
    "name": "ipython",
    "version": 3
   },
   "file_extension": ".py",
   "mimetype": "text/x-python",
   "name": "python",
   "nbconvert_exporter": "python",
   "pygments_lexer": "ipython3",
   "version": "3.7.3"
  }
 },
 "nbformat": 4,
 "nbformat_minor": 2
}
