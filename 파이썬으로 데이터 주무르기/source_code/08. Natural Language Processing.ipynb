{
 "cells": [
  {
   "cell_type": "markdown",
   "metadata": {},
   "source": [
    "# 8장 자연어 처리 시작하기\n",
    "\n",
    "### 작성 : [PinkWink](http://pinkwink.kr) \n",
    "\n",
    "* 설치 목록\n",
    "    * JDK (Java SE Downloads)\n",
    "    * JAVA_HOME 설정\n",
    "    * JPype 설치\n",
    "    * KoNLPy 설치\n",
    "    * Word Cloud 설치"
   ]
  },
  {
   "cell_type": "markdown",
   "metadata": {},
   "source": [
    "## 8-1. 한글 자연어 처리 기초 - KoNLPy 및 필요 모듈의 설치\n",
    "\n",
    "* KoNLPy : **pip install konlpy**\n",
    "* JPype1 : **conda install -c conda-forge jpype1** \n",
    "    * 이후 Jupyter Notebook 재실행 필요\n",
    "* JDK 설치 : Java JDK로 검색해서 OS에 맞춰 설치\n",
    "    * JAVA_HOME 설정 : 교재내용 참조"
   ]
  },
  {
   "cell_type": "markdown",
   "metadata": {
    "collapsed": true
   },
   "source": [
    "## 8-2. 한글 자연어 처리 기초"
   ]
  },
  {
   "cell_type": "code",
   "execution_count": 1,
   "metadata": {},
   "outputs": [
    {
     "name": "stderr",
     "output_type": "stream",
     "text": [
      "C:\\Users\\multicampus\\Anaconda3\\lib\\site-packages\\jpype\\_core.py:210: UserWarning: \n",
      "-------------------------------------------------------------------------------\n",
      "Deprecated: convertStrings was not specified when starting the JVM. The default\n",
      "behavior in JPype will be False starting in JPype 0.8. The recommended setting\n",
      "for new code is convertStrings=False.  The legacy value of True was assumed for\n",
      "this session. If you are a user of an application that reported this warning,\n",
      "please file a ticket with the developer.\n",
      "-------------------------------------------------------------------------------\n",
      "\n",
      "  \"\"\")\n"
     ]
    }
   ],
   "source": [
    "from konlpy.tag import Kkma\n",
    "kkma = Kkma()"
   ]
  },
  {
   "cell_type": "code",
   "execution_count": 2,
   "metadata": {},
   "outputs": [
    {
     "data": {
      "text/plain": [
       "['한국어 분석을 시작합니다', '재미있어요~~']"
      ]
     },
     "execution_count": 2,
     "metadata": {},
     "output_type": "execute_result"
    }
   ],
   "source": [
    "kkma.sentences('한국어 분석을 시작합니다 재미있어요~~')"
   ]
  },
  {
   "cell_type": "code",
   "execution_count": 3,
   "metadata": {},
   "outputs": [
    {
     "data": {
      "text/plain": [
       "['한국어', '분석']"
      ]
     },
     "execution_count": 3,
     "metadata": {},
     "output_type": "execute_result"
    }
   ],
   "source": [
    "kkma.nouns('한국어 분석을 시작합니다 재미있어요~~')"
   ]
  },
  {
   "cell_type": "code",
   "execution_count": 4,
   "metadata": {},
   "outputs": [
    {
     "data": {
      "text/plain": [
       "[('한국어', 'NNG'),\n",
       " ('분석', 'NNG'),\n",
       " ('을', 'JKO'),\n",
       " ('시작하', 'VV'),\n",
       " ('ㅂ니다', 'EFN'),\n",
       " ('재미있', 'VA'),\n",
       " ('어요', 'EFN'),\n",
       " ('~~', 'SW')]"
      ]
     },
     "execution_count": 4,
     "metadata": {},
     "output_type": "execute_result"
    }
   ],
   "source": [
    "kkma.pos('한국어 분석을 시작합니다 재미있어요~~')"
   ]
  },
  {
   "cell_type": "code",
   "execution_count": 5,
   "metadata": {},
   "outputs": [],
   "source": [
    "from konlpy.tag import Hannanum\n",
    "hannanum = Hannanum()"
   ]
  },
  {
   "cell_type": "code",
   "execution_count": 6,
   "metadata": {},
   "outputs": [
    {
     "data": {
      "text/plain": [
       "['한국어', '분석', '시작']"
      ]
     },
     "execution_count": 6,
     "metadata": {},
     "output_type": "execute_result"
    }
   ],
   "source": [
    "hannanum.nouns('한국어 분석을 시작합니다 재미있어요~~')"
   ]
  },
  {
   "cell_type": "code",
   "execution_count": 7,
   "metadata": {},
   "outputs": [
    {
     "data": {
      "text/plain": [
       "['한국어', '분석', '을', '시작', '하', 'ㅂ니다', '재미있', '어요', '~~']"
      ]
     },
     "execution_count": 7,
     "metadata": {},
     "output_type": "execute_result"
    }
   ],
   "source": [
    "hannanum.morphs('한국어 분석을 시작합니다 재미있어요~~')"
   ]
  },
  {
   "cell_type": "code",
   "execution_count": 8,
   "metadata": {},
   "outputs": [
    {
     "data": {
      "text/plain": [
       "[('한국어', 'N'),\n",
       " ('분석', 'N'),\n",
       " ('을', 'J'),\n",
       " ('시작', 'N'),\n",
       " ('하', 'X'),\n",
       " ('ㅂ니다', 'E'),\n",
       " ('재미있', 'P'),\n",
       " ('어요', 'E'),\n",
       " ('~~', 'S')]"
      ]
     },
     "execution_count": 8,
     "metadata": {},
     "output_type": "execute_result"
    }
   ],
   "source": [
    "hannanum.pos('한국어 분석을 시작합니다 재미있어요~~')"
   ]
  },
  {
   "cell_type": "code",
   "execution_count": 9,
   "metadata": {},
   "outputs": [
    {
     "name": "stderr",
     "output_type": "stream",
     "text": [
      "C:\\Users\\multicampus\\Anaconda3\\lib\\site-packages\\konlpy\\tag\\_okt.py:16: UserWarning: \"Twitter\" has changed to \"Okt\" since KoNLPy v0.4.5.\n",
      "  warn('\"Twitter\" has changed to \"Okt\" since KoNLPy v0.4.5.')\n"
     ]
    }
   ],
   "source": [
    "from konlpy.tag import Twitter\n",
    "t = Twitter()"
   ]
  },
  {
   "cell_type": "code",
   "execution_count": 10,
   "metadata": {},
   "outputs": [
    {
     "data": {
      "text/plain": [
       "['한국어', '분석', '시작']"
      ]
     },
     "execution_count": 10,
     "metadata": {},
     "output_type": "execute_result"
    }
   ],
   "source": [
    "t.nouns('한국어 분석을 시작합니다 재미있어요~~')"
   ]
  },
  {
   "cell_type": "code",
   "execution_count": 11,
   "metadata": {},
   "outputs": [
    {
     "data": {
      "text/plain": [
       "['한국어', '분석', '을', '시작', '합니다', '재미있어요', '~~']"
      ]
     },
     "execution_count": 11,
     "metadata": {},
     "output_type": "execute_result"
    }
   ],
   "source": [
    "t.morphs('한국어 분석을 시작합니다 재미있어요~~')"
   ]
  },
  {
   "cell_type": "code",
   "execution_count": 12,
   "metadata": {},
   "outputs": [
    {
     "data": {
      "text/plain": [
       "[('한국어', 'Noun'),\n",
       " ('분석', 'Noun'),\n",
       " ('을', 'Josa'),\n",
       " ('시작', 'Noun'),\n",
       " ('합니다', 'Verb'),\n",
       " ('재미있어요', 'Adjective'),\n",
       " ('~~', 'Punctuation')]"
      ]
     },
     "execution_count": 12,
     "metadata": {},
     "output_type": "execute_result"
    }
   ],
   "source": [
    "t.pos('한국어 분석을 시작합니다 재미있어요~~')"
   ]
  },
  {
   "cell_type": "markdown",
   "metadata": {},
   "source": [
    "## 8-3. 워드 클라우드\n",
    "\n",
    "* WordCloud 설치 : **pip install wordcloud**"
   ]
  },
  {
   "cell_type": "code",
   "execution_count": 13,
   "metadata": {},
   "outputs": [],
   "source": [
    "from wordcloud import WordCloud, STOPWORDS\n",
    "\n",
    "import numpy as np\n",
    "from PIL import Image"
   ]
  },
  {
   "cell_type": "code",
   "execution_count": 14,
   "metadata": {},
   "outputs": [],
   "source": [
    "text = open('../data/09. alice.txt').read()\n",
    "alice_mask = np.array(Image.open('../data/09. alice_mask.png'))\n",
    "\n",
    "stopwords = set(STOPWORDS)\n",
    "stopwords.add(\"said\")"
   ]
  },
  {
   "cell_type": "code",
   "execution_count": 15,
   "metadata": {},
   "outputs": [],
   "source": [
    "import matplotlib.pyplot as plt\n",
    "import platform\n",
    "\n",
    "path = \"c:/Windows/Fonts/malgun.ttf\"\n",
    "from matplotlib import font_manager, rc\n",
    "if platform.system() == 'Darwin':\n",
    "    rc('font', family='AppleGothic')\n",
    "elif platform.system() == 'Windows':\n",
    "    font_name = font_manager.FontProperties(fname=path).get_name()\n",
    "    rc('font', family=font_name)\n",
    "else:\n",
    "    print('Unknown system... sorry~~~~') \n",
    "    \n",
    "%matplotlib inline"
   ]
  },
  {
   "cell_type": "code",
   "execution_count": 16,
   "metadata": {
    "scrolled": false
   },
   "outputs": [
    {
     "data": {
      "image/png": "[encoded data removed]",
      "text/plain": [
       "<Figure size 576x576 with 1 Axes>"
      ]
     },
     "metadata": {
      "needs_background": "light"
     },
     "output_type": "display_data"
    }
   ],
   "source": [
    "plt.figure(figsize=(8,8))\n",
    "plt.imshow(alice_mask, cmap=plt.cm.gray, interpolation='bilinear')\n",
    "plt.axis('off')\n",
    "plt.show()"
   ]
  },
  {
   "cell_type": "code",
   "execution_count": 17,
   "metadata": {
    "scrolled": true
   },
   "outputs": [
    {
     "data": {
      "text/plain": [
       "{'Alice': 1.0,\n",
       " 'little': 0.2958904109589041,\n",
       " 'one': 0.2602739726027397,\n",
       " 'know': 0.2465753424657534,\n",
       " 'went': 0.2273972602739726,\n",
       " 'thing': 0.2191780821917808,\n",
       " 'time': 0.21095890410958903,\n",
       " 'Queen': 0.20821917808219179,\n",
       " 'see': 0.18356164383561643,\n",
       " 'King': 0.17534246575342466,\n",
       " 'now': 0.1643835616438356,\n",
       " 'began': 0.1589041095890411,\n",
       " 'way': 0.15616438356164383,\n",
       " 'Hatter': 0.15616438356164383,\n",
       " 'head': 0.15342465753424658,\n",
       " 'Mock Turtle': 0.15342465753424658,\n",
       " 'say': 0.1506849315068493,\n",
       " 'Gryphon': 0.1506849315068493,\n",
       " 'well': 0.14794520547945206,\n",
       " 'think': 0.14520547945205478,\n",
       " 'quite': 0.14246575342465753,\n",
       " 'much': 0.13972602739726028,\n",
       " 'first': 0.13972602739726028,\n",
       " 'go': 0.136986301369863,\n",
       " 'thought': 0.13424657534246576,\n",
       " 'come': 0.13150684931506848,\n",
       " 'never': 0.12876712328767123,\n",
       " 'voice': 0.12602739726027398,\n",
       " 'looked': 0.1232876712328767,\n",
       " 'got': 0.1232876712328767,\n",
       " 'must': 0.12054794520547946,\n",
       " 'Cat': 0.12054794520547946,\n",
       " 'Mouse': 0.12054794520547946,\n",
       " 'Duchess': 0.11506849315068493,\n",
       " 'round': 0.11232876712328767,\n",
       " 'back': 0.1095890410958904,\n",
       " 'Dormouse': 0.1095890410958904,\n",
       " 'make': 0.10410958904109589,\n",
       " 'tone': 0.10136986301369863,\n",
       " 'eye': 0.09863013698630137,\n",
       " 'Oh': 0.0958904109589041,\n",
       " 'came': 0.0958904109589041,\n",
       " 'last': 0.09315068493150686,\n",
       " 'nothing': 0.09315068493150686,\n",
       " 'tell': 0.09315068493150686,\n",
       " 'day': 0.09041095890410959,\n",
       " 'large': 0.09041095890410959,\n",
       " 'great': 0.09041095890410959,\n",
       " 'hand': 0.09041095890410959,\n",
       " 'found': 0.08767123287671233,\n",
       " 'long': 0.08767123287671233,\n",
       " 'door': 0.08767123287671233,\n",
       " 'looking': 0.08767123287671233,\n",
       " 'word': 0.08493150684931507,\n",
       " 'March Hare': 0.08493150684931507,\n",
       " 'made': 0.0821917808219178,\n",
       " 'heard': 0.0821917808219178,\n",
       " 'look': 0.07945205479452055,\n",
       " 'replied': 0.07945205479452055,\n",
       " 'put': 0.07671232876712329,\n",
       " 'two': 0.07671232876712329,\n",
       " 'Caterpillar': 0.07671232876712329,\n",
       " 'seemed': 0.07397260273972603,\n",
       " 'going': 0.07397260273972603,\n",
       " 'right': 0.07397260273972603,\n",
       " 'thought Alice': 0.07397260273972603,\n",
       " 'away': 0.07123287671232877,\n",
       " 'without': 0.07123287671232877,\n",
       " 'moment': 0.07123287671232877,\n",
       " 'course': 0.07123287671232877,\n",
       " 'Rabbit': 0.0684931506849315,\n",
       " 'next': 0.0684931506849315,\n",
       " 'rather': 0.0684931506849315,\n",
       " 'soon': 0.0684931506849315,\n",
       " 'yet': 0.0684931506849315,\n",
       " 'take': 0.06575342465753424,\n",
       " 'sure': 0.06575342465753424,\n",
       " 'sort': 0.06301369863013699,\n",
       " 'felt': 0.06301369863013699,\n",
       " 'added': 0.06301369863013699,\n",
       " 'getting': 0.06027397260273973,\n",
       " 'dear': 0.06027397260273973,\n",
       " 'three': 0.06027397260273973,\n",
       " 'find': 0.06027397260273973,\n",
       " 'White Rabbit': 0.06027397260273973,\n",
       " 'took': 0.057534246575342465,\n",
       " 'upon': 0.057534246575342465,\n",
       " 'wish': 0.057534246575342465,\n",
       " 'question': 0.057534246575342465,\n",
       " 'till': 0.057534246575342465,\n",
       " 'arm': 0.057534246575342465,\n",
       " 'use': 0.0547945205479452,\n",
       " 'anything': 0.0547945205479452,\n",
       " 'end': 0.0547945205479452,\n",
       " 'good': 0.0547945205479452,\n",
       " 'half': 0.0547945205479452,\n",
       " 'face': 0.0547945205479452,\n",
       " 'cried': 0.0547945205479452,\n",
       " 'minute': 0.0547945205479452,\n",
       " 'tried': 0.052054794520547946,\n",
       " 'even': 0.052054794520547946,\n",
       " 'house': 0.052054794520547946,\n",
       " 'tea': 0.052054794520547946,\n",
       " 'might': 0.052054794520547946,\n",
       " 'curious': 0.052054794520547946,\n",
       " 'wonder': 0.049315068493150684,\n",
       " 'table': 0.049315068493150684,\n",
       " 'enough': 0.049315068493150684,\n",
       " 'something': 0.049315068493150684,\n",
       " 'jury': 0.049315068493150684,\n",
       " 'another': 0.04657534246575343,\n",
       " 'Let': 0.04657534246575343,\n",
       " 'spoke': 0.04657534246575343,\n",
       " 'perhaps': 0.04657534246575343,\n",
       " 'talking': 0.04657534246575343,\n",
       " 'begin': 0.04657534246575343,\n",
       " 'sat': 0.04657534246575343,\n",
       " 'asked': 0.04657534246575343,\n",
       " 'Bill': 0.04657534246575343,\n",
       " 'ran': 0.043835616438356165,\n",
       " 'air': 0.043835616438356165,\n",
       " 'bit': 0.043835616438356165,\n",
       " 'turned': 0.043835616438356165,\n",
       " 'garden': 0.043835616438356165,\n",
       " 'indeed': 0.043835616438356165,\n",
       " 'hastily': 0.043835616438356165,\n",
       " 'seen': 0.0410958904109589,\n",
       " 'idea': 0.0410958904109589,\n",
       " 'eat': 0.0410958904109589,\n",
       " 'saying': 0.0410958904109589,\n",
       " 'low': 0.0410958904109589,\n",
       " 'side': 0.0410958904109589,\n",
       " 'leave': 0.0410958904109589,\n",
       " 'gave': 0.0410958904109589,\n",
       " 'speak': 0.0410958904109589,\n",
       " 'done': 0.0410958904109589,\n",
       " 'called': 0.0410958904109589,\n",
       " 'mean': 0.0410958904109589,\n",
       " 'mad': 0.0410958904109589,\n",
       " 'court': 0.0410958904109589,\n",
       " 'may': 0.038356164383561646,\n",
       " 'beginning': 0.038356164383561646,\n",
       " 'hear': 0.038356164383561646,\n",
       " 'feet': 0.038356164383561646,\n",
       " 'saw': 0.038356164383561646,\n",
       " 'please': 0.038356164383561646,\n",
       " 'remember': 0.038356164383561646,\n",
       " 'trying': 0.038356164383561646,\n",
       " 'certainly': 0.038356164383561646,\n",
       " 'game': 0.038356164383561646,\n",
       " 'left': 0.038356164383561646,\n",
       " 'anxiously': 0.038356164383561646,\n",
       " 'everything': 0.038356164383561646,\n",
       " 'knew': 0.038356164383561646,\n",
       " 'sea': 0.038356164383561646,\n",
       " 'suppose': 0.038356164383561646,\n",
       " 'talk': 0.038356164383561646,\n",
       " 'us': 0.038356164383561646,\n",
       " 'Ye': 0.038356164383561646,\n",
       " 'turn': 0.038356164383561646,\n",
       " 'baby': 0.038356164383561646,\n",
       " 'creature': 0.038356164383561646,\n",
       " 'book': 0.03561643835616438,\n",
       " 'suddenly': 0.03561643835616438,\n",
       " 'close': 0.03561643835616438,\n",
       " 'happen': 0.03561643835616438,\n",
       " 'still': 0.03561643835616438,\n",
       " 'seem': 0.03561643835616438,\n",
       " 'people': 0.03561643835616438,\n",
       " 'behind': 0.03561643835616438,\n",
       " 'really': 0.03561643835616438,\n",
       " 'will': 0.03561643835616438,\n",
       " 'grow': 0.03561643835616438,\n",
       " 'far': 0.03561643835616438,\n",
       " 'kept': 0.03561643835616438,\n",
       " 'used': 0.03561643835616438,\n",
       " 'lesson': 0.03561643835616438,\n",
       " 'always': 0.03561643835616438,\n",
       " 'Dodo': 0.03561643835616438,\n",
       " 'whole': 0.03561643835616438,\n",
       " 'better': 0.03561643835616438,\n",
       " 'room': 0.03561643835616438,\n",
       " 'gone': 0.03561643835616438,\n",
       " 'remark': 0.03561643835616438,\n",
       " 'cook': 0.03561643835616438,\n",
       " 'CHAPTER': 0.03287671232876712,\n",
       " 'many': 0.03287671232876712,\n",
       " 'near': 0.03287671232876712,\n",
       " 'among': 0.03287671232876712,\n",
       " 'name': 0.03287671232876712,\n",
       " 'Dinah': 0.03287671232876712,\n",
       " 'afraid': 0.03287671232876712,\n",
       " 'every': 0.03287671232876712,\n",
       " 'finished': 0.03287671232876712,\n",
       " 'best': 0.03287671232876712,\n",
       " 'hardly': 0.03287671232876712,\n",
       " 'life': 0.03287671232876712,\n",
       " 'queer': 0.03287671232876712,\n",
       " 'try': 0.03287671232876712,\n",
       " 'tail': 0.03287671232876712,\n",
       " 'live': 0.03287671232876712,\n",
       " 'change': 0.03287671232876712,\n",
       " 'turning': 0.03287671232876712,\n",
       " 'bird': 0.03287671232876712,\n",
       " 'serpent': 0.03287671232876712,\n",
       " 'Pigeon': 0.03287671232876712,\n",
       " 'tree': 0.03287671232876712,\n",
       " 'minute two': 0.03287671232876712,\n",
       " 'sister': 0.030136986301369864,\n",
       " 'conversation': 0.030136986301369864,\n",
       " 'mind': 0.030136986301369864,\n",
       " 'whether': 0.030136986301369864,\n",
       " 'hurried': 0.030136986301369864,\n",
       " 'though': 0.030136986301369864,\n",
       " 'glad': 0.030136986301369864,\n",
       " 'ask': 0.030136986301369864,\n",
       " 'matter': 0.030136986301369864,\n",
       " 'read': 0.030136986301369864,\n",
       " 'waited': 0.030136986301369864,\n",
       " 'tears': 0.030136986301369864,\n",
       " 'child': 0.030136986301369864,\n",
       " 'growing': 0.030136986301369864,\n",
       " 'pool': 0.030136986301369864,\n",
       " 'want': 0.030136986301369864,\n",
       " 'thinking': 0.030136986301369864,\n",
       " 'nearly': 0.030136986301369864,\n",
       " 'silence': 0.030136986301369864,\n",
       " 'trial': 0.030136986301369864,\n",
       " 'slate': 0.030136986301369864,\n",
       " 'keep': 0.030136986301369864,\n",
       " 'pig': 0.030136986301369864,\n",
       " 'Footman': 0.030136986301369864,\n",
       " 'ear': 0.030136986301369864,\n",
       " 'soldier': 0.030136986301369864,\n",
       " 'poor Alice': 0.030136986301369864,\n",
       " 'give': 0.0273972602739726,\n",
       " 'sitting': 0.0273972602739726,\n",
       " 'either': 0.0273972602739726,\n",
       " 'answer': 0.0273972602739726,\n",
       " 'sight': 0.0273972602739726,\n",
       " 'walked': 0.0273972602739726,\n",
       " 'small': 0.0273972602739726,\n",
       " 'opened': 0.0273972602739726,\n",
       " 'bottle': 0.0273972602739726,\n",
       " 'children': 0.0273972602739726,\n",
       " 'foot': 0.0273972602739726,\n",
       " 'mine': 0.0273972602739726,\n",
       " 'party': 0.0273972602739726,\n",
       " 'explain': 0.0273972602739726,\n",
       " 'rest': 0.0273972602739726,\n",
       " 'reason': 0.0273972602739726,\n",
       " 'place': 0.0273972602739726,\n",
       " 'mouth': 0.0273972602739726,\n",
       " 'repeated': 0.0273972602739726,\n",
       " 'remarked': 0.0273972602739726,\n",
       " 'Soup': 0.0273972602739726,\n",
       " 'hedgehog': 0.0273972602739726,\n",
       " 'lobster': 0.0273972602739726,\n",
       " 'Oh dear': 0.0273972602739726,\n",
       " 'coming': 0.024657534246575342,\n",
       " 'top': 0.024657534246575342,\n",
       " 'hall': 0.024657534246575342,\n",
       " 'rate': 0.024657534246575342,\n",
       " 'waiting': 0.024657534246575342,\n",
       " 'feeling': 0.024657534246575342,\n",
       " 'size': 0.024657534246575342,\n",
       " 'help': 0.024657534246575342,\n",
       " 'different': 0.024657534246575342,\n",
       " 'sit': 0.024657534246575342,\n",
       " 'old': 0.024657534246575342,\n",
       " 'continued': 0.024657534246575342,\n",
       " 'believe': 0.024657534246575342,\n",
       " 'piece': 0.024657534246575342,\n",
       " 'call': 0.024657534246575342,\n",
       " 'angrily': 0.024657534246575342,\n",
       " 'least': 0.024657534246575342,\n",
       " 'together': 0.024657534246575342,\n",
       " 'shouted': 0.024657534246575342,\n",
       " 'timidly': 0.024657534246575342,\n",
       " 'puzzled': 0.024657534246575342,\n",
       " 'interrupted': 0.024657534246575342,\n",
       " 'moral': 0.024657534246575342,\n",
       " 'poor little': 0.024657534246575342,\n",
       " 'might well': 0.024657534246575342,\n",
       " 'join dance': 0.024657534246575342,\n",
       " 'feel': 0.021917808219178082,\n",
       " 'making': 0.021917808219178082,\n",
       " 'watch': 0.021917808219178082,\n",
       " 'slowly': 0.021917808219178082,\n",
       " 'noticed': 0.021917808219178082,\n",
       " 'four': 0.021917808219178082,\n",
       " 'opportunity': 0.021917808219178082,\n",
       " 'distance': 0.021917808219178082,\n",
       " \"it'll\": 0.021917808219178082,\n",
       " 'sound': 0.021917808219178082,\n",
       " 'dry': 0.021917808219178082,\n",
       " 'bright': 0.021917808219178082,\n",
       " 'fact': 0.021917808219178082,\n",
       " 'tart': 0.021917808219178082,\n",
       " 'followed': 0.021917808219178082,\n",
       " 'lying': 0.021917808219178082,\n",
       " 'set': 0.021917808219178082,\n",
       " 'ready': 0.021917808219178082,\n",
       " 'hard': 0.021917808219178082,\n",
       " 'changed': 0.021917808219178082,\n",
       " 'Five': 0.021917808219178082,\n",
       " 'eagerly': 0.021917808219178082,\n",
       " 'meaning': 0.021917808219178082,\n",
       " 'running': 0.021917808219178082,\n",
       " 'everybody': 0.021917808219178082,\n",
       " 'exactly': 0.021917808219178082,\n",
       " 'nobody': 0.021917808219178082,\n",
       " 'direction': 0.021917808219178082,\n",
       " 'window': 0.021917808219178082,\n",
       " 'appeared': 0.021917808219178082,\n",
       " 'wood': 0.021917808219178082,\n",
       " 'mushroom': 0.021917808219178082,\n",
       " 'pepper': 0.021917808219178082,\n",
       " 'fish': 0.021917808219178082,\n",
       " 'verse': 0.021917808219178082,\n",
       " 'shoulder': 0.021917808219178082,\n",
       " 'rule': 0.021917808219178082,\n",
       " 'whiting': 0.021917808219178082,\n",
       " 'beautiful Soup': 0.021917808219178082,\n",
       " 'almost': 0.019178082191780823,\n",
       " 'English': 0.019178082191780823,\n",
       " 'tired': 0.019178082191780823,\n",
       " 'hot': 0.019178082191780823,\n",
       " 'world': 0.019178082191780823,\n",
       " 'deep': 0.019178082191780823,\n",
       " 'somebody': 0.019178082191780823,\n",
       " 'fall': 0.019178082191780823,\n",
       " 'listen': 0.019178082191780823,\n",
       " 'fancy': 0.019178082191780823,\n",
       " 'manage': 0.019178082191780823,\n",
       " 'begun': 0.019178082191780823,\n",
       " 'dream': 0.019178082191780823,\n",
       " 'middle': 0.019178082191780823,\n",
       " 'wondering': 0.019178082191780823,\n",
       " 'glass': 0.019178082191780823,\n",
       " 'open': 0.019178082191780823,\n",
       " 'high': 0.019178082191780823,\n",
       " 'larger': 0.019178082191780823,\n",
       " 'poor': 0.019178082191780823,\n",
       " 'happened': 0.019178082191780823,\n",
       " 'neck': 0.019178082191780823,\n",
       " 'drink': 0.019178082191780823,\n",
       " 'hold': 0.019178082191780823,\n",
       " 'generally': 0.019178082191780823,\n",
       " 'surprised': 0.019178082191780823,\n",
       " 'kind': 0.019178082191780823,\n",
       " 'nonsense': 0.019178082191780823,\n",
       " 'fan': 0.019178082191780823,\n",
       " 'hair': 0.019178082191780823,\n",
       " 'goes': 0.019178082191780823,\n",
       " 'repeat': 0.019178082191780823,\n",
       " 'grin': 0.019178082191780823,\n",
       " 'learn': 0.019178082191780823,\n",
       " 'frightened': 0.019178082191780823,\n",
       " 'chin': 0.019178082191780823,\n",
       " 'history': 0.019178082191780823,\n",
       " 'fetch': 0.019178082191780823,\n",
       " 'Lory': 0.019178082191780823,\n",
       " 'important': 0.019178082191780823,\n",
       " 'others': 0.019178082191780823,\n",
       " 'chimney': 0.019178082191780823,\n",
       " 'grown': 0.019178082191780823,\n",
       " 'business': 0.019178082191780823,\n",
       " 'puppy': 0.019178082191780823,\n",
       " 'paw': 0.019178082191780823,\n",
       " 'nose': 0.019178082191780823,\n",
       " 'silent': 0.019178082191780823,\n",
       " 'pleased': 0.019178082191780823,\n",
       " 'song': 0.019178082191780823,\n",
       " 'treacle': 0.019178082191780823,\n",
       " 'Heart': 0.019178082191780823,\n",
       " 'good deal': 0.019178082191780823,\n",
       " 'Soo oop': 0.019178082191780823,\n",
       " 'Adventures': 0.01643835616438356,\n",
       " 'stupid': 0.01643835616438356,\n",
       " 'trouble': 0.01643835616438356,\n",
       " 'late': 0.01643835616438356,\n",
       " 'fell': 0.01643835616438356,\n",
       " 'nice': 0.01643835616438356,\n",
       " 'written': 0.01643835616438356,\n",
       " 'jumped': 0.01643835616438356,\n",
       " 'roof': 0.01643835616438356,\n",
       " 'along': 0.01643835616438356,\n",
       " 'forgotten': 0.01643835616438356,\n",
       " 'ten': 0.01643835616438356,\n",
       " 'box': 0.01643835616438356,\n",
       " 'cake': 0.01643835616438356,\n",
       " 'care': 0.01643835616438356,\n",
       " 'pair': 0.01643835616438356,\n",
       " 'stop': 0.01643835616438356,\n",
       " 'sir': 0.01643835616438356,\n",
       " 'Seven': 0.01643835616438356,\n",
       " 'stay': 0.01643835616438356,\n",
       " 'understand': 0.01643835616438356,\n",
       " 'sentence': 0.01643835616438356,\n",
       " 'animal': 0.01643835616438356,\n",
       " 'dog': 0.01643835616438356,\n",
       " 'politely': 0.01643835616438356,\n",
       " 'melancholy': 0.01643835616438356,\n",
       " 'liked': 0.01643835616438356,\n",
       " 'hour': 0.01643835616438356,\n",
       " 'chorus': 0.01643835616438356,\n",
       " 'prize': 0.01643835616438356,\n",
       " 'executed': 0.01643835616438356,\n",
       " 'full': 0.01643835616438356,\n",
       " 'write': 0.01643835616438356,\n",
       " 'shriek': 0.01643835616438356,\n",
       " 'loud': 0.01643835616438356,\n",
       " 'sharp': 0.01643835616438356,\n",
       " 'Lizard': 0.01643835616438356,\n",
       " 'stand': 0.01643835616438356,\n",
       " 'sleep': 0.01643835616438356,\n",
       " 'egg': 0.01643835616438356,\n",
       " 'sneezing': 0.01643835616438356,\n",
       " 'told': 0.01643835616438356,\n",
       " 'dreadfully': 0.01643835616438356,\n",
       " 'sing': 0.01643835616438356,\n",
       " 'exclaimed': 0.01643835616438356,\n",
       " 'Knave': 0.01643835616438356,\n",
       " 'procession': 0.01643835616438356,\n",
       " 'Majesty': 0.01643835616438356,\n",
       " 'executioner': 0.01643835616438356,\n",
       " 'school': 0.01643835616438356,\n",
       " 'Adventures Wonderland': 0.01643835616438356,\n",
       " 'little girl': 0.01643835616438356,\n",
       " 'one side': 0.01643835616438356,\n",
       " 'golden key': 0.01643835616438356,\n",
       " 'set work': 0.01643835616438356,\n",
       " 'great hurry': 0.01643835616438356,\n",
       " 'beg pardon': 0.01643835616438356,\n",
       " 'Cheshire Cat': 0.01643835616438356,\n",
       " 'bread butter': 0.01643835616438356,\n",
       " 'three gardeners': 0.01643835616438356,\n",
       " 'please Majesty': 0.01643835616438356,\n",
       " 'Will will': 0.01643835616438356,\n",
       " 'guinea pig': 0.01643835616438356,\n",
       " 'eBook': 0.0136986301369863,\n",
       " 'twice': 0.0136986301369863,\n",
       " 'sleepy': 0.0136986301369863,\n",
       " 'pocket': 0.0136986301369863,\n",
       " 'across': 0.0136986301369863,\n",
       " 'curiosity': 0.0136986301369863,\n",
       " 'passed': 0.0136986301369863,\n",
       " 'home': 0.0136986301369863,\n",
       " 'likely': 0.0136986301369863,\n",
       " 'aloud': 0.0136986301369863,\n",
       " 'walk': 0.0136986301369863,\n",
       " 'new': 0.0136986301369863,\n",
       " 'asking': 0.0136986301369863,\n",
       " 'night': 0.0136986301369863,\n",
       " 'sometimes': 0.0136986301369863,\n",
       " 'walking': 0.0136986301369863,\n",
       " 'corner': 0.0136986301369863,\n",
       " 'sadly': 0.0136986301369863,\n",
       " 'shut': 0.0136986301369863,\n",
       " 'hurry': 0.0136986301369863,\n",
       " 'simple': 0.0136986301369863,\n",
       " 'cut': 0.0136986301369863,\n",
       " 'nervous': 0.0136986301369863,\n",
       " 'altogether': 0.0136986301369863,\n",
       " 'remembered': 0.0136986301369863,\n",
       " 'person': 0.0136986301369863,\n",
       " 'deal': 0.0136986301369863,\n",
       " 'nine': 0.0136986301369863,\n",
       " 'dropped': 0.0136986301369863,\n",
       " 'usual': 0.0136986301369863,\n",
       " 'morning': 0.0136986301369863,\n",
       " 'Ah': 0.0136986301369863,\n",
       " 'wrong': 0.0136986301369863,\n",
       " 'sounded': 0.0136986301369863,\n",
       " 'strange': 0.0136986301369863,\n",
       " 'sudden': 0.0136986301369863,\n",
       " 'case': 0.0136986301369863,\n",
       " 'number': 0.0136986301369863,\n",
       " 'swam': 0.0136986301369863,\n",
       " 'nearer': 0.0136986301369863,\n",
       " 'speaking': 0.0136986301369863,\n",
       " 'shrill': 0.0136986301369863,\n",
       " 'angry': 0.0136986301369863,\n",
       " 'offended': 0.0136986301369863,\n",
       " 'crowded': 0.0136986301369863,\n",
       " 'tale': 0.0136986301369863,\n",
       " 'argument': 0.0136986301369863,\n",
       " 'notice': 0.0136986301369863,\n",
       " 'dare': 0.0136986301369863,\n",
       " 'confusion': 0.0136986301369863,\n",
       " 'reply': 0.0136986301369863,\n",
       " 'story': 0.0136986301369863,\n",
       " 'shook': 0.0136986301369863,\n",
       " 'impatiently': 0.0136986301369863,\n",
       " 'sighed': 0.0136986301369863,\n",
       " 'temper': 0.0136986301369863,\n",
       " 'moved': 0.0136986301369863,\n",
       " 'swim': 0.0136986301369863,\n",
       " 'interesting': 0.0136986301369863,\n",
       " 'become': 0.0136986301369863,\n",
       " 'taking': 0.0136986301369863,\n",
       " 'drew': 0.0136986301369863,\n",
       " 'sky': 0.0136986301369863,\n",
       " 'instantly': 0.0136986301369863,\n",
       " 'surprise': 0.0136986301369863,\n",
       " 'stick': 0.0136986301369863,\n",
       " 'height': 0.0136986301369863,\n",
       " 'quietly': 0.0136986301369863,\n",
       " 'present': 0.0136986301369863,\n",
       " 'man': 0.0136986301369863,\n",
       " 'often': 0.0136986301369863,\n",
       " 'follow': 0.0136986301369863,\n",
       " 'draw': 0.0136986301369863,\n",
       " 'sob': 0.0136986301369863,\n",
       " 'ground': 0.0136986301369863,\n",
       " 'meant': 0.0136986301369863,\n",
       " 'waving': 0.0136986301369863,\n",
       " 'asleep': 0.0136986301369863,\n",
       " 'knee': 0.0136986301369863,\n",
       " 'whispered': 0.0136986301369863,\n",
       " 'execution': 0.0136986301369863,\n",
       " 'flamingo': 0.0136986301369863,\n",
       " 'friend': 0.0136986301369863,\n",
       " 'Turtle': 0.0136986301369863,\n",
       " 'Tis': 0.0136986301369863,\n",
       " 'picture': 0.0136986301369863,\n",
       " 'juror': 0.0136986301369863,\n",
       " 'witness': 0.0136986301369863,\n",
       " 'teacup': 0.0136986301369863,\n",
       " 'unimportant': 0.0136986301369863,\n",
       " 'mile': 0.0136986301369863,\n",
       " 'another moment': 0.0136986301369863,\n",
       " 'came upon': 0.0136986301369863,\n",
       " 'little golden': 0.0136986301369863,\n",
       " 'right size': 0.0136986301369863,\n",
       " 'feet high': 0.0136986301369863,\n",
       " 'white kid': 0.0136986301369863,\n",
       " 'kid gloves': 0.0136986301369863,\n",
       " 'trembling voice': 0.0136986301369863,\n",
       " 'offended tone': 0.0136986301369863,\n",
       " 'play croquet': 0.0136986301369863,\n",
       " 'Twinkle twinkle': 0.0136986301369863,\n",
       " 'evening Beautiful': 0.0136986301369863,\n",
       " 'next witness': 0.0136986301369863,\n",
       " 'March': 0.010958904109589041,\n",
       " 'bank': 0.010958904109589041,\n",
       " 'worth': 0.010958904109589041,\n",
       " 'natural': 0.010958904109589041,\n",
       " 'fear': 0.010958904109589041,\n",
       " 'managed': 0.010958904109589041,\n",
       " 'true': 0.010958904109589041,\n",
       " 'fallen': 0.010958904109589041,\n",
       " 'earth': 0.010958904109589041,\n",
       " 'several': 0.010958904109589041,\n",
       " 'Miss': 0.010958904109589041,\n",
       " 'catch': 0.010958904109589041,\n",
       " 'passage': 0.010958904109589041,\n",
       " 'except': 0.010958904109589041,\n",
       " 'tiny': 0.010958904109589041,\n",
       " 'alas': 0.010958904109589041,\n",
       " 'second': 0.010958904109589041,\n",
       " 'led': 0.010958904109589041,\n",
       " 'telescope': 0.010958904109589041,\n",
       " 'paper': 0.010958904109589041,\n",
       " 'taught': 0.010958904109589041,\n",
       " 'deeply': 0.010958904109589041,\n",
       " 'ventured': 0.010958904109589041,\n",
       " 'reach': 0.010958904109589041,\n",
       " 'sharply': 0.010958904109589041,\n",
       " 'severely': 0.010958904109589041,\n",
       " 'fond': 0.010958904109589041,\n",
       " 'shoes': 0.010958904109589041,\n",
       " 'savage': 0.010958904109589041,\n",
       " 'violently': 0.010958904109589041,\n",
       " 'age': 0.010958904109589041,\n",
       " 'Mabel': 0.010958904109589041,\n",
       " 'besides': 0.010958904109589041,\n",
       " 'puzzling': 0.010958904109589041,\n",
       " 'twelve': 0.010958904109589041,\n",
       " 'capital': 0.010958904109589041,\n",
       " 'alone': 0.010958904109589041,\n",
       " 'escape': 0.010958904109589041,\n",
       " 'water': 0.010958904109589041,\n",
       " 'digging': 0.010958904109589041,\n",
       " 'French': 0.010958904109589041,\n",
       " 'William': 0.010958904109589041,\n",
       " 'fire': 0.010958904109589041,\n",
       " 'pale': 0.010958904109589041,\n",
       " 'shore': 0.010958904109589041,\n",
       " 'Duck': 0.010958904109589041,\n",
       " 'uncomfortable': 0.010958904109589041,\n",
       " 'wanted': 0.010958904109589041,\n",
       " 'frowning': 0.010958904109589041,\n",
       " 'solemnly': 0.010958904109589041,\n",
       " 'pointing': 0.010958904109589041,\n",
       " 'confused': 0.010958904109589041,\n",
       " 'short': 0.010958904109589041,\n",
       " 'bowed': 0.010958904109589041,\n",
       " 'noise': 0.010958904109589041,\n",
       " 'whisper': 0.010958904109589041,\n",
       " 'judge': 0.010958904109589041,\n",
       " 'breath': 0.010958904109589041,\n",
       " 'particular': 0.010958904109589041,\n",
       " 'vanished': 0.010958904109589041,\n",
       " 'run': 0.010958904109589041,\n",
       " 'stood': 0.010958904109589041,\n",
       " 'elbow': 0.010958904109589041,\n",
       " 'chance': 0.010958904109589041,\n",
       " 'answered': 0.010958904109589041,\n",
       " 'outside': 0.010958904109589041,\n",
       " 'hearing': 0.010958904109589041,\n",
       " 'master': 0.010958904109589041,\n",
       " 'Thank': 0.010958904109589041,\n",
       " 'doubt': 0.010958904109589041,\n",
       " 'lay': 0.010958904109589041,\n",
       " 'crowd': 0.010958904109589041,\n",
       " 'held': 0.010958904109589041,\n",
       " 'plan': 0.010958904109589041,\n",
       " 'difficulty': 0.010958904109589041,\n",
       " 'grass': 0.010958904109589041,\n",
       " 'perfectly': 0.010958904109589041,\n",
       " 'none': 0.010958904109589041,\n",
       " 'stuff': 0.010958904109589041,\n",
       " 'decidedly': 0.010958904109589041,\n",
       " 'thoughtfully': 0.010958904109589041,\n",
       " 'green': 0.010958904109589041,\n",
       " 'screamed': 0.010958904109589041,\n",
       " 'indignantly': 0.010958904109589041,\n",
       " 'taken': 0.010958904109589041,\n",
       " 'letter': 0.010958904109589041,\n",
       " 'dish': 0.010958904109589041,\n",
       " 'kitchen': 0.010958904109589041,\n",
       " 'sneeze': 0.010958904109589041,\n",
       " 'jumping': 0.010958904109589041,\n",
       " 'carried': 0.010958904109589041,\n",
       " 'growl': 0.010958904109589041,\n",
       " 'busily': 0.010958904109589041,\n",
       " 'beat': 0.010958904109589041,\n",
       " 'grunted': 0.010958904109589041,\n",
       " 'less': 0.010958904109589041,\n",
       " 'writing': 0.010958904109589041,\n",
       " 'crumbs': 0.010958904109589041,\n",
       " 'twinkling': 0.010958904109589041,\n",
       " 'sigh': 0.010958904109589041,\n",
       " 'bottom': 0.010958904109589041,\n",
       " 'flower': 0.010958904109589041,\n",
       " 'rose': 0.010958904109589041,\n",
       " 'arches': 0.010958904109589041,\n",
       " 'players': 0.010958904109589041,\n",
       " 'week': 0.010958904109589041,\n",
       " 'figure': 0.010958904109589041,\n",
       " 'porpoise': 0.010958904109589041,\n",
       " 'evidence': 0.010958904109589041,\n",
       " 'suppressed': 0.010958904109589041,\n",
       " 'jurymen': 0.010958904109589041,\n",
       " 'fit': 0.010958904109589041,\n",
       " 'Lewis Carroll': 0.010958904109589041,\n",
       " 'Project Gutenberg': 0.010958904109589041,\n",
       " 'rabbit hole': 0.010958904109589041,\n",
       " 'eat bat': 0.010958904109589041,\n",
       " 'inches high': 0.010958904109589041,\n",
       " 'change subject': 0.010958904109589041,\n",
       " 'one finger': 0.010958904109589041,\n",
       " 'shook head': 0.010958904109589041,\n",
       " 'Mary Ann': 0.010958904109589041,\n",
       " 'yer honour': 0.010958904109589041,\n",
       " 'old fellow': 0.010958904109589041,\n",
       " 'hookah mouth': 0.010958904109589041,\n",
       " 'FATHER WILLIAM': 0.010958904109589041,\n",
       " 'Wow wow': 0.010958904109589041,\n",
       " 'Lobster Quadrille': 0.010958904109589041,\n",
       " 'dance Will': 0.010958904109589041,\n",
       " 'will join': 0.010958904109589041,\n",
       " 'Beau ootiful': 0.010958904109589041,\n",
       " 'ootiful Soo': 0.010958904109589041,\n",
       " 'jury box': 0.010958904109589041,\n",
       " 'Date': 0.00821917808219178,\n",
       " 'peeped': 0.00821917808219178,\n",
       " 'reading': 0.00821917808219178,\n",
       " 'considering': 0.00821917808219178,\n",
       " 'White': 0.00821917808219178,\n",
       " 'hedge': 0.00821917808219178,\n",
       " 'dark': 0.00821917808219178,\n",
       " 'filled': 0.00821917808219178,\n",
       " 'past': 0.00821917808219178,\n",
       " 'stairs': 0.00821917808219178,\n",
       " 'somewhere': 0.00821917808219178,\n",
       " 'knowledge': 0.00821917808219178,\n",
       " 'grand': 0.00821917808219178,\n",
       " 'funny': 0.00821917808219178,\n",
       " 'listening': 0.00821917808219178,\n",
       " 'hope': 0.00821917808219178,\n",
       " 'bat': 0.00821917808219178,\n",
       " 'hurt': 0.00821917808219178,\n",
       " 'lost': 0.00821917808219178,\n",
       " 'whiskers': 0.00821917808219178,\n",
       " 'longer': 0.00821917808219178,\n",
       " 'hanging': 0.00821917808219178,\n",
       " 'key': 0.00821917808219178,\n",
       " 'belong': 0.00821917808219178,\n",
       " 'lock': 0.00821917808219178,\n",
       " 'delight': 0.00821917808219178,\n",
       " 'impossible': 0.00821917808219178,\n",
       " 'marked': 0.00821917808219178,\n",
       " 'red': 0.00821917808219178,\n",
       " 'knife': 0.00821917808219178,\n",
       " 'certain': 0.00821917808219178,\n",
       " 'taste': 0.00821917808219178,\n",
       " 'finding': 0.00821917808219178,\n",
       " 'apple': 0.00821917808219178,\n",
       " 'candle': 0.00821917808219178,\n",
       " 'decided': 0.00821917808219178,\n",
       " 'possibly': 0.00821917808219178,\n",
       " 'legs': 0.00821917808219178,\n",
       " 'bring': 0.00821917808219178,\n",
       " 'smaller': 0.00821917808219178,\n",
       " 'holding': 0.00821917808219178,\n",
       " 'remained': 0.00821917808219178,\n",
       " 'expecting': 0.00821917808219178,\n",
       " 'dull': 0.00821917808219178,\n",
       " 'work': 0.00821917808219178,\n",
       " 'opening': 0.00821917808219178,\n",
       " 'love': 0.00821917808219178,\n",
       " 'cry': 0.00821917808219178,\n",
       " 'pattering': 0.00821917808219178,\n",
       " 'gloves': 0.00821917808219178,\n",
       " 'muttering': 0.00821917808219178,\n",
       " 'timid': 0.00821917808219178,\n",
       " 'yesterday': 0.00821917808219178,\n",
       " 'twenty': 0.00821917808219178,\n",
       " 'doth': 0.00821917808219178,\n",
       " 'crossed': 0.00821917808219178,\n",
       " 'hoarse': 0.00821917808219178,\n",
       " 'spread': 0.00821917808219178,\n",
       " 'gently': 0.00821917808219178,\n",
       " 'play': 0.00821917808219178,\n",
       " 'putting': 0.00821917808219178,\n",
       " 'guess': 0.00821917808219178,\n",
       " 'cause': 0.00821917808219178,\n",
       " 'worse': 0.00821917808219178,\n",
       " 'slipped': 0.00821917808219178,\n",
       " 'general': 0.00821917808219178,\n",
       " 'notion': 0.00821917808219178,\n",
       " 'show': 0.00821917808219178,\n",
       " 'nurse': 0.00821917808219178,\n",
       " 'subject': 0.00821917808219178,\n",
       " 'throw': 0.00821917808219178,\n",
       " 'passion': 0.00821917808219178,\n",
       " 'Eaglet': 0.00821917808219178,\n",
       " 'race': 0.00821917808219178,\n",
       " 'fur': 0.00821917808219178,\n",
       " 'sulky': 0.00821917808219178,\n",
       " 'allow': 0.00821917808219178,\n",
       " 'frog': 0.00821917808219178,\n",
       " 'crown': 0.00821917808219178,\n",
       " 'move': 0.00821917808219178,\n",
       " 'pressed': 0.00821917808219178,\n",
       " 'handed': 0.00821917808219178,\n",
       " 'gravely': 0.00821917808219178,\n",
       " 'thimble': 0.00821917808219178,\n",
       " 'speech': 0.00821917808219178,\n",
       " 'cheered': 0.00821917808219178,\n",
       " 'grave': 0.00821917808219178,\n",
       " 'simply': 0.00821917808219178,\n",
       " 'solemn': 0.00821917808219178,\n",
       " 'choked': 0.00821917808219178,\n",
       " 'sad': 0.00821917808219178,\n",
       " 'sighing': 0.00821917808219178,\n",
       " 'Fury': 0.00821917808219178,\n",
       " 'met': 0.00821917808219178,\n",
       " 'attending': 0.00821917808219178,\n",
       " 'pleaded': 0.00821917808219178,\n",
       " 'easily': 0.00821917808219178,\n",
       " 'joined': 0.00821917808219178,\n",
       " 'pity': 0.00821917808219178,\n",
       " 'Crab': 0.00821917808219178,\n",
       " 'venture': 0.00821917808219178,\n",
       " 'carefully': 0.00821917808219178,\n",
       " 'suit': 0.00821917808219178,\n",
       " 'bed': 0.00821917808219178,\n",
       " 'mentioned': 0.00821917808219178,\n",
       " 'guessed': 0.00821917808219178,\n",
       " 'hunting': 0.00821917808219178,\n",
       " 'mistake': 0.00821917808219178,\n",
       " 'plate': 0.00821917808219178,\n",
       " 'knocking': 0.00821917808219178,\n",
       " 'real': 0.00821917808219178,\n",
       " 'broken': 0.00821917808219178,\n",
       " 'floor': 0.00821917808219178,\n",
       " 'effect': 0.00821917808219178,\n",
       " 'whatever': 0.00821917808219178,\n",
       " 'ordered': 0.00821917808219178,\n",
       " 'stopped': 0.00821917808219178,\n",
       " 'crash': 0.00821917808219178,\n",
       " 'Pat': 0.00821917808219178,\n",
       " 'em': 0.00821917808219178,\n",
       " 'kick': 0.00821917808219178,\n",
       " 'sense': 0.00821917808219178,\n",
       " 'moving': 0.00821917808219178,\n",
       " 'hungry': 0.00821917808219178,\n",
       " 'picked': 0.00821917808219178,\n",
       " 'edge': 0.00821917808219178,\n",
       " 'immediately': 0.00821917808219178,\n",
       " 'folded': 0.00821917808219178,\n",
       " 'confusing': 0.00821917808219178,\n",
       " 'brought': 0.00821917808219178,\n",
       " 'youth': 0.00821917808219178,\n",
       " 'Pray': 0.00821917808219178,\n",
       " 'jaw': 0.00821917808219178,\n",
       " 'eel': 0.00821917808219178,\n",
       " 'blow': 0.00821917808219178,\n",
       " 'free': 0.00821917808219178,\n",
       " 'shaking': 0.00821917808219178,\n",
       " 'succeeded': 0.00821917808219178,\n",
       " 'tasted': 0.00821917808219178,\n",
       " 'settled': 0.00821917808219178,\n",
       " 'nibbling': 0.00821917808219178,\n",
       " 'bringing': 0.00821917808219178,\n",
       " 'considered': 0.00821917808219178,\n",
       " 'loudly': 0.00821917808219178,\n",
       " 'order': 0.00821917808219178,\n",
       " 'staring': 0.00821917808219178,\n",
       " 'howling': 0.00821917808219178,\n",
       " 'instance': 0.00821917808219178,\n",
       " 'repeating': 0.00821917808219178,\n",
       " 'nursing': 0.00821917808219178,\n",
       " 'courage': 0.00821917808219178,\n",
       " 'grinned': 0.00821917808219178,\n",
       " 'faster': 0.00821917808219178,\n",
       " 'advantage': 0.00821917808219178,\n",
       " 'line': 0.00821917808219178,\n",
       " 'boy': 0.00821917808219178,\n",
       " 'tossing': 0.00821917808219178,\n",
       " 'caught': 0.00821917808219178,\n",
       " 'shaped': 0.00821917808219178,\n",
       " 'proper': 0.00821917808219178,\n",
       " 'sobbing': 0.00821917808219178,\n",
       " 'explanation': 0.00821917808219178,\n",
       " 'instead': 0.00821917808219178,\n",
       " 'civil': 0.00821917808219178,\n",
       " 'fun': 0.00821917808219178,\n",
       " 'breathe': 0.00821917808219178,\n",
       " 'butter': 0.00821917808219178,\n",
       " \"o'clock\": 0.00821917808219178,\n",
       " 'year': 0.00821917808219178,\n",
       " 'riddle': 0.00821917808219178,\n",
       " 'cautiously': 0.00821917808219178,\n",
       " 'fly': 0.00821917808219178,\n",
       " 'lived': 0.00821917808219178,\n",
       " 'upset': 0.00821917808219178,\n",
       " 'manner': 0.00821917808219178,\n",
       " 'muchness': 0.00821917808219178,\n",
       " 'beheaded': 0.00821917808219178,\n",
       " 'watching': 0.00821917808219178,\n",
       " 'checked': 0.00821917808219178,\n",
       " 'eager': 0.00821917808219178,\n",
       " 'guests': 0.00821917808219178,\n",
       " \"needn't\": 0.00821917808219178,\n",
       " 'unfortunate': 0.00821917808219178,\n",
       " 'Hush': 0.00821917808219178,\n",
       " 'tucked': 0.00821917808219178,\n",
       " 'alive': 0.00821917808219178,\n",
       " 'anxious': 0.00821917808219178,\n",
       " 'mustard': 0.00821917808219178,\n",
       " 'sorrow': 0.00821917808219178,\n",
       " 'Tortoise': 0.00821917808219178,\n",
       " 'Drawling': 0.00821917808219178,\n",
       " 'advance': 0.00821917808219178,\n",
       " 'toes': 0.00821917808219178,\n",
       " 'mark': 0.00821917808219178,\n",
       " 'snail': 0.00821917808219178,\n",
       " 'obliged': 0.00821917808219178,\n",
       " 'part': 0.00821917808219178,\n",
       " 'around': 0.00821917808219178,\n",
       " 'Owl': 0.00821917808219178,\n",
       " 'Panther': 0.00821917808219178,\n",
       " 'pie': 0.00821917808219178,\n",
       " 'pencil': 0.00821917808219178,\n",
       " 'wrote': 0.00821917808219178,\n",
       " 'prove': 0.00821917808219178,\n",
       " 'Wonderland Lewis': 0.00821917808219178,\n",
       " 'half hoping': 0.00821917808219178,\n",
       " 'marked poison': 0.00821917808219178,\n",
       " 'fan gloves': 0.00821917808219178,\n",
       " 'Caucus race': 0.00821917808219178,\n",
       " 'finish story': 0.00821917808219178,\n",
       " 'Hold tongue': 0.00821917808219178,\n",
       " 'stood near': 0.00821917808219178,\n",
       " 'quite forgetting': 0.00821917808219178,\n",
       " 'broken glass': 0.00821917808219178,\n",
       " 'dead silence': 0.00821917808219178,\n",
       " 'took hookah': 0.00821917808219178,\n",
       " 'OLD FATHER': 0.00821917808219178,\n",
       " 'old youth': 0.00821917808219178,\n",
       " 'footman livery': 0.00821917808219178,\n",
       " 'fast asleep': 0.00821917808219178,\n",
       " 'young lady': 0.00821917808219178,\n",
       " 'croquet ground': 0.00821917808219178,\n",
       " 'rose tree': 0.00821917808219178,\n",
       " 'Knave Hearts': 0.00821917808219178,\n",
       " 'pack cards': 0.00821917808219178,\n",
       " 'BOOTS SHOES': 0.00821917808219178,\n",
       " 'oop evening': 0.00821917808219178,\n",
       " 'put spectacles': 0.00821917808219178,\n",
       " 'Consider verdict': 0.00821917808219178,\n",
       " 'Give evidence': 0.00821917808219178,\n",
       " 'officers court': 0.00821917808219178,\n",
       " 'Gutenberg': 0.005479452054794521,\n",
       " 'anywhere': 0.005479452054794521,\n",
       " 'cost': 0.005479452054794521,\n",
       " 'terms': 0.005479452054794521,\n",
       " 'pleasure': 0.005479452054794521,\n",
       " 'chain': 0.005479452054794521,\n",
       " 'picking': 0.005479452054794521,\n",
       " 'remarkable': 0.005479452054794521,\n",
       " 'afterwards': 0.005479452054794521,\n",
       " 'occurred': 0.005479452054794521,\n",
       " 'started': 0.005479452054794521,\n",
       " 'straight': 0.005479452054794521,\n",
       " 'dipped': 0.005479452054794521,\n",
       " 'falling': 0.005479452054794521,\n",
       " 'plenty': 0.005479452054794521,\n",
       " 'cupboards': 0.005479452054794521,\n",
       " 'shelves': 0.005479452054794521,\n",
       " 'jar': 0.005479452054794521,\n",
       " 'tumbling': 0.005479452054794521,\n",
       " 'thousand': 0.005479452054794521,\n",
       " 'learnt': 0.005479452054794521,\n",
       " 'showing': 0.005479452054794521,\n",
       " 'Presently': 0.005479452054794521,\n",
       " 'downward': 0.005479452054794521,\n",
       " \"Dinah'll\": 0.005479452054794521,\n",
       " 'milk': 0.005479452054794521,\n",
       " 'mice': 0.005479452054794521,\n",
       " 'earnestly': 0.005479452054794521,\n",
       " 'thump': 0.005479452054794521,\n",
       " 'wind': 0.005479452054794521,\n",
       " 'row': 0.005479452054794521,\n",
       " 'legged': 0.005479452054794521,\n",
       " 'inches': 0.005479452054794521,\n",
       " 'rat': 0.005479452054794521,\n",
       " 'longed': 0.005479452054794521,\n",
       " 'shutting': 0.005479452054794521,\n",
       " 'label': 0.005479452054794521,\n",
       " 'wise': 0.005479452054794521,\n",
       " 'unpleasant': 0.005479452054794521,\n",
       " 'burn': 0.005479452054794521,\n",
       " 'usually': 0.005479452054794521,\n",
       " 'sooner': 0.005479452054794521,\n",
       " 'mixed': 0.005479452054794521,\n",
       " 'brightened': 0.005479452054794521,\n",
       " 'lovely': 0.005479452054794521,\n",
       " 'crying': 0.005479452054794521,\n",
       " 'advice': 0.005479452054794521,\n",
       " 'playing': 0.005479452054794521,\n",
       " 'Curiouser': 0.005479452054794521,\n",
       " 'forgot': 0.005479452054794521,\n",
       " 'bye': 0.005479452054794521,\n",
       " '_I_': 0.005479452054794521,\n",
       " 'sending': 0.005479452054794521,\n",
       " 'struck': 0.005479452054794521,\n",
       " 'ashamed': 0.005479452054794521,\n",
       " 'trotting': 0.005479452054794521,\n",
       " 'ringlets': 0.005479452054794521,\n",
       " 'six': 0.005479452054794521,\n",
       " 'Paris': 0.005479452054794521,\n",
       " 'Rome': 0.005479452054794521,\n",
       " 'lap': 0.005479452054794521,\n",
       " 'neatly': 0.005479452054794521,\n",
       " 'claws': 0.005479452054794521,\n",
       " 'smiling': 0.005479452054794521,\n",
       " 'shrinking': 0.005479452054794521,\n",
       " 'narrow': 0.005479452054794521,\n",
       " 'declare': 0.005479452054794521,\n",
       " 'bad': 0.005479452054794521,\n",
       " 'railway': 0.005479452054794521,\n",
       " 'conclusion': 0.005479452054794521,\n",
       " 'wherever': 0.005479452054794521,\n",
       " 'sand': 0.005479452054794521,\n",
       " 'splashing': 0.005479452054794521,\n",
       " 'swimming': 0.005479452054794521,\n",
       " 'wink': 0.005479452054794521,\n",
       " 'Conqueror': 0.005479452054794521,\n",
       " 'clear': 0.005479452054794521,\n",
       " 'ago': 0.005479452054794521,\n",
       " 'ma': 0.005479452054794521,\n",
       " 'fright': 0.005479452054794521,\n",
       " 'beg': 0.005479452054794521,\n",
       " 'quiet': 0.005479452054794521,\n",
       " 'purring': 0.005479452054794521,\n",
       " 'nicely': 0.005479452054794521,\n",
       " 'brown': 0.005479452054794521,\n",
       " 'dinner': 0.005479452054794521,\n",
       " 'useful': 0.005479452054794521,\n",
       " 'sorrowful': 0.005479452054794521,\n",
       " 'hate': 0.005479452054794521,\n",
       " 'assembled': 0.005479452054794521,\n",
       " 'wet': 0.005479452054794521,\n",
       " 'older': 0.005479452054794521,\n",
       " ...}"
      ]
     },
     "execution_count": 17,
     "metadata": {},
     "output_type": "execute_result"
    }
   ],
   "source": [
    "wc = WordCloud(background_color='white', max_words=2000, mask=alice_mask,\n",
    "              stopwords = stopwords)\n",
    "wc = wc.generate(text)\n",
    "wc.words_"
   ]
  },
  {
   "cell_type": "code",
   "execution_count": 18,
   "metadata": {},
   "outputs": [
    {
     "data": {
      "image/png": "[encoded data removed]",
      "text/plain": [
       "<Figure size 864x864 with 1 Axes>"
      ]
     },
     "metadata": {
      "needs_background": "light"
     },
     "output_type": "display_data"
    }
   ],
   "source": [
    "plt.figure(figsize=(12,12))\n",
    "plt.imshow(wc, interpolation='bilinear')\n",
    "plt.axis('off')\n",
    "plt.show()"
   ]
  },
  {
   "cell_type": "code",
   "execution_count": 19,
   "metadata": {},
   "outputs": [],
   "source": [
    "text = open('../data/09. a_new_hope.txt').read()\n",
    "\n",
    "text = text.replace('HAN', 'Han')\n",
    "text = text.replace(\"LUKE'S\", 'Luke')\n",
    "\n",
    "mask = np.array(Image.open('../data/09. stormtrooper_mask.png'))"
   ]
  },
  {
   "cell_type": "code",
   "execution_count": 20,
   "metadata": {},
   "outputs": [],
   "source": [
    "stopwords = set(STOPWORDS)\n",
    "stopwords.add(\"int\")\n",
    "stopwords.add(\"ext\")"
   ]
  },
  {
   "cell_type": "code",
   "execution_count": 21,
   "metadata": {},
   "outputs": [],
   "source": [
    "wc = WordCloud(max_words=1000, mask=mask, stopwords=stopwords, \n",
    "               margin=10, random_state=1).generate(text)\n",
    "\n",
    "default_colors = wc.to_array()"
   ]
  },
  {
   "cell_type": "code",
   "execution_count": 22,
   "metadata": {},
   "outputs": [],
   "source": [
    "import random\n",
    "def grey_color_func(word, font_size, position, orientation, \n",
    "                    random_state=None, **kwargs):\n",
    "    return 'hsl(0, 0%%, %d%%)' % random.randint(60,100)"
   ]
  },
  {
   "cell_type": "code",
   "execution_count": 23,
   "metadata": {},
   "outputs": [
    {
     "data": {
      "image/png": "[encoded data removed]",
      "text/plain": [
       "<Figure size 864x864 with 1 Axes>"
      ]
     },
     "metadata": {
      "needs_background": "light"
     },
     "output_type": "display_data"
    }
   ],
   "source": [
    "plt.figure(figsize=(12,12))\n",
    "plt.imshow(wc.recolor(color_func=grey_color_func, random_state=3),\n",
    "          interpolation='bilinear')\n",
    "plt.axis('off')\n",
    "plt.show()"
   ]
  },
  {
   "cell_type": "markdown",
   "metadata": {},
   "source": [
    "## 8-4. 육아휴직관련 법안 대한민국 국회 제 1809890호 의안"
   ]
  },
  {
   "cell_type": "code",
   "execution_count": 24,
   "metadata": {},
   "outputs": [],
   "source": [
    "import nltk"
   ]
  },
  {
   "cell_type": "code",
   "execution_count": 25,
   "metadata": {},
   "outputs": [],
   "source": [
    "from konlpy.corpus import kobill\n",
    "files_ko = kobill.fileids()\n",
    "doc_ko = kobill.open('1809890.txt').read()"
   ]
  },
  {
   "cell_type": "code",
   "execution_count": 26,
   "metadata": {
    "scrolled": true
   },
   "outputs": [
    {
     "data": {
      "text/plain": [
       "'지방공무원법 일부개정법률안\\n\\n(정의화의원 대표발의 )\\n\\n 의 안\\n 번 호\\n\\n9890\\n\\n발의연월일 : 2010.  11.  12.  \\n\\n발  의  자 : 정의화․이명수․김을동 \\n\\n이사철․여상규․안규백\\n\\n황영철․박영아․김정훈\\n\\n김학송 의원(10인)\\n\\n제안이유 및 주요내용\\n\\n  초등학교 저학년의 경우에도 부모의 따뜻한 사랑과 보살핌이 필요\\n\\n한 나이이나, 현재 공무원이 자녀를 양육하기 위하여 육아휴직을 할 \\n\\n수 있는 자녀의 나이는 만 6세 이하로 되어 있어 초등학교 저학년인 \\n\\n자녀를 돌보기 위해서는 해당 부모님은 일자리를 그만 두어야 하고 \\n\\n이는 곧 출산의욕을 저하시키는 문제로 이어질 수 있을 것임.\\n\\n  따라서 육아휴직이 가능한 자녀의 연령을 만 8세 이하로 개정하려\\n\\n는 것임(안 제63조제2항제4호).\\n\\n- 1 -\\n\\n\\x0c법률  제        호\\n\\n지방공무원법 일부개정법률안\\n\\n지방공무원법 일부를 다음과 같이 개정한다.\\n\\n제63조제2항제4호 중 “만 6세 이하의 초등학교 취학 전 자녀를”을 “만 \\n\\n8세 이하(취학 중인 경우에는 초등학교 2학년 이하를 말한다)의 자녀를”\\n\\n로 한다.\\n\\n부      칙\\n\\n이 법은 공포한 날부터 시행한다.\\n\\n- 3 -\\n\\n\\x0c신 ·구조문대비표\\n\\n현      행\\n\\n개   정   안\\n\\n제63조(휴직) ① (생  략)\\n\\n제63조(휴직) ① (현행과 같음)\\n\\n  ② 공무원이 다음 각 호의 어\\n\\n  ② -------------------------\\n\\n느 하나에 해당하는 사유로 휴\\n\\n----------------------------\\n\\n직을 원하면 임용권자는 휴직\\n\\n----------------------------\\n\\n을 명할 수 있다. 다만, 제4호\\n\\n-------------.---------------\\n\\n의 경우에는 대통령령으로 정\\n\\n----------------------------\\n\\n하는 특별한 사정이 없으면 휴\\n\\n----------------------------\\n\\n직을 명하여야 한다.\\n\\n--------------.\\n\\n  1. ∼ 3. (생  략)\\n\\n  1. ∼ 3. (현행과 같음)\\n\\n  4. 만 6세 이하의 초등학교 취\\n\\n  4. 만 8세 이하(취학 중인 경우\\n\\n학 전 자녀를 양육하기 위하\\n\\n에는 초등학교 2학년 이하를 \\n\\n여 필요하거나 여자공무원이 \\n\\n말한다)의 자녀를 ----------\\n\\n임신 또는 출산하게 되었을 \\n\\n---------------------------\\n\\n때\\n\\n---------------------------\\n\\n  5.⋅6. (생  략)\\n\\n  ③⋅④ (생  략)\\n\\n--------\\n\\n  5.⋅6. (현행과 같음)\\n\\n  ③⋅④ (현행과 같음)\\n\\n- 5 -\\n\\n\\x0c지방공무원법 일부개정법률안 등 비용추계서 미첨부사유서\\n1.  재정수반요인\\n\\n개정안에서 ｢국가공무원법｣  제71조제2항제4호 중 국가공무원의 육아\\n\\n휴직 가능 자녀의 연령을 만6세 이하에서 만8세 이하로 하고, ｢지방공\\n\\n무원법｣ 제63조제2항제4호 중 지방공무원의 육아휴직 가능 자녀의 연\\n\\n령을 만6세 이하에서 만8세 이하로 하고, ｢교육공무원법｣ 제44조제1항\\n\\n제7조 중 교육공무원의 육아휴직 가능 자녀의 연령을 만6세 이하에서 \\n\\n만8세 이하로 하고, ｢남녀고용평등과 일․가정 양립지원에 관한 법률｣ \\n\\n제19조제1항 중 근로자 육아휴직 가능 자녀연령을 만6세 이하에서 만\\n\\n8세 이하로 조정함에 따라 추가 재정소요가 예상됨.\\n\\n2.  미첨부  근거  규정\\n｢의안의 비용추계에 관한 규칙｣ 제3조제1항 단서 중 제1호(예상되는 비용이 연평균  10억원 미만\\n이거나  한시적인  경비로서  총  30억원  미만인  경우)에  해당함.\\n\\n3.  미첨부  사유\\n\\n개정안에서 국가․지방․교육공무원 및 근로자가 육아휴직을 신청할 \\n\\n수 있는 자녀의 연령을 만6세 이하에서 만8세 이하로 상향조정함에 \\n\\n따라 추가 재정소요가 예상된다. 동 법률 개정안이 2011년에 시행된다\\n\\n고 가정한 경우, 2010년 현재 자녀의 연령이 7세이고 육아휴직을 신청\\n\\n- 7 -\\n\\n\\x0c- 8 -\\n\\n하지 않은 국가․지방․교육공무원 및 근로자가 대상이 된다.\\n\\n대상연령의 확대됨에 따라 육아휴직신청자의 수가 어느 정도 늘어날 \\n\\n것으로 예상된다. 이 경우 발생하는 비용은 현행법에 따르면 월50만원\\n\\n이나 현재 관련법령 개정이 추진되고 있으며, 이에 따라 2011년에는 \\n\\n육아휴직자가 지급받는 월급여액에 비례하여 육아휴직급여가 지급되\\n\\n기 때문에 법령개정을 가정하고 추계한다. 이러한 경우 육아휴직급여\\n\\n액은 육아휴직자가 지급받는 월급여의 40%에 해당한다. 육아휴직자가 \\n\\n발생한 경우 발생하는 비용은 대체인력 고용인건비와 육아휴직자가 \\n\\n받는 월급여액의 40%이다. 이와 대비하여 육아휴직자에게 지급하던 \\n\\n임금은 더 이상 발생하지 않는다. 따라서 실제 발생하는 순비용은 육\\n\\n아휴직자에게 지급하던 월 급여액과 연령 확대에 따라 발생하는 비용\\n\\n인 육아휴직자가 받던 월급여액의 40%와 대체인력 고용인건비의 차\\n\\n액인데 이 값이 0보다 크면 추가 재정소요는 발생하지 않는다고 볼 \\n\\n수 있다.\\n\\n추가비용 발생여부를 정확하게 알아보기 위하여 비용에 대한 수리모\\n\\n델을 만들고 이에 따라 비용발생 여부를 알아보기로 하자. 모델에 사\\n\\n용되는 변수를 다음과 같이 정의한다.\\n\\n발생비용 : N×p×X + N×육아휴직급여액 - N×P\\n\\nN\\n\\nP\\n\\n: 육아휴직대상자의 수\\n\\n: 육아휴직대상자의 월급여액\\n\\n\\x0cp\\n\\nX\\n\\n: 육아휴직자가 발생한 경우 대체 고용할 확률\\n\\n: 대체 고용한 인력에게 지급하는 월급여액\\n\\n위의 수식에서 육아휴직급여액은 육아휴직자 월급여액의 40%까지 지\\n\\n급할 예정이므로 육아휴직급여액은 P×40%이다. 육아휴직자가 발생한 \\n\\n경우 대체 고용할 확률 p는 고용노동부의 육아휴직 관련 자료를 이용\\n\\n한다. 고용노동부에 따르면 2011년의 경우 육아휴직급여 대상자는 \\n\\n40,923명이며, 육아휴직에 따른 대체인력 고용 예상인원은 2,836명이\\n\\n다. 2007년부터 2011년까지의 현황을 정리하면 다음의 [표]와 같다.\\n\\n[표]  육아휴직급여  수급자의  수  및  대체인력  고용  현황:  2007~2011년\\n\\n(단위:  명,  % )\\n\\n2007\\n\\n2008\\n\\n2009\\n\\n2010\\n\\n2011\\n\\n평균\\n\\n육아휴직급여  수급자(A)\\n\\n21,185\\n\\n29,145\\n\\n35,400\\n\\n41,291\\n\\n43,899\\n\\n34,184\\n\\n대체인력  채용(B)\\n\\n796\\n\\n1,658\\n\\n1,957\\n\\n2,396\\n\\n2,836\\n\\n1,929\\n\\n비  율(B/A)\\n\\n3.8\\n\\n5.7\\n\\n5.5\\n\\n5.8\\n\\n6.5\\n\\n5.6\\n\\n자료: 고용노동부  자료를  바탕으로  국회예산정책처  작성\\n\\n위의 [표]의 자료에 따라 육아휴직자가 발생한 경우 대체 고용할 확률 \\n\\np의 값은 5.6%라고 가정한다. 그리고 비용이 발생한다고 가정하여 위\\n\\n의 수식을 다시 작성하면 다음의 수식과 같다.\\n\\nN×p×X + N×육아휴직급여액 - N×P > 0\\n\\n(1)\\n\\n- 9 -\\n\\n\\x0c- 10 -\\n\\nN×5.6%×X + N×P×40% - N×P > 0\\n\\n0.056×X > 0.6P\\n\\nX > 10.7×P\\n\\n(2)\\n\\n(3)\\n\\n(5)\\n\\n위의 수식에 육아휴직자가 받는 월 급여액을 대입하여 대체고용인력\\n\\n자에게 지급하는 월 급여액을 추정하여 보자. 육아휴직자가 월 200만\\n\\n원을 받는다고 가정하면, 대체고용인력자에게 육아휴직자가 받는 월 \\n\\n급여액의 10.7배에 달하는 월 21,428,571원 이상을 지급해야 추가 비용\\n\\n이 발생한다. 대체고용인력자에게 육아휴직자보다 더 많은 월급여액을 \\n\\n주지는 않을 것이고 그리고 10여배 이상 월급을 주지도 않을 것이기 \\n\\n때문에 추가 비용이 발생한다고 보기 힘들다. 위의 수식에서 대체인력 \\n\\n고용확률 p를 20%로 가정하더라도(이 경우 X > 3×P) 200만원 받는 \\n\\n육아휴직자 대체인력에게 월 600만원 이상을 지급해야 추가 비용이 \\n\\n발생한다.\\n\\n행정안전부의 통계자료(행정안전부 통계연감)에서는 지방공무원의 육\\n\\n아휴직 현황자료를 보여주고 있다. 여기서 육아휴직자가 발생한 경우 \\n\\n대체인력을 주로 임용대기자 또는 일용직을 활용하는 것으로 보인다. \\n\\n따라서 공무원의 경우에도 [표]에서 보여주는 일반기업체의 대체인력 \\n\\n고용확률과 차이는 크지 않을 것으로 보인다.\\n\\n이상의 논의를 바탕으로 육아휴직기간을 만6에서 만8세로 연장하더라\\n\\n도 법률 개정에 따른 추가 비용은 발생하지 않을 것으로 예상된다.\\n\\n\\x0c4.  작성자\\n\\n국회예산정책처 법안비용추계1팀\\n\\n팀      장   정 문 종\\n\\n예산분석관   김 태 완\\n\\n(02-788-4649, tanzania@assembly.go.kr)\\n\\n- 11 -\\n\\n\\x0c'"
      ]
     },
     "execution_count": 26,
     "metadata": {},
     "output_type": "execute_result"
    }
   ],
   "source": [
    "doc_ko"
   ]
  },
  {
   "cell_type": "code",
   "execution_count": 27,
   "metadata": {
    "scrolled": true
   },
   "outputs": [
    {
     "name": "stderr",
     "output_type": "stream",
     "text": [
      "C:\\Users\\multicampus\\Anaconda3\\lib\\site-packages\\konlpy\\tag\\_okt.py:16: UserWarning: \"Twitter\" has changed to \"Okt\" since KoNLPy v0.4.5.\n",
      "  warn('\"Twitter\" has changed to \"Okt\" since KoNLPy v0.4.5.')\n"
     ]
    },
    {
     "data": {
      "text/plain": [
       "['지방공무원법',\n",
       " '일부',\n",
       " '개정',\n",
       " '법률',\n",
       " '안',\n",
       " '정의화',\n",
       " '의원',\n",
       " '대표',\n",
       " '발의',\n",
       " '의',\n",
       " '안',\n",
       " '번',\n",
       " '호',\n",
       " '발의',\n",
       " '연월일',\n",
       " '발',\n",
       " '의',\n",
       " '자',\n",
       " '정의화',\n",
       " '이명수',\n",
       " '김을동',\n",
       " '이사철',\n",
       " '여상규',\n",
       " '안규백',\n",
       " '황영철',\n",
       " '박영아',\n",
       " '김정훈',\n",
       " '김학송',\n",
       " '의원',\n",
       " '인',\n",
       " '제안',\n",
       " '이유',\n",
       " '및',\n",
       " '내용',\n",
       " '초등학교',\n",
       " '저학년',\n",
       " '경우',\n",
       " '부모',\n",
       " '사랑',\n",
       " '필요',\n",
       " '나이',\n",
       " '현재',\n",
       " '공무원',\n",
       " '자녀',\n",
       " '양육',\n",
       " '위',\n",
       " '육아휴직',\n",
       " '수',\n",
       " '자녀',\n",
       " '나이',\n",
       " '만',\n",
       " '세',\n",
       " '이하',\n",
       " '초등학교',\n",
       " '저학년',\n",
       " '자녀',\n",
       " '위',\n",
       " '해당',\n",
       " '부모님',\n",
       " '일자리',\n",
       " '곧',\n",
       " '출산',\n",
       " '의욕',\n",
       " '저하',\n",
       " '문제',\n",
       " '수',\n",
       " '것임',\n",
       " '따라서',\n",
       " '육아휴직',\n",
       " '자녀',\n",
       " '연령',\n",
       " '만',\n",
       " '세',\n",
       " '이하',\n",
       " '개정',\n",
       " '것임',\n",
       " '안',\n",
       " '제',\n",
       " '항제',\n",
       " '호',\n",
       " '법률',\n",
       " '제',\n",
       " '호',\n",
       " '지방공무원법',\n",
       " '일부',\n",
       " '개정',\n",
       " '법률',\n",
       " '안',\n",
       " '지방공무원법',\n",
       " '일부',\n",
       " '다음',\n",
       " '개정',\n",
       " '제',\n",
       " '항제',\n",
       " '호',\n",
       " '중',\n",
       " '만',\n",
       " '세',\n",
       " '이하',\n",
       " '초등학교',\n",
       " '취학',\n",
       " '전',\n",
       " '자녀',\n",
       " '만',\n",
       " '세',\n",
       " '이하',\n",
       " '취학',\n",
       " '중인',\n",
       " '경우',\n",
       " '초등학교',\n",
       " '학년',\n",
       " '이하',\n",
       " '말',\n",
       " '의',\n",
       " '자녀',\n",
       " '로',\n",
       " '부',\n",
       " '칙',\n",
       " '이',\n",
       " '법',\n",
       " '공포',\n",
       " '날',\n",
       " '시행',\n",
       " '신',\n",
       " '구조',\n",
       " '문대비',\n",
       " '표',\n",
       " '현',\n",
       " '행',\n",
       " '개',\n",
       " '정',\n",
       " '안',\n",
       " '제',\n",
       " '휴직',\n",
       " '생',\n",
       " '략',\n",
       " '제',\n",
       " '휴직',\n",
       " '현행',\n",
       " '공무원',\n",
       " '다음',\n",
       " '각',\n",
       " '호의',\n",
       " '느',\n",
       " '하나',\n",
       " '해당',\n",
       " '사유',\n",
       " '직',\n",
       " '임용',\n",
       " '휴직',\n",
       " '명',\n",
       " '수',\n",
       " '다만',\n",
       " '제',\n",
       " '호',\n",
       " '의',\n",
       " '경우',\n",
       " '대통령령',\n",
       " '정',\n",
       " '사정',\n",
       " '직',\n",
       " '명',\n",
       " '생',\n",
       " '략',\n",
       " '현행',\n",
       " '만',\n",
       " '세',\n",
       " '이하',\n",
       " '초등학교',\n",
       " '취',\n",
       " '만',\n",
       " '세',\n",
       " '이하',\n",
       " '취학',\n",
       " '중인',\n",
       " '경우',\n",
       " '학',\n",
       " '전',\n",
       " '자녀',\n",
       " '양육',\n",
       " '위',\n",
       " '초등학교',\n",
       " '학년',\n",
       " '이하',\n",
       " '여',\n",
       " '여자',\n",
       " '공무원',\n",
       " '말',\n",
       " '의',\n",
       " '자녀',\n",
       " '임신',\n",
       " '출산',\n",
       " '때',\n",
       " '생',\n",
       " '략',\n",
       " '생',\n",
       " '략',\n",
       " '현행',\n",
       " '현행',\n",
       " '지방공무원법',\n",
       " '일부',\n",
       " '개정',\n",
       " '법률',\n",
       " '안',\n",
       " '등',\n",
       " '비용',\n",
       " '추계',\n",
       " '첨부',\n",
       " '사유',\n",
       " '재정',\n",
       " '요인',\n",
       " '개정안',\n",
       " '국가공무원',\n",
       " '법',\n",
       " '제',\n",
       " '항제',\n",
       " '호',\n",
       " '중',\n",
       " '국가공무원',\n",
       " '육아',\n",
       " '휴직',\n",
       " '가능',\n",
       " '자녀',\n",
       " '연령',\n",
       " '만',\n",
       " '세',\n",
       " '이하',\n",
       " '만',\n",
       " '세',\n",
       " '이하',\n",
       " '방공',\n",
       " '무',\n",
       " '법',\n",
       " '제',\n",
       " '항제',\n",
       " '호',\n",
       " '중',\n",
       " '지방',\n",
       " '공무원',\n",
       " '육아휴직',\n",
       " '가능',\n",
       " '자녀',\n",
       " '연',\n",
       " '령',\n",
       " '만',\n",
       " '세',\n",
       " '이하',\n",
       " '만',\n",
       " '세',\n",
       " '이하',\n",
       " '교육',\n",
       " '공무원',\n",
       " '법',\n",
       " '제',\n",
       " '항',\n",
       " '제',\n",
       " '중',\n",
       " '교육',\n",
       " '공무원',\n",
       " '육아휴직',\n",
       " '가능',\n",
       " '자녀',\n",
       " '연령',\n",
       " '만',\n",
       " '세',\n",
       " '이하',\n",
       " '만',\n",
       " '세',\n",
       " '이하',\n",
       " '남녀',\n",
       " '고용',\n",
       " '평등',\n",
       " '일',\n",
       " '가정',\n",
       " '양립',\n",
       " '지원',\n",
       " '관',\n",
       " '법률',\n",
       " '제',\n",
       " '항',\n",
       " '중',\n",
       " '근로자',\n",
       " '육아휴직',\n",
       " '가능',\n",
       " '자녀',\n",
       " '연령',\n",
       " '만',\n",
       " '세',\n",
       " '이하',\n",
       " '만',\n",
       " '세',\n",
       " '이하',\n",
       " '조정',\n",
       " '함',\n",
       " '추가',\n",
       " '재정',\n",
       " '요가',\n",
       " '예상',\n",
       " '첨부',\n",
       " '근거',\n",
       " '규정',\n",
       " '의안',\n",
       " '비용',\n",
       " '추계',\n",
       " '관',\n",
       " '규칙',\n",
       " '제',\n",
       " '항',\n",
       " '단서',\n",
       " '중',\n",
       " '제',\n",
       " '호',\n",
       " '예상',\n",
       " '비용',\n",
       " '평균',\n",
       " '미만',\n",
       " '거나',\n",
       " '한시',\n",
       " '경비',\n",
       " '로서',\n",
       " '총',\n",
       " '미만',\n",
       " '경우',\n",
       " '해당',\n",
       " '함',\n",
       " '첨부',\n",
       " '사유',\n",
       " '개정안',\n",
       " '국가',\n",
       " '지방',\n",
       " '교육',\n",
       " '공무원',\n",
       " '및',\n",
       " '근로자',\n",
       " '육아휴직',\n",
       " '신청',\n",
       " '수',\n",
       " '자녀',\n",
       " '연령',\n",
       " '만',\n",
       " '세',\n",
       " '이하',\n",
       " '만',\n",
       " '세',\n",
       " '이하',\n",
       " '상향',\n",
       " '조정',\n",
       " '함',\n",
       " '추가',\n",
       " '재정',\n",
       " '요가',\n",
       " '예상',\n",
       " '법률',\n",
       " '개정안',\n",
       " '시행',\n",
       " '고',\n",
       " '가정',\n",
       " '경우',\n",
       " '현재',\n",
       " '자녀',\n",
       " '연령',\n",
       " '세이',\n",
       " '육아휴직',\n",
       " '신청',\n",
       " '국가',\n",
       " '지방',\n",
       " '교육',\n",
       " '공무원',\n",
       " '및',\n",
       " '근로자',\n",
       " '대상',\n",
       " '대상',\n",
       " '연령',\n",
       " '확대',\n",
       " '육아휴직',\n",
       " '신청',\n",
       " '수가',\n",
       " '정도',\n",
       " '것',\n",
       " '예상',\n",
       " '이',\n",
       " '경우',\n",
       " '발생',\n",
       " '비용',\n",
       " '현행법',\n",
       " '월',\n",
       " '이나',\n",
       " '현재',\n",
       " '관련',\n",
       " '법령',\n",
       " '개정',\n",
       " '추진',\n",
       " '이',\n",
       " '육아휴직',\n",
       " '지급',\n",
       " '월급',\n",
       " '액',\n",
       " '비례',\n",
       " '육아휴직',\n",
       " '여가',\n",
       " '지급',\n",
       " '기',\n",
       " '때문',\n",
       " '법령',\n",
       " '개정',\n",
       " '가정',\n",
       " '추계',\n",
       " '경우',\n",
       " '육아휴직',\n",
       " '급여',\n",
       " '액',\n",
       " '육아휴직',\n",
       " '지급',\n",
       " '월급',\n",
       " '여의',\n",
       " '해당',\n",
       " '육아휴직',\n",
       " '발생',\n",
       " '경우',\n",
       " '발생',\n",
       " '비용',\n",
       " '체인',\n",
       " '고용',\n",
       " '인건비',\n",
       " '육아휴직',\n",
       " '월급',\n",
       " '액',\n",
       " '이',\n",
       " '대비',\n",
       " '육아휴직',\n",
       " '지급',\n",
       " '임금',\n",
       " '더',\n",
       " '이상',\n",
       " '발생',\n",
       " '따라서',\n",
       " '실제',\n",
       " '발생',\n",
       " '비용',\n",
       " '육',\n",
       " '휴직',\n",
       " '지급',\n",
       " '월',\n",
       " '급여',\n",
       " '액',\n",
       " '연령',\n",
       " '확대',\n",
       " '발생',\n",
       " '비용',\n",
       " '인',\n",
       " '육아휴직',\n",
       " '월급',\n",
       " '액',\n",
       " '체인',\n",
       " '고용',\n",
       " '인건비',\n",
       " '차',\n",
       " '액',\n",
       " '이',\n",
       " '값',\n",
       " '추가',\n",
       " '재정',\n",
       " '소요',\n",
       " '발생',\n",
       " '볼',\n",
       " '수',\n",
       " '추가',\n",
       " '비용',\n",
       " '발생',\n",
       " '여부',\n",
       " '위',\n",
       " '비용',\n",
       " '대한',\n",
       " '리모',\n",
       " '델',\n",
       " '이',\n",
       " '비용',\n",
       " '발생',\n",
       " '여부',\n",
       " '하자',\n",
       " '모델',\n",
       " '사',\n",
       " '용',\n",
       " '변수',\n",
       " '다음',\n",
       " '정의',\n",
       " '발생',\n",
       " '비용',\n",
       " '육아휴직',\n",
       " '액',\n",
       " '육아휴직',\n",
       " '대상자',\n",
       " '수',\n",
       " '육아휴직',\n",
       " '대상자',\n",
       " '월급',\n",
       " '액',\n",
       " '육아휴직',\n",
       " '발생',\n",
       " '경우',\n",
       " '대체',\n",
       " '고용',\n",
       " '확률',\n",
       " '대체',\n",
       " '고용',\n",
       " '인력',\n",
       " '지급',\n",
       " '월급',\n",
       " '액',\n",
       " '위',\n",
       " '수식',\n",
       " '육아휴직',\n",
       " '액',\n",
       " '육아휴직',\n",
       " '월급',\n",
       " '액',\n",
       " '예정',\n",
       " '므',\n",
       " '육아휴직',\n",
       " '액',\n",
       " '육아휴직',\n",
       " '발생',\n",
       " '경우',\n",
       " '대체',\n",
       " '고용',\n",
       " '확률',\n",
       " '고용노동부',\n",
       " '육아휴직',\n",
       " '관련',\n",
       " '자료',\n",
       " '이용',\n",
       " '고용노동부',\n",
       " '경우',\n",
       " '육아휴직',\n",
       " '급여',\n",
       " '대상자',\n",
       " '명',\n",
       " '육아휴직',\n",
       " '체인',\n",
       " '고용',\n",
       " '상인',\n",
       " '명',\n",
       " '현황',\n",
       " '정리',\n",
       " '다음',\n",
       " '표',\n",
       " '표',\n",
       " '육아휴직',\n",
       " '급여',\n",
       " '수급',\n",
       " '수',\n",
       " '및',\n",
       " '체인',\n",
       " '고용',\n",
       " '현황',\n",
       " '단위',\n",
       " '명',\n",
       " '평균',\n",
       " '육아휴직',\n",
       " '급여',\n",
       " '수급',\n",
       " '체인',\n",
       " '채용',\n",
       " '비',\n",
       " '율',\n",
       " '자료',\n",
       " '고용노동부',\n",
       " '자료',\n",
       " '바탕',\n",
       " '국회예산정책처',\n",
       " '작성',\n",
       " '위',\n",
       " '표',\n",
       " '의',\n",
       " '자료',\n",
       " '육아휴직',\n",
       " '발생',\n",
       " '경우',\n",
       " '대체',\n",
       " '고용',\n",
       " '확률',\n",
       " '의',\n",
       " '값',\n",
       " '가정',\n",
       " '비용',\n",
       " '발생',\n",
       " '가정',\n",
       " '위',\n",
       " '의',\n",
       " '수식',\n",
       " '다시',\n",
       " '작성',\n",
       " '다음',\n",
       " '수식',\n",
       " '육아휴직',\n",
       " '액',\n",
       " '위',\n",
       " '수식',\n",
       " '육아휴직',\n",
       " '월',\n",
       " '급여',\n",
       " '액',\n",
       " '대입',\n",
       " '대체',\n",
       " '고용',\n",
       " '인력',\n",
       " '자',\n",
       " '지급',\n",
       " '월',\n",
       " '급여',\n",
       " '액',\n",
       " '추정',\n",
       " '육아휴직',\n",
       " '월',\n",
       " '원',\n",
       " '가정',\n",
       " '대체',\n",
       " '고용',\n",
       " '인력',\n",
       " '육아휴직',\n",
       " '월',\n",
       " '급여',\n",
       " '액',\n",
       " '배',\n",
       " '달',\n",
       " '월',\n",
       " '이상',\n",
       " '지급',\n",
       " '추가',\n",
       " '비용',\n",
       " '이',\n",
       " '발생',\n",
       " '대체',\n",
       " '고용',\n",
       " '인력',\n",
       " '육아휴직',\n",
       " '더',\n",
       " '월급',\n",
       " '액',\n",
       " '주지',\n",
       " '것',\n",
       " '배',\n",
       " '이상',\n",
       " '월급',\n",
       " '주지',\n",
       " '것',\n",
       " '이기',\n",
       " '때문',\n",
       " '추가',\n",
       " '비용',\n",
       " '발생',\n",
       " '보기',\n",
       " '위',\n",
       " '수식',\n",
       " '체인',\n",
       " '고용',\n",
       " '확률',\n",
       " '를',\n",
       " '로',\n",
       " '가정',\n",
       " '이',\n",
       " '경우',\n",
       " '육아휴직',\n",
       " '체인',\n",
       " '월',\n",
       " '이상',\n",
       " '지급',\n",
       " '추가',\n",
       " '비용',\n",
       " '발생',\n",
       " '행정안전부',\n",
       " '통계',\n",
       " '자료',\n",
       " '행정안전부',\n",
       " '통계',\n",
       " '연감',\n",
       " '지방',\n",
       " '공무원',\n",
       " '육',\n",
       " '휴직',\n",
       " '현황',\n",
       " '자료',\n",
       " '여기',\n",
       " '육아휴직',\n",
       " '발생',\n",
       " '경우',\n",
       " '체인',\n",
       " '주로',\n",
       " '임용',\n",
       " '기자',\n",
       " '일용직',\n",
       " '활용',\n",
       " '것',\n",
       " '따라서',\n",
       " '공무원',\n",
       " '경우',\n",
       " '표',\n",
       " '기업체',\n",
       " '체인',\n",
       " '고용',\n",
       " '확률',\n",
       " '것',\n",
       " '이상',\n",
       " '논의',\n",
       " '바탕',\n",
       " '육아휴직',\n",
       " '기간',\n",
       " '만',\n",
       " '만',\n",
       " '세로',\n",
       " '연장',\n",
       " '도',\n",
       " '법률',\n",
       " '개정',\n",
       " '추가',\n",
       " '비용',\n",
       " '발생',\n",
       " '것',\n",
       " '예상',\n",
       " '작성자',\n",
       " '국회예산정책처',\n",
       " '법안',\n",
       " '비용',\n",
       " '추계',\n",
       " '팀',\n",
       " '팀',\n",
       " '장',\n",
       " '정',\n",
       " '문',\n",
       " '종',\n",
       " '예산',\n",
       " '분석관',\n",
       " '김',\n",
       " '태',\n",
       " '완']"
      ]
     },
     "execution_count": 27,
     "metadata": {},
     "output_type": "execute_result"
    }
   ],
   "source": [
    "from konlpy.tag import Twitter; t = Twitter()\n",
    "tokens_ko = t.nouns(doc_ko)\n",
    "tokens_ko"
   ]
  },
  {
   "cell_type": "code",
   "execution_count": 28,
   "metadata": {},
   "outputs": [],
   "source": [
    "ko = nltk.Text(tokens_ko, name='대한민국 국회 의안 제 1809890호')"
   ]
  },
  {
   "cell_type": "code",
   "execution_count": 29,
   "metadata": {
    "scrolled": true
   },
   "outputs": [
    {
     "name": "stdout",
     "output_type": "stream",
     "text": [
      "735\n",
      "250\n"
     ]
    },
    {
     "data": {
      "text/plain": [
       "FreqDist({'육아휴직': 38, '발생': 19, '만': 18, '이하': 18, '비용': 17, '액': 17, '경우': 16, '세': 16, '자녀': 14, '고용': 14, ...})"
      ]
     },
     "execution_count": 29,
     "metadata": {},
     "output_type": "execute_result"
    }
   ],
   "source": [
    "print(len(ko.tokens))           # returns number of tokens (document length)\n",
    "print(len(set(ko.tokens)))   # returns number of unique tokens\n",
    "ko.vocab()                        # returns frequency distribution"
   ]
  },
  {
   "cell_type": "code",
   "execution_count": 30,
   "metadata": {},
   "outputs": [
    {
     "data": {
      "image/png": "[encoded data removed]",
      "text/plain": [
       "<Figure size 864x432 with 1 Axes>"
      ]
     },
     "metadata": {
      "needs_background": "light"
     },
     "output_type": "display_data"
    }
   ],
   "source": [
    "plt.figure(figsize=(12,6))\n",
    "ko.plot(50)\n",
    "plt.show()"
   ]
  },
  {
   "cell_type": "code",
   "execution_count": 31,
   "metadata": {
    "scrolled": true
   },
   "outputs": [
    {
     "data": {
      "text/plain": [
       "['지방공무원법',\n",
       " '일부',\n",
       " '개정',\n",
       " '법률',\n",
       " '정의화',\n",
       " '의원',\n",
       " '대표',\n",
       " '발의',\n",
       " '발의',\n",
       " '연월일',\n",
       " '발',\n",
       " '정의화',\n",
       " '이명수',\n",
       " '김을동',\n",
       " '이사철',\n",
       " '여상규',\n",
       " '안규백',\n",
       " '황영철',\n",
       " '박영아',\n",
       " '김정훈',\n",
       " '김학송',\n",
       " '의원',\n",
       " '인',\n",
       " '제안',\n",
       " '이유',\n",
       " '및',\n",
       " '내용',\n",
       " '초등학교',\n",
       " '저학년',\n",
       " '경우',\n",
       " '부모',\n",
       " '사랑',\n",
       " '필요',\n",
       " '나이',\n",
       " '현재',\n",
       " '공무원',\n",
       " '자녀',\n",
       " '양육',\n",
       " '위',\n",
       " '육아휴직',\n",
       " '수',\n",
       " '자녀',\n",
       " '나이',\n",
       " '세',\n",
       " '이하',\n",
       " '초등학교',\n",
       " '저학년',\n",
       " '자녀',\n",
       " '위',\n",
       " '해당',\n",
       " '부모님',\n",
       " '일자리',\n",
       " '곧',\n",
       " '출산',\n",
       " '의욕',\n",
       " '저하',\n",
       " '문제',\n",
       " '수',\n",
       " '것임',\n",
       " '따라서',\n",
       " '육아휴직',\n",
       " '자녀',\n",
       " '연령',\n",
       " '세',\n",
       " '이하',\n",
       " '개정',\n",
       " '것임',\n",
       " '제',\n",
       " '항제',\n",
       " '법률',\n",
       " '제',\n",
       " '지방공무원법',\n",
       " '일부',\n",
       " '개정',\n",
       " '법률',\n",
       " '지방공무원법',\n",
       " '일부',\n",
       " '다음',\n",
       " '개정',\n",
       " '제',\n",
       " '항제',\n",
       " '중',\n",
       " '세',\n",
       " '이하',\n",
       " '초등학교',\n",
       " '취학',\n",
       " '전',\n",
       " '자녀',\n",
       " '세',\n",
       " '이하',\n",
       " '취학',\n",
       " '중인',\n",
       " '경우',\n",
       " '초등학교',\n",
       " '학년',\n",
       " '이하',\n",
       " '말',\n",
       " '자녀',\n",
       " '부',\n",
       " '칙',\n",
       " '법',\n",
       " '공포',\n",
       " '날',\n",
       " '시행',\n",
       " '신',\n",
       " '구조',\n",
       " '문대비',\n",
       " '표',\n",
       " '현',\n",
       " '행',\n",
       " '개',\n",
       " '정',\n",
       " '제',\n",
       " '휴직',\n",
       " '생',\n",
       " '략',\n",
       " '제',\n",
       " '휴직',\n",
       " '현행',\n",
       " '공무원',\n",
       " '다음',\n",
       " '각',\n",
       " '호의',\n",
       " '느',\n",
       " '하나',\n",
       " '해당',\n",
       " '사유',\n",
       " '직',\n",
       " '임용',\n",
       " '휴직',\n",
       " '명',\n",
       " '수',\n",
       " '다만',\n",
       " '제',\n",
       " '경우',\n",
       " '대통령령',\n",
       " '정',\n",
       " '사정',\n",
       " '직',\n",
       " '명',\n",
       " '생',\n",
       " '략',\n",
       " '현행',\n",
       " '세',\n",
       " '이하',\n",
       " '초등학교',\n",
       " '취',\n",
       " '세',\n",
       " '이하',\n",
       " '취학',\n",
       " '중인',\n",
       " '경우',\n",
       " '학',\n",
       " '전',\n",
       " '자녀',\n",
       " '양육',\n",
       " '위',\n",
       " '초등학교',\n",
       " '학년',\n",
       " '이하',\n",
       " '여',\n",
       " '여자',\n",
       " '공무원',\n",
       " '말',\n",
       " '자녀',\n",
       " '임신',\n",
       " '출산',\n",
       " '때',\n",
       " '생',\n",
       " '략',\n",
       " '생',\n",
       " '략',\n",
       " '현행',\n",
       " '현행',\n",
       " '지방공무원법',\n",
       " '일부',\n",
       " '개정',\n",
       " '법률',\n",
       " '등',\n",
       " '비용',\n",
       " '추계',\n",
       " '첨부',\n",
       " '사유',\n",
       " '재정',\n",
       " '요인',\n",
       " '개정안',\n",
       " '국가공무원',\n",
       " '법',\n",
       " '제',\n",
       " '항제',\n",
       " '중',\n",
       " '국가공무원',\n",
       " '육아',\n",
       " '휴직',\n",
       " '가능',\n",
       " '자녀',\n",
       " '연령',\n",
       " '세',\n",
       " '이하',\n",
       " '세',\n",
       " '이하',\n",
       " '방공',\n",
       " '무',\n",
       " '법',\n",
       " '제',\n",
       " '항제',\n",
       " '중',\n",
       " '지방',\n",
       " '공무원',\n",
       " '육아휴직',\n",
       " '가능',\n",
       " '자녀',\n",
       " '연',\n",
       " '령',\n",
       " '세',\n",
       " '이하',\n",
       " '세',\n",
       " '이하',\n",
       " '교육',\n",
       " '공무원',\n",
       " '법',\n",
       " '제',\n",
       " '항',\n",
       " '제',\n",
       " '중',\n",
       " '교육',\n",
       " '공무원',\n",
       " '육아휴직',\n",
       " '가능',\n",
       " '자녀',\n",
       " '연령',\n",
       " '세',\n",
       " '이하',\n",
       " '세',\n",
       " '이하',\n",
       " '남녀',\n",
       " '고용',\n",
       " '평등',\n",
       " '일',\n",
       " '가정',\n",
       " '양립',\n",
       " '지원',\n",
       " '관',\n",
       " '법률',\n",
       " '제',\n",
       " '항',\n",
       " '중',\n",
       " '근로자',\n",
       " '육아휴직',\n",
       " '가능',\n",
       " '자녀',\n",
       " '연령',\n",
       " '세',\n",
       " '이하',\n",
       " '세',\n",
       " '이하',\n",
       " '조정',\n",
       " '함',\n",
       " '추가',\n",
       " '재정',\n",
       " '요가',\n",
       " '예상',\n",
       " '첨부',\n",
       " '근거',\n",
       " '규정',\n",
       " '의안',\n",
       " '비용',\n",
       " '추계',\n",
       " '관',\n",
       " '규칙',\n",
       " '제',\n",
       " '항',\n",
       " '단서',\n",
       " '중',\n",
       " '제',\n",
       " '예상',\n",
       " '비용',\n",
       " '평균',\n",
       " '미만',\n",
       " '거나',\n",
       " '한시',\n",
       " '경비',\n",
       " '로서',\n",
       " '총',\n",
       " '미만',\n",
       " '경우',\n",
       " '해당',\n",
       " '함',\n",
       " '첨부',\n",
       " '사유',\n",
       " '개정안',\n",
       " '국가',\n",
       " '지방',\n",
       " '교육',\n",
       " '공무원',\n",
       " '및',\n",
       " '근로자',\n",
       " '육아휴직',\n",
       " '신청',\n",
       " '수',\n",
       " '자녀',\n",
       " '연령',\n",
       " '세',\n",
       " '이하',\n",
       " '세',\n",
       " '이하',\n",
       " '상향',\n",
       " '조정',\n",
       " '함',\n",
       " '추가',\n",
       " '재정',\n",
       " '요가',\n",
       " '예상',\n",
       " '법률',\n",
       " '개정안',\n",
       " '시행',\n",
       " '고',\n",
       " '가정',\n",
       " '경우',\n",
       " '현재',\n",
       " '자녀',\n",
       " '연령',\n",
       " '세이',\n",
       " '육아휴직',\n",
       " '신청',\n",
       " '국가',\n",
       " '지방',\n",
       " '교육',\n",
       " '공무원',\n",
       " '및',\n",
       " '근로자',\n",
       " '대상',\n",
       " '대상',\n",
       " '연령',\n",
       " '확대',\n",
       " '육아휴직',\n",
       " '신청',\n",
       " '수가',\n",
       " '정도',\n",
       " '것',\n",
       " '예상',\n",
       " '경우',\n",
       " '발생',\n",
       " '비용',\n",
       " '현행법',\n",
       " '월',\n",
       " '이나',\n",
       " '현재',\n",
       " '관련',\n",
       " '법령',\n",
       " '개정',\n",
       " '추진',\n",
       " '육아휴직',\n",
       " '지급',\n",
       " '월급',\n",
       " '액',\n",
       " '비례',\n",
       " '육아휴직',\n",
       " '여가',\n",
       " '지급',\n",
       " '기',\n",
       " '때문',\n",
       " '법령',\n",
       " '개정',\n",
       " '가정',\n",
       " '추계',\n",
       " '경우',\n",
       " '육아휴직',\n",
       " '급여',\n",
       " '액',\n",
       " '육아휴직',\n",
       " '지급',\n",
       " '월급',\n",
       " '여의',\n",
       " '해당',\n",
       " '육아휴직',\n",
       " '발생',\n",
       " '경우',\n",
       " '발생',\n",
       " '비용',\n",
       " '체인',\n",
       " '고용',\n",
       " '인건비',\n",
       " '육아휴직',\n",
       " '월급',\n",
       " '액',\n",
       " '대비',\n",
       " '육아휴직',\n",
       " '지급',\n",
       " '임금',\n",
       " '더',\n",
       " '이상',\n",
       " '발생',\n",
       " '따라서',\n",
       " '실제',\n",
       " '발생',\n",
       " '비용',\n",
       " '육',\n",
       " '휴직',\n",
       " '지급',\n",
       " '월',\n",
       " '급여',\n",
       " '액',\n",
       " '연령',\n",
       " '확대',\n",
       " '발생',\n",
       " '비용',\n",
       " '인',\n",
       " '육아휴직',\n",
       " '월급',\n",
       " '액',\n",
       " '체인',\n",
       " '고용',\n",
       " '인건비',\n",
       " '차',\n",
       " '액',\n",
       " '값',\n",
       " '추가',\n",
       " '재정',\n",
       " '소요',\n",
       " '발생',\n",
       " '볼',\n",
       " '수',\n",
       " '추가',\n",
       " '비용',\n",
       " '발생',\n",
       " '여부',\n",
       " '위',\n",
       " '비용',\n",
       " '대한',\n",
       " '리모',\n",
       " '델',\n",
       " '비용',\n",
       " '발생',\n",
       " '여부',\n",
       " '하자',\n",
       " '모델',\n",
       " '사',\n",
       " '용',\n",
       " '변수',\n",
       " '다음',\n",
       " '정의',\n",
       " '발생',\n",
       " '비용',\n",
       " '육아휴직',\n",
       " '액',\n",
       " '육아휴직',\n",
       " '대상자',\n",
       " '수',\n",
       " '육아휴직',\n",
       " '대상자',\n",
       " '월급',\n",
       " '액',\n",
       " '육아휴직',\n",
       " '발생',\n",
       " '경우',\n",
       " '대체',\n",
       " '고용',\n",
       " '확률',\n",
       " '대체',\n",
       " '고용',\n",
       " '인력',\n",
       " '지급',\n",
       " '월급',\n",
       " '액',\n",
       " '위',\n",
       " '수식',\n",
       " '육아휴직',\n",
       " '액',\n",
       " '육아휴직',\n",
       " '월급',\n",
       " '액',\n",
       " '예정',\n",
       " '므',\n",
       " '육아휴직',\n",
       " '액',\n",
       " '육아휴직',\n",
       " '발생',\n",
       " '경우',\n",
       " '대체',\n",
       " '고용',\n",
       " '확률',\n",
       " '고용노동부',\n",
       " '육아휴직',\n",
       " '관련',\n",
       " '자료',\n",
       " '이용',\n",
       " '고용노동부',\n",
       " '경우',\n",
       " '육아휴직',\n",
       " '급여',\n",
       " '대상자',\n",
       " '명',\n",
       " '육아휴직',\n",
       " '체인',\n",
       " '고용',\n",
       " '상인',\n",
       " '명',\n",
       " '현황',\n",
       " '정리',\n",
       " '다음',\n",
       " '표',\n",
       " '표',\n",
       " '육아휴직',\n",
       " '급여',\n",
       " '수급',\n",
       " '수',\n",
       " '및',\n",
       " '체인',\n",
       " '고용',\n",
       " '현황',\n",
       " '단위',\n",
       " '명',\n",
       " '평균',\n",
       " '육아휴직',\n",
       " '급여',\n",
       " '수급',\n",
       " '체인',\n",
       " '채용',\n",
       " '비',\n",
       " '율',\n",
       " '자료',\n",
       " '고용노동부',\n",
       " '자료',\n",
       " '바탕',\n",
       " '국회예산정책처',\n",
       " '작성',\n",
       " '위',\n",
       " '표',\n",
       " '자료',\n",
       " '육아휴직',\n",
       " '발생',\n",
       " '경우',\n",
       " '대체',\n",
       " '고용',\n",
       " '확률',\n",
       " '값',\n",
       " '가정',\n",
       " '비용',\n",
       " '발생',\n",
       " '가정',\n",
       " '위',\n",
       " '수식',\n",
       " '다시',\n",
       " '작성',\n",
       " '다음',\n",
       " '수식',\n",
       " '육아휴직',\n",
       " '액',\n",
       " '위',\n",
       " '수식',\n",
       " '육아휴직',\n",
       " '월',\n",
       " '급여',\n",
       " '액',\n",
       " '대입',\n",
       " '대체',\n",
       " '고용',\n",
       " '인력',\n",
       " '지급',\n",
       " '월',\n",
       " '급여',\n",
       " '액',\n",
       " '추정',\n",
       " '육아휴직',\n",
       " '월',\n",
       " '원',\n",
       " '가정',\n",
       " '대체',\n",
       " '고용',\n",
       " '인력',\n",
       " '육아휴직',\n",
       " '월',\n",
       " '급여',\n",
       " '액',\n",
       " '배',\n",
       " '달',\n",
       " '월',\n",
       " '이상',\n",
       " '지급',\n",
       " '추가',\n",
       " '비용',\n",
       " '발생',\n",
       " '대체',\n",
       " '고용',\n",
       " '인력',\n",
       " '육아휴직',\n",
       " '더',\n",
       " '월급',\n",
       " '액',\n",
       " '주지',\n",
       " '것',\n",
       " '배',\n",
       " '이상',\n",
       " '월급',\n",
       " '주지',\n",
       " '것',\n",
       " '이기',\n",
       " '때문',\n",
       " '추가',\n",
       " '비용',\n",
       " '발생',\n",
       " '보기',\n",
       " '위',\n",
       " '수식',\n",
       " '체인',\n",
       " '고용',\n",
       " '확률',\n",
       " '가정',\n",
       " '경우',\n",
       " '육아휴직',\n",
       " '체인',\n",
       " '월',\n",
       " '이상',\n",
       " '지급',\n",
       " '추가',\n",
       " '비용',\n",
       " '발생',\n",
       " '행정안전부',\n",
       " '통계',\n",
       " '자료',\n",
       " '행정안전부',\n",
       " '통계',\n",
       " '연감',\n",
       " '지방',\n",
       " '공무원',\n",
       " '육',\n",
       " '휴직',\n",
       " '현황',\n",
       " '자료',\n",
       " '여기',\n",
       " '육아휴직',\n",
       " '발생',\n",
       " '경우',\n",
       " '체인',\n",
       " '주로',\n",
       " '임용',\n",
       " '기자',\n",
       " '일용직',\n",
       " '활용',\n",
       " '것',\n",
       " '따라서',\n",
       " '공무원',\n",
       " '경우',\n",
       " '표',\n",
       " '기업체',\n",
       " '체인',\n",
       " '고용',\n",
       " '확률',\n",
       " '것',\n",
       " '이상',\n",
       " '논의',\n",
       " '바탕',\n",
       " '육아휴직',\n",
       " '기간',\n",
       " '세로',\n",
       " '연장',\n",
       " '도',\n",
       " '법률',\n",
       " '개정',\n",
       " '추가',\n",
       " '비용',\n",
       " '발생',\n",
       " '것',\n",
       " '예상',\n",
       " '작성자',\n",
       " '국회예산정책처',\n",
       " '법안',\n",
       " '비용',\n",
       " '추계',\n",
       " '팀',\n",
       " '팀',\n",
       " '장',\n",
       " '정',\n",
       " '문',\n",
       " '종',\n",
       " '예산',\n",
       " '분석관',\n",
       " '김',\n",
       " '태',\n",
       " '완']"
      ]
     },
     "execution_count": 31,
     "metadata": {},
     "output_type": "execute_result"
    }
   ],
   "source": [
    "stop_words = ['.', '(', ')', ',', \"'\", '%', '-', 'X', ').', '×','의','자','에','안','번',\n",
    "                      '호','을','이','다','만','로','가','를']\n",
    "\n",
    "ko = [each_word for each_word in ko if each_word not in stop_words]\n",
    "ko"
   ]
  },
  {
   "cell_type": "code",
   "execution_count": 32,
   "metadata": {},
   "outputs": [
    {
     "data": {
      "image/png": "[encoded data removed]",
      "text/plain": [
       "<Figure size 864x432 with 1 Axes>"
      ]
     },
     "metadata": {
      "needs_background": "light"
     },
     "output_type": "display_data"
    }
   ],
   "source": [
    "ko = nltk.Text(ko, name='대한민국 국회 의안 제 1809890호')\n",
    "\n",
    "plt.figure(figsize=(12,6))\n",
    "ko.plot(50)     # Plot sorted frequency of top 50 tokens\n",
    "plt.show()"
   ]
  },
  {
   "cell_type": "code",
   "execution_count": 33,
   "metadata": {},
   "outputs": [
    {
     "data": {
      "text/plain": [
       "6"
      ]
     },
     "execution_count": 33,
     "metadata": {},
     "output_type": "execute_result"
    }
   ],
   "source": [
    "ko.count('초등학교')"
   ]
  },
  {
   "cell_type": "code",
   "execution_count": 34,
   "metadata": {},
   "outputs": [
    {
     "data": {
      "image/png": "[encoded data removed]",
      "text/plain": [
       "<Figure size 864x432 with 1 Axes>"
      ]
     },
     "metadata": {
      "needs_background": "light"
     },
     "output_type": "display_data"
    }
   ],
   "source": [
    "plt.figure(figsize=(12,6))\n",
    "ko.dispersion_plot(['육아휴직', '초등학교', '공무원'])"
   ]
  },
  {
   "cell_type": "code",
   "execution_count": 35,
   "metadata": {},
   "outputs": [
    {
     "name": "stdout",
     "output_type": "stream",
     "text": [
      "Displaying 6 of 6 matches:\n",
      " 안규백 황영철 박영아 김정훈 김학송 의원 인 제안 이유 및 내용 초등학교 저학년 경우 부모 사랑 필요 나이 현재 공무원 자녀 양육 위 육아\n",
      " 나이 현재 공무원 자녀 양육 위 육아휴직 수 자녀 나이 세 이하 초등학교 저학년 자녀 위 해당 부모님 일자리 곧 출산 의욕 저하 문제 수 \n",
      "일부 개정 법률 지방공무원법 일부 다음 개정 제 항제 중 세 이하 초등학교 취학 전 자녀 세 이하 취학 중인 경우 초등학교 학년 이하 말 자\n",
      "항제 중 세 이하 초등학교 취학 전 자녀 세 이하 취학 중인 경우 초등학교 학년 이하 말 자녀 부 칙 법 공포 날 시행 신 구조 문대비 표 \n",
      " 수 다만 제 경우 대통령령 정 사정 직 명 생 략 현행 세 이하 초등학교 취 세 이하 취학 중인 경우 학 전 자녀 양육 위 초등학교 학년 \n",
      " 이하 초등학교 취 세 이하 취학 중인 경우 학 전 자녀 양육 위 초등학교 학년 이하 여 여자 공무원 말 자녀 임신 출산 때 생 략 생 략 \n"
     ]
    }
   ],
   "source": [
    "ko.concordance('초등학교')"
   ]
  },
  {
   "cell_type": "code",
   "execution_count": 38,
   "metadata": {},
   "outputs": [
    {
     "ename": "ValueError",
     "evalue": "too many values to unpack (expected 2)",
     "output_type": "error",
     "traceback": [
      "\u001b[1;31m---------------------------------------------------------------------------\u001b[0m",
      "\u001b[1;31mValueError\u001b[0m                                Traceback (most recent call last)",
      "\u001b[1;32m<ipython-input-38-3298cf9043ac>\u001b[0m in \u001b[0;36m<module>\u001b[1;34m\u001b[0m\n\u001b[1;32m----> 1\u001b[1;33m \u001b[0mko\u001b[0m\u001b[1;33m.\u001b[0m\u001b[0mcollocations\u001b[0m\u001b[1;33m(\u001b[0m\u001b[1;33m)\u001b[0m\u001b[1;33m\u001b[0m\u001b[1;33m\u001b[0m\u001b[0m\n\u001b[0m",
      "\u001b[1;32m~\\Anaconda3\\lib\\site-packages\\nltk\\text.py\u001b[0m in \u001b[0;36mcollocations\u001b[1;34m(self, num, window_size)\u001b[0m\n\u001b[0;32m    442\u001b[0m \u001b[1;33m\u001b[0m\u001b[0m\n\u001b[0;32m    443\u001b[0m         collocation_strings = [\n\u001b[1;32m--> 444\u001b[1;33m             \u001b[0mw1\u001b[0m \u001b[1;33m+\u001b[0m \u001b[1;34m\" \"\u001b[0m \u001b[1;33m+\u001b[0m \u001b[0mw2\u001b[0m \u001b[1;32mfor\u001b[0m \u001b[0mw1\u001b[0m\u001b[1;33m,\u001b[0m \u001b[0mw2\u001b[0m \u001b[1;32min\u001b[0m \u001b[0mself\u001b[0m\u001b[1;33m.\u001b[0m\u001b[0mcollocation_list\u001b[0m\u001b[1;33m(\u001b[0m\u001b[0mnum\u001b[0m\u001b[1;33m,\u001b[0m \u001b[0mwindow_size\u001b[0m\u001b[1;33m)\u001b[0m\u001b[1;33m\u001b[0m\u001b[1;33m\u001b[0m\u001b[0m\n\u001b[0m\u001b[0;32m    445\u001b[0m         ]\n\u001b[0;32m    446\u001b[0m         \u001b[0mprint\u001b[0m\u001b[1;33m(\u001b[0m\u001b[0mtokenwrap\u001b[0m\u001b[1;33m(\u001b[0m\u001b[0mcollocation_strings\u001b[0m\u001b[1;33m,\u001b[0m \u001b[0mseparator\u001b[0m\u001b[1;33m=\u001b[0m\u001b[1;34m\"; \"\u001b[0m\u001b[1;33m)\u001b[0m\u001b[1;33m)\u001b[0m\u001b[1;33m\u001b[0m\u001b[1;33m\u001b[0m\u001b[0m\n",
      "\u001b[1;32m~\\Anaconda3\\lib\\site-packages\\nltk\\text.py\u001b[0m in \u001b[0;36m<listcomp>\u001b[1;34m(.0)\u001b[0m\n\u001b[0;32m    442\u001b[0m \u001b[1;33m\u001b[0m\u001b[0m\n\u001b[0;32m    443\u001b[0m         collocation_strings = [\n\u001b[1;32m--> 444\u001b[1;33m             \u001b[0mw1\u001b[0m \u001b[1;33m+\u001b[0m \u001b[1;34m\" \"\u001b[0m \u001b[1;33m+\u001b[0m \u001b[0mw2\u001b[0m \u001b[1;32mfor\u001b[0m \u001b[0mw1\u001b[0m\u001b[1;33m,\u001b[0m \u001b[0mw2\u001b[0m \u001b[1;32min\u001b[0m \u001b[0mself\u001b[0m\u001b[1;33m.\u001b[0m\u001b[0mcollocation_list\u001b[0m\u001b[1;33m(\u001b[0m\u001b[0mnum\u001b[0m\u001b[1;33m,\u001b[0m \u001b[0mwindow_size\u001b[0m\u001b[1;33m)\u001b[0m\u001b[1;33m\u001b[0m\u001b[1;33m\u001b[0m\u001b[0m\n\u001b[0m\u001b[0;32m    445\u001b[0m         ]\n\u001b[0;32m    446\u001b[0m         \u001b[0mprint\u001b[0m\u001b[1;33m(\u001b[0m\u001b[0mtokenwrap\u001b[0m\u001b[1;33m(\u001b[0m\u001b[0mcollocation_strings\u001b[0m\u001b[1;33m,\u001b[0m \u001b[0mseparator\u001b[0m\u001b[1;33m=\u001b[0m\u001b[1;34m\"; \"\u001b[0m\u001b[1;33m)\u001b[0m\u001b[1;33m)\u001b[0m\u001b[1;33m\u001b[0m\u001b[1;33m\u001b[0m\u001b[0m\n",
      "\u001b[1;31mValueError\u001b[0m: too many values to unpack (expected 2)"
     ]
    }
   ],
   "source": [
    "ko.collocations()"
   ]
  },
  {
   "cell_type": "code",
   "execution_count": null,
   "metadata": {},
   "outputs": [],
   "source": [
    "data = ko.vocab().most_common(150)\n",
    "\n",
    "# for win : font_path='c:/Windows/Fonts/malgun.ttf'\n",
    "wordcloud = WordCloud(font_path='/Library/Fonts/AppleGothic.ttf',\n",
    "                      relative_scaling = 0.2,\n",
    "                      background_color='white',\n",
    "                      ).generate_from_frequencies(dict(data))\n",
    "plt.figure(figsize=(12,8))\n",
    "plt.imshow(wordcloud)\n",
    "plt.axis(\"off\")\n",
    "plt.show()"
   ]
  },
  {
   "cell_type": "markdown",
   "metadata": {},
   "source": [
    "## 8-5. Naive Bayes Classifier의 이해 - 영문"
   ]
  },
  {
   "cell_type": "code",
   "execution_count": null,
   "metadata": {},
   "outputs": [],
   "source": [
    "from nltk.tokenize import word_tokenize\n",
    "import nltk"
   ]
  },
  {
   "cell_type": "code",
   "execution_count": null,
   "metadata": {},
   "outputs": [],
   "source": [
    "train = [('i like you', 'pos'), \n",
    "         ('i hate you', 'neg'), \n",
    "         ('you like me', 'neg'),\n",
    "         ('i like her', 'pos')]"
   ]
  },
  {
   "cell_type": "code",
   "execution_count": null,
   "metadata": {},
   "outputs": [],
   "source": [
    "all_words = set(word.lower() for sentence in train \n",
    "                                                            for word in word_tokenize(sentence[0]))\n",
    "all_words"
   ]
  },
  {
   "cell_type": "code",
   "execution_count": null,
   "metadata": {},
   "outputs": [],
   "source": [
    "t = [({word: (word in word_tokenize(x[0])) for word in all_words}, x[1])\n",
    "                                                        for x in train]\n",
    "t"
   ]
  },
  {
   "cell_type": "code",
   "execution_count": null,
   "metadata": {},
   "outputs": [],
   "source": [
    "classifier = nltk.NaiveBayesClassifier.train(t)\n",
    "classifier.show_most_informative_features()"
   ]
  },
  {
   "cell_type": "code",
   "execution_count": null,
   "metadata": {},
   "outputs": [],
   "source": [
    "test_sentence = 'i like MeRui'\n",
    "test_sent_features = {word.lower(): \n",
    "                                          (word in word_tokenize(test_sentence.lower()))\n",
    "                                           for word in all_words}\n",
    "test_sent_features"
   ]
  },
  {
   "cell_type": "code",
   "execution_count": null,
   "metadata": {},
   "outputs": [],
   "source": [
    "classifier.classify(test_sent_features)"
   ]
  },
  {
   "cell_type": "markdown",
   "metadata": {},
   "source": [
    "## 8-6. Naive Bayes Classifier의 이해 - 한글"
   ]
  },
  {
   "cell_type": "code",
   "execution_count": null,
   "metadata": {},
   "outputs": [],
   "source": [
    "from konlpy.tag import Twitter"
   ]
  },
  {
   "cell_type": "code",
   "execution_count": null,
   "metadata": {},
   "outputs": [],
   "source": [
    "pos_tagger = Twitter()"
   ]
  },
  {
   "cell_type": "code",
   "execution_count": null,
   "metadata": {},
   "outputs": [],
   "source": [
    "train = [('메리가 좋아', 'pos'), \n",
    "         ('고양이도 좋아', 'pos'),\n",
    "         ('난 수업이 지루해', 'neg'),\n",
    "         ('메리는 이쁜 고양이야', 'pos'),\n",
    "         ('난 마치고 메리랑 놀거야', 'pos')]"
   ]
  },
  {
   "cell_type": "code",
   "execution_count": null,
   "metadata": {},
   "outputs": [],
   "source": [
    "all_words = set(word.lower() for sentence in train\n",
    "                        for word in word_tokenize(sentence[0]))\n",
    "all_words"
   ]
  },
  {
   "cell_type": "code",
   "execution_count": null,
   "metadata": {},
   "outputs": [],
   "source": [
    "t = [({word: (word in word_tokenize(x[0])) for word in all_words}, x[1])\n",
    "                                                        for x in train]\n",
    "t"
   ]
  },
  {
   "cell_type": "code",
   "execution_count": null,
   "metadata": {},
   "outputs": [],
   "source": [
    "classifier = nltk.NaiveBayesClassifier.train(t)\n",
    "classifier.show_most_informative_features()"
   ]
  },
  {
   "cell_type": "code",
   "execution_count": null,
   "metadata": {},
   "outputs": [],
   "source": [
    "test_sentence = '난 수업이 마치면 메리랑 놀거야'"
   ]
  },
  {
   "cell_type": "code",
   "execution_count": null,
   "metadata": {},
   "outputs": [],
   "source": [
    "test_sent_features = {word.lower(): \n",
    "                                          (word in word_tokenize(test_sentence.lower()))\n",
    "                                           for word in all_words}\n",
    "test_sent_features"
   ]
  },
  {
   "cell_type": "code",
   "execution_count": null,
   "metadata": {},
   "outputs": [],
   "source": [
    "classifier.classify(test_sent_features)"
   ]
  },
  {
   "cell_type": "code",
   "execution_count": null,
   "metadata": {},
   "outputs": [],
   "source": [
    "def tokenize(doc):\n",
    "    return ['/'.join(t) for t in pos_tagger.pos(doc, norm=True, stem=True)]"
   ]
  },
  {
   "cell_type": "code",
   "execution_count": null,
   "metadata": {},
   "outputs": [],
   "source": [
    "train_docs = [(tokenize(row[0]), row[1]) for row in train]\n",
    "train_docs"
   ]
  },
  {
   "cell_type": "code",
   "execution_count": null,
   "metadata": {},
   "outputs": [],
   "source": [
    "tokens = [t for d in train_docs for t in d[0]]\n",
    "tokens"
   ]
  },
  {
   "cell_type": "code",
   "execution_count": null,
   "metadata": {},
   "outputs": [],
   "source": [
    "def term_exists(doc):\n",
    "    return {word: (word in set(doc)) for word in tokens}"
   ]
  },
  {
   "cell_type": "code",
   "execution_count": null,
   "metadata": {
    "scrolled": true
   },
   "outputs": [],
   "source": [
    "train_xy = [(term_exists(d), c) for d,c in train_docs]\n",
    "train_xy"
   ]
  },
  {
   "cell_type": "code",
   "execution_count": null,
   "metadata": {},
   "outputs": [],
   "source": [
    "classifier = nltk.NaiveBayesClassifier.train(train_xy)"
   ]
  },
  {
   "cell_type": "code",
   "execution_count": null,
   "metadata": {},
   "outputs": [],
   "source": [
    "test_sentence = [(\"난 수업이 마치면 메리랑 놀거야\")]"
   ]
  },
  {
   "cell_type": "code",
   "execution_count": null,
   "metadata": {},
   "outputs": [],
   "source": [
    "test_docs = pos_tagger.pos(test_sentence[0])\n",
    "test_docs"
   ]
  },
  {
   "cell_type": "code",
   "execution_count": null,
   "metadata": {},
   "outputs": [],
   "source": [
    "classifier.show_most_informative_features()"
   ]
  },
  {
   "cell_type": "code",
   "execution_count": null,
   "metadata": {},
   "outputs": [],
   "source": [
    "test_sent_features = {word: (word in tokens) for word in test_docs}\n",
    "test_sent_features"
   ]
  },
  {
   "cell_type": "code",
   "execution_count": null,
   "metadata": {},
   "outputs": [],
   "source": [
    "classifier.classify(test_sent_features)"
   ]
  },
  {
   "cell_type": "markdown",
   "metadata": {},
   "source": [
    "## 8-7. 문장의 유사도 측정"
   ]
  },
  {
   "cell_type": "code",
   "execution_count": 1,
   "metadata": {},
   "outputs": [],
   "source": [
    "from sklearn.feature_extraction.text import CountVectorizer"
   ]
  },
  {
   "cell_type": "code",
   "execution_count": 2,
   "metadata": {},
   "outputs": [],
   "source": [
    "vectorizer = CountVectorizer(min_df = 1)"
   ]
  },
  {
   "cell_type": "code",
   "execution_count": 3,
   "metadata": {},
   "outputs": [],
   "source": [
    "contents = ['메리랑 놀러가고 싶지만 바쁜데 어떻하죠?',\n",
    "                   '메리는 공원에서 산책하고 노는 것을 싫어해요',\n",
    "                   '메리는 공원에서 노는 것도 싫어해요. 이상해요.',\n",
    "                   '먼 곳으로 여행을 떠나고 싶은데 너무 바빠서 그러질 못하고 있어요']"
   ]
  },
  {
   "cell_type": "code",
   "execution_count": 4,
   "metadata": {},
   "outputs": [
    {
     "data": {
      "text/plain": [
       "['것도',\n",
       " '것을',\n",
       " '곳으로',\n",
       " '공원에서',\n",
       " '그러질',\n",
       " '너무',\n",
       " '노는',\n",
       " '놀러가고',\n",
       " '떠나고',\n",
       " '메리는',\n",
       " '메리랑',\n",
       " '못하고',\n",
       " '바빠서',\n",
       " '바쁜데',\n",
       " '산책하고',\n",
       " '싫어해요',\n",
       " '싶은데',\n",
       " '싶지만',\n",
       " '어떻하죠',\n",
       " '여행을',\n",
       " '이상해요',\n",
       " '있어요']"
      ]
     },
     "execution_count": 4,
     "metadata": {},
     "output_type": "execute_result"
    }
   ],
   "source": [
    "X = vectorizer.fit_transform(contents)\n",
    "vectorizer.get_feature_names()"
   ]
  },
  {
   "cell_type": "code",
   "execution_count": 5,
   "metadata": {},
   "outputs": [
    {
     "data": {
      "text/plain": [
       "array([[0, 0, 1, 0],\n",
       "       [0, 1, 0, 0],\n",
       "       [0, 0, 0, 1],\n",
       "       [0, 1, 1, 0],\n",
       "       [0, 0, 0, 1],\n",
       "       [0, 0, 0, 1],\n",
       "       [0, 1, 1, 0],\n",
       "       [1, 0, 0, 0],\n",
       "       [0, 0, 0, 1],\n",
       "       [0, 1, 1, 0],\n",
       "       [1, 0, 0, 0],\n",
       "       [0, 0, 0, 1],\n",
       "       [0, 0, 0, 1],\n",
       "       [1, 0, 0, 0],\n",
       "       [0, 1, 0, 0],\n",
       "       [0, 1, 1, 0],\n",
       "       [0, 0, 0, 1],\n",
       "       [1, 0, 0, 0],\n",
       "       [1, 0, 0, 0],\n",
       "       [0, 0, 0, 1],\n",
       "       [0, 0, 1, 0],\n",
       "       [0, 0, 0, 1]], dtype=int64)"
      ]
     },
     "execution_count": 5,
     "metadata": {},
     "output_type": "execute_result"
    }
   ],
   "source": [
    "X.toarray().transpose()"
   ]
  },
  {
   "cell_type": "code",
   "execution_count": 6,
   "metadata": {},
   "outputs": [
    {
     "data": {
      "text/plain": [
       "(4, 22)"
      ]
     },
     "execution_count": 6,
     "metadata": {},
     "output_type": "execute_result"
    }
   ],
   "source": [
    "X = vectorizer.fit_transform(contents)\n",
    "num_samples, num_features = X.shape\n",
    "num_samples, num_features"
   ]
  },
  {
   "cell_type": "code",
   "execution_count": 7,
   "metadata": {},
   "outputs": [
    {
     "data": {
      "text/plain": [
       "array([[0, 0, 0, 1, 0, 0, 0, 0, 0, 0, 1, 0, 0, 0, 1, 0, 0, 0, 0, 0, 0, 0]],\n",
       "      dtype=int64)"
      ]
     },
     "execution_count": 7,
     "metadata": {},
     "output_type": "execute_result"
    }
   ],
   "source": [
    "new_post = ['메리랑 공원에서 산책하고 놀고 싶어요']\n",
    "new_post_vec = vectorizer.transform(new_post)\n",
    "new_post_vec.toarray()"
   ]
  },
  {
   "cell_type": "code",
   "execution_count": 8,
   "metadata": {},
   "outputs": [],
   "source": [
    "import scipy as sp\n",
    "\n",
    "def dist_raw(v1, v2):\n",
    "    delta = v1 - v2\n",
    "    return sp.linalg.norm(delta.toarray())"
   ]
  },
  {
   "cell_type": "code",
   "execution_count": 9,
   "metadata": {},
   "outputs": [
    {
     "name": "stdout",
     "output_type": "stream",
     "text": [
      "== Post 0 with dist=2.45   : 메리랑 놀러가고 싶지만 바쁜데 어떻하죠?\n",
      "== Post 1 with dist=2.24   : 메리는 공원에서 산책하고 노는 것을 싫어해요\n",
      "== Post 2 with dist=2.65   : 메리는 공원에서 노는 것도 싫어해요. 이상해요.\n",
      "== Post 3 with dist=3.46   : 먼 곳으로 여행을 떠나고 싶은데 너무 바빠서 그러질 못하고 있어요\n"
     ]
    }
   ],
   "source": [
    "best_doc = None\n",
    "best_dist = 65535\n",
    "best_i = None\n",
    "\n",
    "for i in range(0, num_samples):\n",
    "    post_vec = X.getrow(i)\n",
    "    d = dist_raw(post_vec, new_post_vec)\n",
    "    \n",
    "    print(\"== Post %i with dist=%.2f   : %s\" %(i,d,contents[i]))\n",
    "    \n",
    "    if d<best_dist:\n",
    "        best_dist = d\n",
    "        best_i = i"
   ]
  },
  {
   "cell_type": "code",
   "execution_count": 10,
   "metadata": {},
   "outputs": [
    {
     "name": "stderr",
     "output_type": "stream",
     "text": [
      "C:\\Users\\multicampus\\Anaconda3\\lib\\site-packages\\konlpy\\tag\\_okt.py:16: UserWarning: \"Twitter\" has changed to \"Okt\" since KoNLPy v0.4.5.\n",
      "  warn('\"Twitter\" has changed to \"Okt\" since KoNLPy v0.4.5.')\n",
      "C:\\Users\\multicampus\\Anaconda3\\lib\\site-packages\\jpype\\_core.py:210: UserWarning: \n",
      "-------------------------------------------------------------------------------\n",
      "Deprecated: convertStrings was not specified when starting the JVM. The default\n",
      "behavior in JPype will be False starting in JPype 0.8. The recommended setting\n",
      "for new code is convertStrings=False.  The legacy value of True was assumed for\n",
      "this session. If you are a user of an application that reported this warning,\n",
      "please file a ticket with the developer.\n",
      "-------------------------------------------------------------------------------\n",
      "\n",
      "  \"\"\")\n"
     ]
    }
   ],
   "source": [
    "from konlpy.tag import Twitter\n",
    "t = Twitter()"
   ]
  },
  {
   "cell_type": "code",
   "execution_count": 11,
   "metadata": {},
   "outputs": [
    {
     "data": {
      "text/plain": [
       "[['메리', '랑', '놀러', '가고', '싶지만', '바쁜데', '어떻하죠', '?'],\n",
       " ['메리', '는', '공원', '에서', '산책', '하고', '노', '는', '것', '을', '싫어해요'],\n",
       " ['메리', '는', '공원', '에서', '노', '는', '것', '도', '싫어해요', '.', '이상해요', '.'],\n",
       " ['먼',\n",
       "  '곳',\n",
       "  '으로',\n",
       "  '여행',\n",
       "  '을',\n",
       "  '떠나고',\n",
       "  '싶은데',\n",
       "  '너무',\n",
       "  '바빠서',\n",
       "  '그러질',\n",
       "  '못',\n",
       "  '하고',\n",
       "  '있어요']]"
      ]
     },
     "execution_count": 11,
     "metadata": {},
     "output_type": "execute_result"
    }
   ],
   "source": [
    "contents_tokens = [t.morphs(row) for row in contents]\n",
    "contents_tokens"
   ]
  },
  {
   "cell_type": "code",
   "execution_count": 12,
   "metadata": {},
   "outputs": [
    {
     "data": {
      "text/plain": [
       "[' 메리 랑 놀러 가고 싶지만 바쁜데 어떻하죠 ?',\n",
       " ' 메리 는 공원 에서 산책 하고 노 는 것 을 싫어해요',\n",
       " ' 메리 는 공원 에서 노 는 것 도 싫어해요 . 이상해요 .',\n",
       " ' 먼 곳 으로 여행 을 떠나고 싶은데 너무 바빠서 그러질 못 하고 있어요']"
      ]
     },
     "execution_count": 12,
     "metadata": {},
     "output_type": "execute_result"
    }
   ],
   "source": [
    "contents_for_vectorize = []\n",
    "\n",
    "for content in contents_tokens:\n",
    "    sentence = ''\n",
    "    for word in content:\n",
    "        sentence = sentence + ' ' + word\n",
    "        \n",
    "    contents_for_vectorize.append(sentence)\n",
    "    \n",
    "contents_for_vectorize"
   ]
  },
  {
   "cell_type": "code",
   "execution_count": 13,
   "metadata": {},
   "outputs": [
    {
     "data": {
      "text/plain": [
       "(4, 20)"
      ]
     },
     "execution_count": 13,
     "metadata": {},
     "output_type": "execute_result"
    }
   ],
   "source": [
    "X = vectorizer.fit_transform(contents_for_vectorize)\n",
    "num_samples, num_features = X.shape\n",
    "num_samples, num_features"
   ]
  },
  {
   "cell_type": "code",
   "execution_count": 14,
   "metadata": {},
   "outputs": [
    {
     "data": {
      "text/plain": [
       "['가고',\n",
       " '공원',\n",
       " '그러질',\n",
       " '너무',\n",
       " '놀러',\n",
       " '떠나고',\n",
       " '메리',\n",
       " '바빠서',\n",
       " '바쁜데',\n",
       " '산책',\n",
       " '싫어해요',\n",
       " '싶은데',\n",
       " '싶지만',\n",
       " '어떻하죠',\n",
       " '에서',\n",
       " '여행',\n",
       " '으로',\n",
       " '이상해요',\n",
       " '있어요',\n",
       " '하고']"
      ]
     },
     "execution_count": 14,
     "metadata": {},
     "output_type": "execute_result"
    }
   ],
   "source": [
    "vectorizer.get_feature_names()"
   ]
  },
  {
   "cell_type": "code",
   "execution_count": 15,
   "metadata": {},
   "outputs": [
    {
     "data": {
      "text/plain": [
       "array([[1, 0, 0, 0],\n",
       "       [0, 1, 1, 0],\n",
       "       [0, 0, 0, 1],\n",
       "       [0, 0, 0, 1],\n",
       "       [1, 0, 0, 0],\n",
       "       [0, 0, 0, 1],\n",
       "       [1, 1, 1, 0],\n",
       "       [0, 0, 0, 1],\n",
       "       [1, 0, 0, 0],\n",
       "       [0, 1, 0, 0],\n",
       "       [0, 1, 1, 0],\n",
       "       [0, 0, 0, 1],\n",
       "       [1, 0, 0, 0],\n",
       "       [1, 0, 0, 0],\n",
       "       [0, 1, 1, 0],\n",
       "       [0, 0, 0, 1],\n",
       "       [0, 0, 0, 1],\n",
       "       [0, 0, 1, 0],\n",
       "       [0, 0, 0, 1],\n",
       "       [0, 1, 0, 1]], dtype=int64)"
      ]
     },
     "execution_count": 15,
     "metadata": {},
     "output_type": "execute_result"
    }
   ],
   "source": [
    "X.toarray().transpose()"
   ]
  },
  {
   "cell_type": "code",
   "execution_count": 16,
   "metadata": {},
   "outputs": [
    {
     "data": {
      "text/plain": [
       "[' 메리 랑 공원 에서 산책 하고 놀고 싶어요']"
      ]
     },
     "execution_count": 16,
     "metadata": {},
     "output_type": "execute_result"
    }
   ],
   "source": [
    "new_post = ['메리랑 공원에서 산책하고 놀고 싶어요']\n",
    "new_post_tokens = [t.morphs(row) for row in new_post]\n",
    "\n",
    "new_post_for_vectorize = []\n",
    "\n",
    "for content in new_post_tokens:\n",
    "    sentence = ''\n",
    "    for word in content:\n",
    "        sentence = sentence + ' ' + word\n",
    "        \n",
    "    new_post_for_vectorize.append(sentence)\n",
    "    \n",
    "new_post_for_vectorize"
   ]
  },
  {
   "cell_type": "code",
   "execution_count": 17,
   "metadata": {},
   "outputs": [],
   "source": [
    "new_post_vec = vectorizer.transform(new_post_for_vectorize)"
   ]
  },
  {
   "cell_type": "code",
   "execution_count": 18,
   "metadata": {},
   "outputs": [
    {
     "data": {
      "text/plain": [
       "array([[0, 1, 0, 0, 0, 0, 1, 0, 0, 1, 0, 0, 0, 0, 1, 0, 0, 0, 0, 1]],\n",
       "      dtype=int64)"
      ]
     },
     "execution_count": 18,
     "metadata": {},
     "output_type": "execute_result"
    }
   ],
   "source": [
    "new_post_vec.toarray()"
   ]
  },
  {
   "cell_type": "code",
   "execution_count": 19,
   "metadata": {},
   "outputs": [],
   "source": [
    "import scipy as sp\n",
    "\n",
    "def dist_raw(v1, v2):\n",
    "    delta = v1 - v2\n",
    "    return sp.linalg.norm(delta.toarray())"
   ]
  },
  {
   "cell_type": "code",
   "execution_count": 20,
   "metadata": {},
   "outputs": [
    {
     "name": "stdout",
     "output_type": "stream",
     "text": [
      "== Post 0 with dist=3.00   : 메리랑 놀러가고 싶지만 바쁜데 어떻하죠?\n",
      "== Post 1 with dist=1.00   : 메리는 공원에서 산책하고 노는 것을 싫어해요\n",
      "== Post 2 with dist=2.00   : 메리는 공원에서 노는 것도 싫어해요. 이상해요.\n",
      "== Post 3 with dist=3.46   : 먼 곳으로 여행을 떠나고 싶은데 너무 바빠서 그러질 못하고 있어요\n"
     ]
    }
   ],
   "source": [
    "best_doc = None\n",
    "best_dist = 65535\n",
    "best_i = None\n",
    "\n",
    "for i in range(0, num_samples):\n",
    "    post_vec = X.getrow(i)\n",
    "    d = dist_raw(post_vec, new_post_vec)\n",
    "    \n",
    "    print(\"== Post %i with dist=%.2f   : %s\" %(i,d,contents[i]))\n",
    "    \n",
    "    if d<best_dist:\n",
    "        best_dist = d\n",
    "        best_i = i"
   ]
  },
  {
   "cell_type": "code",
   "execution_count": 21,
   "metadata": {},
   "outputs": [
    {
     "name": "stdout",
     "output_type": "stream",
     "text": [
      "Best post is 1, dist = 1.00\n",
      "--> ['메리랑 공원에서 산책하고 놀고 싶어요']\n",
      "----> 메리는 공원에서 산책하고 노는 것을 싫어해요\n"
     ]
    }
   ],
   "source": [
    "print(\"Best post is %i, dist = %.2f\" % (best_i, best_dist))\n",
    "print('-->', new_post)\n",
    "print('---->', contents[best_i])"
   ]
  },
  {
   "cell_type": "code",
   "execution_count": 22,
   "metadata": {},
   "outputs": [
    {
     "name": "stdout",
     "output_type": "stream",
     "text": [
      "[[1 0 0 0 1 0 1 0 1 0 0 0 1 1 0 0 0 0 0 0]]\n",
      "[[0 1 0 0 0 0 1 0 0 1 1 0 0 0 1 0 0 0 0 1]]\n",
      "[[0 1 0 0 0 0 1 0 0 0 1 0 0 0 1 0 0 1 0 0]]\n",
      "[[0 0 1 1 0 1 0 1 0 0 0 1 0 0 0 1 1 0 1 1]]\n",
      "---------------------\n",
      "[[0 1 0 0 0 0 1 0 0 1 0 0 0 0 1 0 0 0 0 1]]\n"
     ]
    }
   ],
   "source": [
    "for i in range(0,len(contents)):\n",
    "    print(X.getrow(i).toarray())\n",
    "    \n",
    "print('---------------------')\n",
    "print(new_post_vec.toarray())"
   ]
  },
  {
   "cell_type": "code",
   "execution_count": 23,
   "metadata": {},
   "outputs": [],
   "source": [
    "def dist_norm(v1, v2):\n",
    "    v1_normalized = v1 / sp.linalg.norm(v1.toarray())\n",
    "    v2_normalized = v2 / sp.linalg.norm(v2.toarray())\n",
    "    \n",
    "    delta = v1_normalized - v2_normalized\n",
    "    \n",
    "    return sp.linalg.norm(delta.toarray())"
   ]
  },
  {
   "cell_type": "code",
   "execution_count": 24,
   "metadata": {},
   "outputs": [
    {
     "name": "stdout",
     "output_type": "stream",
     "text": [
      "== Post 0 with dist=1.28   : 메리랑 놀러가고 싶지만 바쁜데 어떻하죠?\n",
      "== Post 1 with dist=0.42   : 메리는 공원에서 산책하고 노는 것을 싫어해요\n",
      "== Post 2 with dist=0.89   : 메리는 공원에서 노는 것도 싫어해요. 이상해요.\n",
      "== Post 3 with dist=1.30   : 먼 곳으로 여행을 떠나고 싶은데 너무 바빠서 그러질 못하고 있어요\n"
     ]
    }
   ],
   "source": [
    "best_doc = None\n",
    "best_dist = 65535\n",
    "best_i = None\n",
    "\n",
    "for i in range(0, num_samples):\n",
    "    post_vec = X.getrow(i)\n",
    "    d = dist_norm(post_vec, new_post_vec)\n",
    "    \n",
    "    print(\"== Post %i with dist=%.2f   : %s\" %(i,d,contents[i]))\n",
    "    \n",
    "    if d<best_dist:\n",
    "        best_dist = d\n",
    "        best_i = i"
   ]
  },
  {
   "cell_type": "code",
   "execution_count": 25,
   "metadata": {},
   "outputs": [
    {
     "name": "stdout",
     "output_type": "stream",
     "text": [
      "Best post is 1, dist = 0.42\n",
      "--> ['메리랑 공원에서 산책하고 놀고 싶어요']\n",
      "----> 메리는 공원에서 산책하고 노는 것을 싫어해요\n"
     ]
    }
   ],
   "source": [
    "print(\"Best post is %i, dist = %.2f\" % (best_i, best_dist))\n",
    "print('-->', new_post)\n",
    "print('---->', contents[best_i])"
   ]
  },
  {
   "cell_type": "code",
   "execution_count": 26,
   "metadata": {},
   "outputs": [],
   "source": [
    "def tfidf(t, d, D):\n",
    "    tf = float(d.count(t)) / sum(d.count(w) for w in set(d))\n",
    "    idf = sp.log( float(len(D))/(len([doc for doc in D if t in doc])) )\n",
    "    return tf, idf"
   ]
  },
  {
   "cell_type": "code",
   "execution_count": 27,
   "metadata": {},
   "outputs": [
    {
     "name": "stdout",
     "output_type": "stream",
     "text": [
      "(1.0, 0.0)\n",
      "(0.6666666666666666, 0.4054651081081644)\n",
      "(0.3333333333333333, 0.0)\n",
      "(0.3333333333333333, 0.4054651081081644)\n",
      "(0.3333333333333333, 1.0986122886681098)\n"
     ]
    }
   ],
   "source": [
    "a, abb, abc = ['a'], ['a','b','b'], ['a','b','c']\n",
    "D = [a,abb,abc]\n",
    "\n",
    "print(tfidf('a', a, D))\n",
    "print(tfidf('b', abb, D))\n",
    "print(tfidf('a', abc, D))\n",
    "print(tfidf('b', abc, D))\n",
    "print(tfidf('c', abc, D))"
   ]
  },
  {
   "cell_type": "code",
   "execution_count": 28,
   "metadata": {},
   "outputs": [],
   "source": [
    "def tfidf(t, d, D):\n",
    "    tf = float(d.count(t)) / sum(d.count(w) for w in set(d))\n",
    "    idf = sp.log( float(len(D))/(len([doc for doc in D if t in doc])) )\n",
    "    return tf * idf"
   ]
  },
  {
   "cell_type": "code",
   "execution_count": 29,
   "metadata": {},
   "outputs": [],
   "source": [
    "from sklearn.feature_extraction.text import TfidfVectorizer\n",
    "vectorizer = TfidfVectorizer(min_df=1, decode_error='ignore')"
   ]
  },
  {
   "cell_type": "code",
   "execution_count": 30,
   "metadata": {},
   "outputs": [
    {
     "data": {
      "text/plain": [
       "(4, 20)"
      ]
     },
     "execution_count": 30,
     "metadata": {},
     "output_type": "execute_result"
    }
   ],
   "source": [
    "contents_tokens = [t.morphs(row) for row in contents]\n",
    "\n",
    "contents_for_vectorize = []\n",
    "\n",
    "for content in contents_tokens:\n",
    "    sentence = ''\n",
    "    for word in content:\n",
    "        sentence = sentence + ' ' + word\n",
    "        \n",
    "    contents_for_vectorize.append(sentence)\n",
    "    \n",
    "X = vectorizer.fit_transform(contents_for_vectorize)\n",
    "num_samples, num_features = X.shape\n",
    "num_samples, num_features"
   ]
  },
  {
   "cell_type": "code",
   "execution_count": 31,
   "metadata": {},
   "outputs": [
    {
     "data": {
      "text/plain": [
       "['가고',\n",
       " '공원',\n",
       " '그러질',\n",
       " '너무',\n",
       " '놀러',\n",
       " '떠나고',\n",
       " '메리',\n",
       " '바빠서',\n",
       " '바쁜데',\n",
       " '산책',\n",
       " '싫어해요',\n",
       " '싶은데',\n",
       " '싶지만',\n",
       " '어떻하죠',\n",
       " '에서',\n",
       " '여행',\n",
       " '으로',\n",
       " '이상해요',\n",
       " '있어요',\n",
       " '하고']"
      ]
     },
     "execution_count": 31,
     "metadata": {},
     "output_type": "execute_result"
    }
   ],
   "source": [
    "vectorizer.get_feature_names()"
   ]
  },
  {
   "cell_type": "code",
   "execution_count": 32,
   "metadata": {},
   "outputs": [
    {
     "data": {
      "text/plain": [
       "[' 근처 공원 에 메리 랑 놀러 가고 싶네요 .']"
      ]
     },
     "execution_count": 32,
     "metadata": {},
     "output_type": "execute_result"
    }
   ],
   "source": [
    "new_post = ['근처 공원에 메리랑 놀러가고 싶네요.']\n",
    "new_post_tokens = [t.morphs(row) for row in new_post]\n",
    "\n",
    "new_post_for_vectorize = []\n",
    "\n",
    "for content in new_post_tokens:\n",
    "    sentence = ''\n",
    "    for word in content:\n",
    "        sentence = sentence + ' ' + word\n",
    "        \n",
    "    new_post_for_vectorize.append(sentence)\n",
    "    \n",
    "new_post_for_vectorize"
   ]
  },
  {
   "cell_type": "code",
   "execution_count": 33,
   "metadata": {},
   "outputs": [],
   "source": [
    "new_post_vec = vectorizer.transform(new_post_for_vectorize)"
   ]
  },
  {
   "cell_type": "code",
   "execution_count": 34,
   "metadata": {},
   "outputs": [
    {
     "name": "stdout",
     "output_type": "stream",
     "text": [
      "== Post 0 with dist=0.90   : 메리랑 놀러가고 싶지만 바쁜데 어떻하죠?\n",
      "== Post 1 with dist=1.18   : 메리는 공원에서 산책하고 노는 것을 싫어해요\n",
      "== Post 2 with dist=1.16   : 메리는 공원에서 노는 것도 싫어해요. 이상해요.\n",
      "== Post 3 with dist=1.41   : 먼 곳으로 여행을 떠나고 싶은데 너무 바빠서 그러질 못하고 있어요\n",
      "Best post is 0, dist = 0.90\n",
      "--> ['근처 공원에 메리랑 놀러가고 싶네요.']\n",
      "----> 메리랑 놀러가고 싶지만 바쁜데 어떻하죠?\n"
     ]
    }
   ],
   "source": [
    "best_doc = None\n",
    "best_dist = 65535\n",
    "best_i = None\n",
    "\n",
    "for i in range(0, num_samples):\n",
    "    post_vec = X.getrow(i)\n",
    "    d = dist_norm(post_vec, new_post_vec)\n",
    "    \n",
    "    print(\"== Post %i with dist=%.2f   : %s\" %(i,d,contents[i]))\n",
    "    \n",
    "    if d<best_dist:\n",
    "        best_dist = d\n",
    "        best_i = i\n",
    "        \n",
    "print(\"Best post is %i, dist = %.2f\" % (best_i, best_dist))\n",
    "print('-->', new_post)\n",
    "print('---->', contents[best_i])"
   ]
  },
  {
   "cell_type": "markdown",
   "metadata": {
    "collapsed": true
   },
   "source": [
    "## 8-8. 여자 친구 선물 고르기"
   ]
  },
  {
   "cell_type": "code",
   "execution_count": 35,
   "metadata": {},
   "outputs": [],
   "source": [
    "import pandas as pd\n",
    "import numpy as np\n",
    "\n",
    "import platform\n",
    "import matplotlib.pyplot as plt\n",
    "\n",
    "%matplotlib inline\n",
    "\n",
    "path = \"c:/Windows/Fonts/malgun.ttf\"\n",
    "from matplotlib import font_manager, rc\n",
    "if platform.system() == 'Darwin':\n",
    "    rc('font', family='AppleGothic')\n",
    "elif platform.system() == 'Windows':\n",
    "    font_name = font_manager.FontProperties(fname=path).get_name()\n",
    "    rc('font', family=font_name)\n",
    "else:\n",
    "    print('Unknown system... sorry~~~~')    \n",
    "\n",
    "plt.rcParams['axes.unicode_minus'] = False\n",
    "\n",
    "from bs4 import BeautifulSoup \n",
    "from urllib.request import urlopen\n",
    "import urllib\n",
    "import time"
   ]
  },
  {
   "cell_type": "code",
   "execution_count": 36,
   "metadata": {},
   "outputs": [],
   "source": [
    "tmp1 = 'https://search.naver.com/search.naver?where=kin'\n",
    "html = tmp1 + '&sm=tab_jum&ie=utf8&query={key_word}&start={num}'\n",
    "\n",
    "response = urlopen(html.format(num=1, key_word=urllib.parse.quote('여친 선물')))\n",
    "\n",
    "soup = BeautifulSoup(response, \"html.parser\")\n",
    "\n",
    "tmp = soup.find_all('dl')"
   ]
  },
  {
   "cell_type": "code",
   "execution_count": 37,
   "metadata": {
    "scrolled": true
   },
   "outputs": [
    {
     "data": {
      "text/plain": [
       "[' 기본검색   입력한 단어가 하나이상 포함된 문서 검색  ',\n",
       " ' 상세검색  정확히 일치하는 단어/문장(\" \") 반드시 포함하는 단어(+) 제외하는 단어(-)  기본검색의 결과 범위를 줄이고자 할 때 사용합니다.여러개의 단어를 입력하실 때는쉼표(,)로 구분해서 입력하세요.   ',\n",
       " ' 연관검색어도움말    파니니백   여친 생일선물   유인나 시계   까르벵   까르벵 시계   웨스트아일랜드   주얼리 브랜드     닫기 후 1주일간 유지됩니다. 연관검색어를 다시 보시겠습니까? 열기 ',\n",
       " '  질문  여친선물로 생로랑 틴트 평이 좋아보이   2019.08.30.   여친선물로 생로랑 틴트 평이 좋아보이길래 틴트랑 이것저것 필요한걸로 좀 사줄려구 하는데요. 사는지역이 구미인데 구미에 구매 할수있는곳이 있나요? 아니면 대구 신세계...   답변 백화점에서 구매하는게 좋습니다 일단 다른 오프매장은 마땅히 구매할 만한 곳이 없구요! 또 유통채널들 중에서 가장 다양하게 틴트 라인업 보유하고 있고 재고가 충분히...      ',\n",
       " '  질문  생리기간 여친선물 줄만한거   2018.12.18.   여친이 생리기간만 되면 너무 힘들어하는데 그럴때 줄만한 여친선물 있을까요ㅠㅠ? 간단한거라도 좋아용..생리기간에 힘내라고 여친선물 주고싶어서요   답변 생리기간에는 예민해서 여친선물로 여자친구가 조아하는걸로 주는게 좋을거 같아요 생리기간 잘 이겨내도록 좋은 여친선물 고르세요!      ',\n",
       " '  질문  빼빼로데이 여친 선물 추천 어떤게 좋을까요?   2018.10.15.   어떻게 선택을 해야 할지를 모르는데 빼빼로데이 여친선물 추천 부탁드립니다. 처음 여친을 사귀는 거라 어떤것을 해야 할지를 모르겠네요.   답변 빼빼로데이 여친 선물 추천 때문에 질문을 주신거 같으신데요.. 찾아보시면은 빼빼로데이 여친 선물 추천 드리고... 빼빼로데이 다가오면은 여친 선물 하려고 준비를 하는...      ',\n",
       " '  질문  여친선물 커플템   2019.08.15.   여친선물로 커플템을 맞추고 싶은데 1~2만원 으로 살수있는거 없을까요?   답변 모자 사세요      ',\n",
       " '  질문  여친 선물로 꽃   2019.07.24.   여자친구에게 선물로 꽃을 줄려 합니다 무슨 꽃이 좋을까요? 너무 비싼 거 제외해주세요 너무 부담스럽지 않을 만큼이면 좋겠습니다   답변 안녕하세요 수제가죽 브랜드 톰크롬입니다. 여자친구분에게 튤립을 선물하면 좋을것같습니다. 꽃말은 튤립의 꽃말은 사랑의 고백, 매혹, 영원한 애정, 경솔 입니다. 꽃...      ',\n",
       " '  질문  여친 선물로   2019.06.07.   좋은건??   답변 토닥토닥워터 너의이름은장미를 추천해요 장미와 건조레몬,딸기, 히비스커스가 블랜딩 되어 있어 상큼하고 맛있게 먹을수 있어요 장미향도 은은하고 보기에도 예쁘구요...      ',\n",
       " '  질문  여친선물을 뭐로하면 좋을가요? 제가   2019.05.09.   여친선물을 뭐로하면 좋을가요? 제가 지금 중딩인데 여친선물을 뭐할지 고민되네요... 중학생여자가 좋아할만한걸로 8만원까지 추천좀용 ..!   답변 여자친구 생일선물로 예뻐지는 워터 토닥토닥워터와 전용보틀 오늘도사랑해 보틀 추천요.      ',\n",
       " '  질문  50일 여친선물   2019.07.01.   곧50되서 여친한테 선물주려고 하는데 뭐줄까요 생일때도 편지써주고 놀러가긴했지만 준게없어서ㅎㅎ ㅠ 큰곰인형 생각하고 있는데 뭘줘야 감동먹을까요 ㅠㅠ   답변 피카츄 큰거 귀엽더라구요 여친 나이가 어떻게 되는지 몰라서 구체적으로 어떤 선물이 좋다하고 말씀드리기가 곤란한데 몇살이세요?      ',\n",
       " '  질문  10대 여친 선물   2019.08.13.   이제 기념일이 다가와서 그런데요 여자친구한테 무슨 선물하는게 좋을까요?? 향수 말고요..ㅎ 자세히 알려주세용^^   답변 예쁜 백팩 어떤가요      ',\n",
       " '  질문  중학생 여친 선물 추천   2019.08.21.   몇일 후면 여친 생일인데 아직 중학생이라 돈의 여분이 많지 않아서 중학생 선 내에서 줄 수 있는 선물 추천 좀 해 주세요.   답변 생일 선물로 고민하고 계신다면 은은한 향기를 선물할 수 있는 니치섬유향수도 괜찮을 것 같네요 :) 향기렐라 니치섬유향수는 향수에 비해 가격도 훨씬 저렴하고, 고급...      ']"
      ]
     },
     "execution_count": 37,
     "metadata": {},
     "output_type": "execute_result"
    }
   ],
   "source": [
    "tmp_list = []\n",
    "for line in tmp:\n",
    "    tmp_list.append(line.text)\n",
    "    \n",
    "tmp_list"
   ]
  },
  {
   "cell_type": "code",
   "execution_count": null,
   "metadata": {},
   "outputs": [],
   "source": [
    "from tqdm import tqdm_notebook\n",
    "\n",
    "present_candi_text = []\n",
    "\n",
    "for n in tqdm_notebook(range(1, 1000, 10)):\n",
    "    response = urlopen(html.format(num=n, key_word=urllib.parse.quote('여자 친구 선물')))\n",
    "\n",
    "    soup = BeautifulSoup(response, \"html.parser\")\n",
    "\n",
    "    tmp = soup.find_all('dl')\n",
    "\n",
    "    for line in tmp:\n",
    "        present_candi_text.append(line.text)\n",
    "        \n",
    "    time.sleep(0.5)"
   ]
  },
  {
   "cell_type": "code",
   "execution_count": null,
   "metadata": {
    "scrolled": true
   },
   "outputs": [],
   "source": [
    "present_candi_text"
   ]
  },
  {
   "cell_type": "code",
   "execution_count": null,
   "metadata": {},
   "outputs": [],
   "source": [
    "len(present_candi_text)"
   ]
  },
  {
   "cell_type": "code",
   "execution_count": null,
   "metadata": {},
   "outputs": [],
   "source": [
    "import nltk\n",
    "from konlpy.tag import Twitter; t = Twitter()"
   ]
  },
  {
   "cell_type": "code",
   "execution_count": null,
   "metadata": {
    "scrolled": true
   },
   "outputs": [],
   "source": [
    "present_text = ''\n",
    "\n",
    "for each_line in present_candi_text[:10000]:\n",
    "    present_text = present_text + each_line + '\\n'"
   ]
  },
  {
   "cell_type": "code",
   "execution_count": null,
   "metadata": {
    "scrolled": true
   },
   "outputs": [],
   "source": [
    "tokens_ko = t.morphs(present_text)\n",
    "tokens_ko"
   ]
  },
  {
   "cell_type": "code",
   "execution_count": null,
   "metadata": {
    "scrolled": true
   },
   "outputs": [],
   "source": [
    "ko = nltk.Text(tokens_ko, name='여자 친구 선물')\n",
    "print(len(ko.tokens))\n",
    "print(len(set(ko.tokens)))"
   ]
  },
  {
   "cell_type": "code",
   "execution_count": null,
   "metadata": {
    "scrolled": true
   },
   "outputs": [],
   "source": [
    "ko = nltk.Text(tokens_ko, name='여자 친구 선물')\n",
    "ko.vocab().most_common(100)"
   ]
  },
  {
   "cell_type": "code",
   "execution_count": null,
   "metadata": {},
   "outputs": [],
   "source": [
    "ko.similar('여자친구')"
   ]
  },
  {
   "cell_type": "code",
   "execution_count": null,
   "metadata": {
    "scrolled": true
   },
   "outputs": [],
   "source": [
    "stop_words = ['.','가','요','답변','...','을','수','에','질문','제','를','이','도',\n",
    "                      '좋','1','는','로','으로','2','것','은','다',',','니다','대','들',\n",
    "                      '2017','들','데','..','의','때','겠','고','게','네요','한','일','할',\n",
    "                      '10','?','하는','06','주','려고','인데','거','좀','는데','~','ㅎㅎ',\n",
    "                      '하나','이상','20','뭐','까','있는','잘','습니다','다면','했','주려',\n",
    "                      '지','있','못','후','중','줄','6','과','어떤','기본','!!',\n",
    "                      '단어','선물해','라고','중요한','합','가요','....','보이','네','무지']\n",
    "\n",
    "tokens_ko = [each_word for each_word in tokens_ko \n",
    "                                                         if each_word not in stop_words]\n",
    "\n",
    "ko = nltk.Text(tokens_ko, name='여자 친구 선물')\n",
    "ko.vocab().most_common(50)"
   ]
  },
  {
   "cell_type": "code",
   "execution_count": null,
   "metadata": {},
   "outputs": [],
   "source": [
    "plt.figure(figsize=(15,6))\n",
    "ko.plot(50) \n",
    "plt.show()"
   ]
  },
  {
   "cell_type": "code",
   "execution_count": null,
   "metadata": {},
   "outputs": [],
   "source": [
    "from wordcloud import WordCloud, STOPWORDS\n",
    "from PIL import Image"
   ]
  },
  {
   "cell_type": "code",
   "execution_count": null,
   "metadata": {},
   "outputs": [],
   "source": [
    "data = ko.vocab().most_common(300)\n",
    "\n",
    "# for win : font_path='c:/Windows/Fonts/malgun.ttf'\n",
    "wordcloud = WordCloud(font_path='/Library/Fonts/AppleGothic.ttf',\n",
    "                      relative_scaling = 0.2,\n",
    "                      #stopwords=STOPWORDS,\n",
    "                      background_color='white',\n",
    "                      ).generate_from_frequencies(dict(data))\n",
    "plt.figure(figsize=(16,8))\n",
    "plt.imshow(wordcloud)\n",
    "plt.axis(\"off\")\n",
    "plt.show()"
   ]
  },
  {
   "cell_type": "code",
   "execution_count": null,
   "metadata": {},
   "outputs": [],
   "source": [
    "mask = np.array(Image.open('../data/09. heart.jpg'))\n",
    "\n",
    "from wordcloud import ImageColorGenerator\n",
    "\n",
    "image_colors = ImageColorGenerator(mask)"
   ]
  },
  {
   "cell_type": "code",
   "execution_count": null,
   "metadata": {},
   "outputs": [],
   "source": [
    "data = ko.vocab().most_common(200)\n",
    "\n",
    "# for win : font_path='c:/Windows/Fonts/malgun.ttf'\n",
    "wordcloud = WordCloud(font_path='/Library/Fonts/AppleGothic.ttf',\n",
    "               relative_scaling = 0.1, mask=mask,\n",
    "               background_color = 'white',\n",
    "               min_font_size=1,\n",
    "               max_font_size=100).generate_from_frequencies(dict(data))\n",
    "\n",
    "default_colors = wordcloud.to_array()"
   ]
  },
  {
   "cell_type": "code",
   "execution_count": null,
   "metadata": {},
   "outputs": [],
   "source": [
    "plt.figure(figsize=(12,12))\n",
    "plt.imshow(wordcloud.recolor(color_func=image_colors), interpolation='bilinear')\n",
    "plt.axis('off')\n",
    "plt.show()"
   ]
  },
  {
   "cell_type": "markdown",
   "metadata": {},
   "source": [
    "* gensim install : **pip install gensim**"
   ]
  },
  {
   "cell_type": "code",
   "execution_count": null,
   "metadata": {},
   "outputs": [],
   "source": [
    "import gensim\n",
    "from gensim.models import word2vec"
   ]
  },
  {
   "cell_type": "code",
   "execution_count": null,
   "metadata": {},
   "outputs": [],
   "source": [
    "twitter = Twitter()\n",
    "results = []\n",
    "lines = present_candi_text\n",
    "\n",
    "for line in lines:\n",
    "    malist = twitter.pos(line, norm=True, stem=True)\n",
    "    r= []\n",
    "    \n",
    "    for word in malist:\n",
    "        if not word[1] in [\"Josa\", \"Eomi\", \"Punctuation\"]:\n",
    "            r.append(word[0])\n",
    "            \n",
    "    r1 = (\" \".join(r)).strip()\n",
    "    results.append(r1)\n",
    "    print(r1)"
   ]
  },
  {
   "cell_type": "code",
   "execution_count": null,
   "metadata": {},
   "outputs": [],
   "source": [
    "data_file = 'pres_girl.data'\n",
    "with open(data_file, 'w', encoding='utf-8') as fp:\n",
    "    fp.write(\"\\n\".join(results))"
   ]
  },
  {
   "cell_type": "code",
   "execution_count": null,
   "metadata": {},
   "outputs": [],
   "source": [
    "data = word2vec.LineSentence(data_file)\n",
    "model = word2vec.Word2Vec(data, size=200, window=10, hs=1, \n",
    "                                                                        min_count=2, sg=1)\n",
    "model.save('pres_girl.model')"
   ]
  },
  {
   "cell_type": "code",
   "execution_count": null,
   "metadata": {},
   "outputs": [],
   "source": [
    "model = word2vec.Word2Vec.load(\"pres_girl.model\")"
   ]
  },
  {
   "cell_type": "code",
   "execution_count": null,
   "metadata": {},
   "outputs": [],
   "source": [
    "model.most_similar(positive=['선물'])"
   ]
  },
  {
   "cell_type": "code",
   "execution_count": null,
   "metadata": {},
   "outputs": [],
   "source": [
    "model.most_similar(positive=['여자친구'])"
   ]
  },
  {
   "cell_type": "code",
   "execution_count": null,
   "metadata": {},
   "outputs": [],
   "source": []
  }
 ],
 "metadata": {
  "kernelspec": {
   "display_name": "Python 3",
   "language": "python",
   "name": "python3"
  },
  "language_info": {
   "codemirror_mode": {
    "name": "ipython",
    "version": 3
   },
   "file_extension": ".py",
   "mimetype": "text/x-python",
   "name": "python",
   "nbconvert_exporter": "python",
   "pygments_lexer": "ipython3",
   "version": "3.7.3"
  }
 },
 "nbformat": 4,
 "nbformat_minor": 2
}
