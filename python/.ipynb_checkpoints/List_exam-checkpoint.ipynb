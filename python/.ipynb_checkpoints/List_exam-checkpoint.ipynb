{
 "cells": [
  {
   "cell_type": "code",
   "execution_count": 65,
   "metadata": {},
   "outputs": [],
   "source": [
    "solarsys  = ['태양', '수성','금성', '지구', '화성', '목성', '지구']\n",
    "solarsys1 = ['토성', '천왕성', '해왕성']\n",
    "planet = '지구'"
   ]
  },
  {
   "cell_type": "code",
   "execution_count": 66,
   "metadata": {},
   "outputs": [
    {
     "name": "stdout",
     "output_type": "stream",
     "text": [
      "['수성', '금성', '지구']\n"
     ]
    }
   ],
   "source": [
    "# 1. solarsys에서 ['수성', '금성', '지구']출력\n",
    "print(solarsys[1:4])"
   ]
  },
  {
   "cell_type": "code",
   "execution_count": 67,
   "metadata": {},
   "outputs": [
    {
     "name": "stdout",
     "output_type": "stream",
     "text": [
      "3\n"
     ]
    }
   ],
   "source": [
    "# 2. solarsys에서 '지구'의 위치값 출력\n",
    "print(solarsys.index('지구'))"
   ]
  },
  {
   "cell_type": "code",
   "execution_count": 68,
   "metadata": {},
   "outputs": [
    {
     "name": "stdout",
     "output_type": "stream",
     "text": [
      "['태양', '수성', '금성', '지구', '화성', '목성', '지구']\n"
     ]
    }
   ],
   "source": [
    "# 3. solarsys에서 '화성'을 '해왕성'으로 수정\n",
    "#solarsys[solarsys.index('화성')]='해왕성'\n",
    "print(solarsys)"
   ]
  },
  {
   "cell_type": "code",
   "execution_count": 69,
   "metadata": {},
   "outputs": [
    {
     "name": "stdout",
     "output_type": "stream",
     "text": [
      "['태양', '명왕성', '수성', '금성', '지구', '화성', '목성', '지구']\n"
     ]
    }
   ],
   "source": [
    "# 4. solarsys에서 '수성'자리에 '명왕성'을 삽입\n",
    "solarsys.insert(solarsys.index('수성'), '명왕성')\n",
    "print(solarsys)\n"
   ]
  },
  {
   "cell_type": "code",
   "execution_count": 70,
   "metadata": {},
   "outputs": [
    {
     "name": "stdout",
     "output_type": "stream",
     "text": [
      "['태양', '명왕성', '수성', '금성', '지구', '화성', '목성', '지구', '토성']\n"
     ]
    }
   ],
   "source": [
    "# 5. solarsys에 맨 끝에 첨가\n",
    "solarsys.append('토성')\n",
    "print(solarsys)"
   ]
  },
  {
   "cell_type": "code",
   "execution_count": 71,
   "metadata": {},
   "outputs": [
    {
     "name": "stdout",
     "output_type": "stream",
     "text": [
      "토성\n"
     ]
    }
   ],
   "source": [
    "# 6. solarsys에서 맨 끝 요소를 제거하고 리턴\n",
    "print(solarsys.pop())"
   ]
  },
  {
   "cell_type": "code",
   "execution_count": 72,
   "metadata": {},
   "outputs": [
    {
     "name": "stdout",
     "output_type": "stream",
     "text": [
      "['태양', '수성', '금성', '지구', '화성', '목성', '지구']\n"
     ]
    }
   ],
   "source": [
    "# 7. solarsys에 '금성'을 제거\n",
    "solarsys.remove('명왕성')\n",
    "print(solarsys)"
   ]
  },
  {
   "cell_type": "code",
   "execution_count": 73,
   "metadata": {},
   "outputs": [],
   "source": [
    "# 8. solarsys에서 1번째에서 3번째까지 삭제\n",
    "del solarsys[0:4]"
   ]
  },
  {
   "cell_type": "code",
   "execution_count": 74,
   "metadata": {},
   "outputs": [
    {
     "name": "stdout",
     "output_type": "stream",
     "text": [
      "['화성', '목성', '지구']\n",
      "목성\n"
     ]
    }
   ],
   "source": [
    "# 9. solarsys에서 인덱스 값 2번 요소를 제거\n",
    "print(solarsys)\n",
    "print(solarsys.pop(1))"
   ]
  },
  {
   "cell_type": "code",
   "execution_count": 75,
   "metadata": {},
   "outputs": [
    {
     "name": "stdout",
     "output_type": "stream",
     "text": [
      "None\n",
      "['화성', '지구', '토성', '천왕성', '해왕성']\n"
     ]
    }
   ],
   "source": [
    "# 10. solarsys와 solarsys1을 합하시오\n",
    "print(solarsys.extend(solarsys1))\n",
    "print(solarsys)"
   ]
  },
  {
   "cell_type": "code",
   "execution_count": 76,
   "metadata": {},
   "outputs": [
    {
     "name": "stdout",
     "output_type": "stream",
     "text": [
      "['지구', '천왕성', '토성', '해왕성', '화성']\n"
     ]
    }
   ],
   "source": [
    "# 11. solarsys를 오름차순으로 정렬하세요.\n",
    "print(sorted(solarsys))"
   ]
  },
  {
   "cell_type": "code",
   "execution_count": 77,
   "metadata": {},
   "outputs": [
    {
     "name": "stdout",
     "output_type": "stream",
     "text": [
      "['화성', '해왕성', '토성', '천왕성', '지구']\n"
     ]
    }
   ],
   "source": [
    "# 12. solarsys를 내림차순으로 정렬하세요\n",
    "print(sorted(solarsys, reverse = True))"
   ]
  },
  {
   "cell_type": "code",
   "execution_count": 84,
   "metadata": {},
   "outputs": [
    {
     "name": "stdout",
     "output_type": "stream",
     "text": [
      "['해왕성', '천왕성', '토성', '지구', '화성']\n"
     ]
    }
   ],
   "source": [
    "# 13. solarsys의 원소의 순서를 바꾸세요.\n",
    "solarsys.reverse()\n",
    "print(solarsys)"
   ]
  },
  {
   "cell_type": "code",
   "execution_count": 85,
   "metadata": {},
   "outputs": [
    {
     "data": {
      "text/plain": [
       "False"
      ]
     },
     "execution_count": 85,
     "metadata": {},
     "output_type": "execute_result"
    }
   ],
   "source": [
    "# 14. solarsys에 '만리장성'이 있는지 확인하세요\n",
    "'만리장성' in solarsys"
   ]
  },
  {
   "cell_type": "code",
   "execution_count": 86,
   "metadata": {},
   "outputs": [
    {
     "name": "stdout",
     "output_type": "stream",
     "text": [
      "['해왕성', '천왕성', '토성', '지구', '화성', '해왕성', '천왕성', '토성', '지구', '화성', '해왕성', '천왕성', '토성', '지구', '화성']\n"
     ]
    }
   ],
   "source": [
    "# 15. solarsys를 3번 반복하세요\n",
    "print(solarsys*3)"
   ]
  },
  {
   "cell_type": "code",
   "execution_count": 87,
   "metadata": {},
   "outputs": [
    {
     "name": "stdout",
     "output_type": "stream",
     "text": [
      "5\n"
     ]
    }
   ],
   "source": [
    "# 16. solarsys 길이를 리턴하세요\n",
    "print(len(solarsys))"
   ]
  },
  {
   "cell_type": "code",
   "execution_count": 89,
   "metadata": {},
   "outputs": [
    {
     "name": "stdout",
     "output_type": "stream",
     "text": [
      "1\n"
     ]
    }
   ],
   "source": [
    "# 17. solarsys에서 '지구'의 갯수를 출력하세요\n",
    "print(solarsys.count('지구'))"
   ]
  },
  {
   "cell_type": "code",
   "execution_count": 91,
   "metadata": {},
   "outputs": [],
   "source": [
    "# 18. solarsys의 모든 원소를 지워주세요\n",
    "solarsys.clear()"
   ]
  },
  {
   "cell_type": "code",
   "execution_count": 92,
   "metadata": {},
   "outputs": [],
   "source": [
    "# 19. solarsys의 리스트를 삭제하세요\n",
    "del solarsys"
   ]
  },
  {
   "cell_type": "code",
   "execution_count": null,
   "metadata": {},
   "outputs": [],
   "source": []
  }
 ],
 "metadata": {
  "kernelspec": {
   "display_name": "Python 3",
   "language": "python",
   "name": "python3"
  },
  "language_info": {
   "codemirror_mode": {
    "name": "ipython",
    "version": 3
   },
   "file_extension": ".py",
   "mimetype": "text/x-python",
   "name": "python",
   "nbconvert_exporter": "python",
   "pygments_lexer": "ipython3",
   "version": "3.7.4"
  }
 },
 "nbformat": 4,
 "nbformat_minor": 2
}
