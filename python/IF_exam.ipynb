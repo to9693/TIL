{
 "cells": [
  {
   "cell_type": "code",
   "execution_count": 2,
   "metadata": {},
   "outputs": [
    {
     "name": "stdout",
     "output_type": "stream",
     "text": [
      "Password를 입력하세요:123\n",
      "죄송합니다 패스워드가 틀립니다.\n"
     ]
    }
   ],
   "source": [
    "# password = 1234\n",
    "password = 1234\n",
    "my_password = int(input('Password를 입력하세요:'))\n",
    "if my_password == password:\n",
    "    print('환영합니다')\n",
    "else:\n",
    "    print('죄송합니다 패스워드가 틀립니다.')"
   ]
  },
  {
   "cell_type": "code",
   "execution_count": 3,
   "metadata": {},
   "outputs": [
    {
     "name": "stdout",
     "output_type": "stream",
     "text": [
      "x 값을 입력하세요32\n",
      "y 값을 입력하세요45\n",
      "크다\n"
     ]
    }
   ],
   "source": [
    "# x,y 두수를 받은 다음 x>y 작을때 작다 / x<y 크다 갘다\n",
    "# x,y = map(int, input().split(''))\n",
    "x = int(input('x 값을 입력하세요'))\n",
    "y = int(input('y 값을 입력하세요'))\n",
    "\n",
    "if x>y:\n",
    "    print('작다')\n",
    "elif x==y:\n",
    "    print('같다')\n",
    "else:\n",
    "    print('크다')"
   ]
  },
  {
   "cell_type": "code",
   "execution_count": 7,
   "metadata": {},
   "outputs": [
    {
     "name": "stdout",
     "output_type": "stream",
     "text": [
      "점수를 입력하세요123\n",
      "점수를 제대로 입력하세요\n"
     ]
    }
   ],
   "source": [
    "# 학점 출력\n",
    "score = int(input('점수를 입력하세요'))\n",
    "\n",
    "if score >= 90 and score <=100:\n",
    "    print('A학점입니다.')\n",
    "elif score >=80 and score <90:\n",
    "    print('B학점입니다.')\n",
    "elif score >=70 and score <80:\n",
    "    print('C학점입니다.')\n",
    "elif score >=60 and score <70:\n",
    "    print('D학점입니다.')\n",
    "elif score <60 :\n",
    "    print('F학점입니다.')\n",
    "else :\n",
    "    print('점수를 제대로 입력하세요')"
   ]
  },
  {
   "cell_type": "code",
   "execution_count": 10,
   "metadata": {},
   "outputs": [
    {
     "name": "stdout",
     "output_type": "stream",
     "text": [
      "mary\n",
      "추가완료 최종 names의 dict는 : {'Mary': 12, 'Jane': 25, 'Tom': 20, 'mary': '0000'}\n"
     ]
    }
   ],
   "source": [
    "names = {'Mary':12, 'Jane':25, 'Tom': 20}\n",
    "\n",
    "# 이름을 받고, names에 없으면 '0000'값으로 names 추가\n",
    "# 있다면, 값을 출력\n",
    "\n",
    "name = input()\n",
    "\n",
    "if name in names:\n",
    "    print(names[name])\n",
    "else:\n",
    "    names[name]='0000'\n",
    "    print('추가완료 최종 names의 dict는 :', names)"
   ]
  },
  {
   "cell_type": "code",
   "execution_count": 20,
   "metadata": {},
   "outputs": [
    {
     "name": "stdout",
     "output_type": "stream",
     "text": [
      "mine -> 가위 바위 보 중에서 골라주세요 :가위\n",
      "yours -> 가위 바위 보 중에서 골라주세요 :보\n",
      "이겼습니다\n"
     ]
    }
   ],
   "source": [
    "# 가위바위보 게임\n",
    "# mind, yours - 내가 이기면 이겼습니다. 졌으면 젔습니다 출력\n",
    "\n",
    "mine = input('mine -> 가위 바위 보 중에서 골라주세요 :')\n",
    "yours = input('yours -> 가위 바위 보 중에서 골라주세요 :')\n",
    "\n",
    "if mine in ['가위', '바위', '보'] and yours in ['가위', '바위', '보']:\n",
    "    if mine == yours:\n",
    "        print('비겼습니다.')    \n",
    "    elif mine == '가위':\n",
    "        if yours == '바위':\n",
    "            print('졌습니다.')\n",
    "        else:\n",
    "            print('이겼습니다')\n",
    "    elif mine == '바위':\n",
    "        if yours == '보':\n",
    "            print('졌습니다.')\n",
    "        else:\n",
    "            print('이겼습니다')\n",
    "    elif mine == '보':\n",
    "        if yours == '가위':\n",
    "            print('졌습니다.')\n",
    "        else:\n",
    "            print('이겼습니다')\n",
    "else:\n",
    "    print('정확히 입력해주세요')\n"
   ]
  },
  {
   "cell_type": "code",
   "execution_count": null,
   "metadata": {},
   "outputs": [],
   "source": []
  }
 ],
 "metadata": {
  "kernelspec": {
   "display_name": "Python 3",
   "language": "python",
   "name": "python3"
  },
  "language_info": {
   "codemirror_mode": {
    "name": "ipython",
    "version": 3
   },
   "file_extension": ".py",
   "mimetype": "text/x-python",
   "name": "python",
   "nbconvert_exporter": "python",
   "pygments_lexer": "ipython3",
   "version": "3.7.4"
  }
 },
 "nbformat": 4,
 "nbformat_minor": 2
}
