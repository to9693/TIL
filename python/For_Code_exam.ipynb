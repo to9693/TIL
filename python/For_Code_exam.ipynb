{
 "cells": [
  {
   "cell_type": "code",
   "execution_count": 8,
   "metadata": {},
   "outputs": [
    {
     "name": "stdout",
     "output_type": "stream",
     "text": [
      "55\n",
      "55\n"
     ]
    }
   ],
   "source": [
    "# 1~10 합계\n",
    "a = 0\n",
    "for i in range(1,11):\n",
    "    a += i\n",
    "print(a)\n",
    "\n",
    "\n",
    "a = 0\n",
    "k =0\n",
    "while k <=10:\n",
    "    a +=k\n",
    "    k +=1\n",
    "print(a)"
   ]
  },
  {
   "cell_type": "code",
   "execution_count": 10,
   "metadata": {},
   "outputs": [
    {
     "name": "stdout",
     "output_type": "stream",
     "text": [
      "o\n",
      "u\n",
      "a\n",
      "i\n",
      "o\n",
      "a\n",
      "i\n",
      "i\n"
     ]
    }
   ],
   "source": [
    "# 'computational thinking'에서 모음만 출력\n",
    "cm = 'computational thinking'\n",
    "for i in cm:\n",
    "    if i in ['a', 'e', 'i', 'o','u']:\n",
    "        print(i)"
   ]
  },
  {
   "cell_type": "code",
   "execution_count": 12,
   "metadata": {},
   "outputs": [
    {
     "name": "stdout",
     "output_type": "stream",
     "text": [
      "[(0, 5), (0, 6), (0, 7), (0, 8), (0, 9), (0, 10), (1, 5), (1, 6), (1, 7), (1, 8), (1, 9), (1, 10), (2, 5), (2, 6), (2, 7), (2, 8), (2, 9), (2, 10), (3, 5), (3, 6), (3, 7), (3, 8), (3, 9), (3, 10), (4, 5), (4, 6), (4, 7), (4, 8), (4, 9), (4, 10)]\n"
     ]
    }
   ],
   "source": [
    "# list computation\n",
    "x = [0,1,2,3,4]\n",
    "y = [5,6,7,8,9,10]\n",
    "\n",
    "print([(i,j) for i in x for j in y])"
   ]
  },
  {
   "cell_type": "code",
   "execution_count": null,
   "metadata": {},
   "outputs": [],
   "source": []
  }
 ],
 "metadata": {
  "kernelspec": {
   "display_name": "Python 3",
   "language": "python",
   "name": "python3"
  },
  "language_info": {
   "codemirror_mode": {
    "name": "ipython",
    "version": 3
   },
   "file_extension": ".py",
   "mimetype": "text/x-python",
   "name": "python",
   "nbconvert_exporter": "python",
   "pygments_lexer": "ipython3",
   "version": "3.7.4"
  }
 },
 "nbformat": 4,
 "nbformat_minor": 2
}
